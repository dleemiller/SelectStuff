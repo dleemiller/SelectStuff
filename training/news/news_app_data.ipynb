{
 "cells": [
  {
   "cell_type": "markdown",
   "id": "a308a81d-d1a6-4125-8478-6944eaa7d640",
   "metadata": {},
   "source": [
    "# Setup\n",
    "\n",
    "Select the model to use as teacher and student during prompt optimization.\n",
    "\n",
    "DSPy uses the litellm strings (eg. **ollama_chat/...**). \n",
    "\n",
    "For optimization, you would typically chose the stronger model as a teacher, for proposing instructions and generating bootstrapped samples. The student model is the model you intend to use during the task. These could also be the same model."
   ]
  },
  {
   "cell_type": "code",
   "execution_count": 1,
   "id": "016f9a20-b727-40c8-b36a-9bf9eb4d628f",
   "metadata": {},
   "outputs": [],
   "source": [
    "import os\n",
    "from dotenv import load_dotenv\n",
    "import dspy\n",
    "import logging\n",
    "\n",
    "logging.getLogger().setLevel(logging.INFO)\n",
    "logging.getLogger(\"httpx\").setLevel(logging.WARNING)\n",
    "logging.getLogger(\"LiteLLM\").setLevel(logging.WARNING)\n",
    "\n",
    "# set your api key (if needed)\n",
    "load_dotenv(\"../../.env\")\n",
    "APIKEY = os.getenv(\"APIKEY\")\n",
    "\n",
    "# set your model (litellm model strings)\n",
    "model_id = \"openrouter/deepseek/deepseek-chat\"\n",
    "lm = dspy.LM(model_id, api_key=APIKEY, cache=True)\n",
    "dspy.configure(lm=lm)"
   ]
  },
  {
   "cell_type": "markdown",
   "id": "aebd552a-ad8a-4730-bb39-4cc6c07a9095",
   "metadata": {},
   "source": [
    "# Signatures\n",
    "\n",
    "Signatures are like DSPy's pydantic models. Describe the fields and docstrings as though they are prompts (they are).\n",
    "\n",
    "They will likely reflect the data in your table schema, but also could additional intermediate data structures in multi-hop patterns."
   ]
  },
  {
   "cell_type": "markdown",
   "id": "a9022cea-8a98-4673-8db6-85d1b61f4de5",
   "metadata": {},
   "source": [
    "### Initial prototype\n",
    "```python\n",
    "from typing import Literal, Optional\n",
    "\n",
    "\n",
    "class NewsAppSignatureExample(dspy.Signature):\n",
    "    text: str = dspy.InputField(desc=\"Text from an article for analysis\")\n",
    "    category: Literal[\"world\", \"entertainment\", \"science\", \"health\", \"business\", \"sports\", \"politics\", \"tech\"] = dspy.OutputField(desc=\"Article content category\")\n",
    "    title: str = dspy.OutputField(desc=\"Article title, when available. Otherwise create one\")\n",
    "    tags: list[str] = dspy.OutputField(desc=\"Tags for search and classification\")\n",
    "    notable_people: Optional[list[str]] = dspy.OutputField(desc=\"Names of notable people in the article\")\n",
    "    notable_organizations: Optional[list[str]] = dspy.OutputField(desc=\"Names of notable organizations in the article\")\n",
    "\n",
    "\n",
    "# system prompt goes in the docstring\n",
    "NewsAppSignatureExample.__doc__ = \"\"\"\n",
    "You are provided with the text of a news article. Help provide the requested information for catalogging.\n",
    "\"\"\"\n",
    "```"
   ]
  },
  {
   "cell_type": "markdown",
   "id": "f037e3db-8f6e-4173-b5b7-2fc6df0c979a",
   "metadata": {},
   "source": [
    "With some good examples in hand, I refined an expanded list with ChatGPT."
   ]
  },
  {
   "cell_type": "code",
   "execution_count": 2,
   "id": "ef0fea67-2f38-4a63-acb6-f14580d1d2d9",
   "metadata": {},
   "outputs": [],
   "source": [
    "from news_app import NewsAppSignature"
   ]
  },
  {
   "cell_type": "markdown",
   "id": "278cf27a-ab1e-4d04-b478-5dbd1fbd0b3f",
   "metadata": {},
   "source": [
    "# Run the program\n",
    "\n",
    "I like the natural code style of writing a DSPy signature. A pydantic model becomes the prompt.\n",
    "\n",
    "`Literal` type + LLM = classifier (cool!)\n",
    "\n",
    "We can already try it out, using the ChainOfThought predictor to run the program."
   ]
  },
  {
   "cell_type": "code",
   "execution_count": 7,
   "id": "7eb03ce3-c352-4510-91b3-e600a885cc52",
   "metadata": {},
   "outputs": [],
   "source": [
    "text = \"\"\"\n",
    "Business Briefing Dec. 2, 2015\n",
    "Nokia shareholders overwhelmingly approved the acquisition of the ailing French telecom Alcatel-Lucent, removing one of the last hurdles to a 15.6 billion euro ($16.5 billion) deal that will make Nokia a market leader in networks.\n",
    "In October, Nokia said it would pay 4 billion to shareholders as the company raised its outlook for the year.\n",
    "Rajeev Suri, Nokias chief executive, said he was delighted by shareholders recognizing the long-term value creation opportunity of the deal, which is expected to close during the first quarter of 2016.\n",
    "\"\"\""
   ]
  },
  {
   "cell_type": "code",
   "execution_count": 23,
   "id": "25a08ef1-b89a-43a9-a184-7397b298dce7",
   "metadata": {},
   "outputs": [
    {
     "name": "stdout",
     "output_type": "stream",
     "text": [
      "Prediction(\n",
      "    reasoning=\"The article provides a business update on the acquisition of Alcatel-Lucent by Nokia, focusing on the approval from shareholders and the expected impact on the company's market position.\",\n",
      "    generated_title='Nokia Shareholders Approve Alcatel-Lucent Acquisition',\n",
      "    publication_date=datetime.date(2015, 12, 2),\n",
      "    primary_category='business',\n",
      "    content_type='press_release',\n",
      "    keywords=['Nokia', 'Alcatel-Lucent', 'acquisition', 'telecom', 'market leader', 'networks', 'shareholders', 'long-term value creation', 'first quarter of 2016'],\n",
      "    mentioned_people=['Rajeev Suri'],\n",
      "    mentioned_organizations=['Nokia', 'Alcatel-Lucent'],\n",
      "    mentioned_legislation=None,\n",
      "    mentioned_locations=None,\n",
      "    sentiment_tone='positive',\n",
      "    extracted_quotes=['Rajeev Suri, Nokias chief executive, said he was delighted by shareholders recognizing the long-term value creation opportunity of the deal.']\n",
      ")\n"
     ]
    }
   ],
   "source": [
    "catalog = dspy.ChainOfThought(NewsAppSignature)\n",
    "catalog_item = catalog(article_text=text)\n",
    "print(catalog_item)"
   ]
  },
  {
   "cell_type": "markdown",
   "id": "22cfcf17-a0dd-43b4-94e1-534769e3ecb2",
   "metadata": {},
   "source": [
    "# Generating training data\n",
    "\n",
    "We'll rely on \"best of n\" scaling to help create synthetic data for our application. Then we'll manually review ~100 examples we created for training.\n",
    "\n",
    "\n",
    "## A basic test time scaling\n",
    "\n",
    "I'll generate some training data using a simplistic best-of-n style test time scaling. Aggregating all of the types is a bit more challenging, so I've done that in the `aggregate/` folder as a module that I can work on further.\n",
    "\n",
    "Depending on where you are running your LLM calls, you might choose the serial or parallel methods below."
   ]
  },
  {
   "cell_type": "code",
   "execution_count": 5,
   "id": "84fca1d4-995b-4e23-8cae-f95cf0bff7d2",
   "metadata": {},
   "outputs": [],
   "source": [
    "from dspy import Parallel, ChainOfThought\n",
    "from typing import List, Literal\n",
    "import tqdm\n",
    "\n",
    "def generate_candidates_serial(text, n=8):\n",
    "    \"\"\" Run in serial \"\"\"\n",
    "    return [catalog(article_text=text) for _ in range(n)]\n",
    "\n",
    "\n",
    "def generate_candidates_parallel(text, n=8, num_threads=2):\n",
    "    \"\"\" Run in parallel \"\"\"\n",
    "    parallel_executor = dspy.Parallel(num_threads=num_threads)\n",
    "    exec_pairs = [(catalog, {'article_text': text}) for _ in range(n)]\n",
    "    results = parallel_executor.forward(exec_pairs)\n",
    "    \n",
    "    return results"
   ]
  },
  {
   "cell_type": "markdown",
   "id": "bd902b8d-a9c6-435f-a532-11a0fea6090b",
   "metadata": {},
   "source": [
    "### Aggregation\n",
    "\n",
    "We need to aggregate by each field to obtain consensus results. For lists, we fuzzy deduplicate and then set a threshold for N minimum occurrences for acceptence. We are targeting aggregation from 8 outputs.\n",
    "\n",
    "I've modularized the code and imported it here, since it's a bit long and not especially interesting."
   ]
  },
  {
   "cell_type": "code",
   "execution_count": 6,
   "id": "35393f63-d9ee-4b6f-aab7-da90e213d9c4",
   "metadata": {},
   "outputs": [],
   "source": [
    "import sys\n",
    "sys.path.append(\"..\")\n",
    "\n",
    "from aggregate.aggregate import LLMOutputAggregator"
   ]
  },
  {
   "cell_type": "markdown",
   "id": "f4e6798a-765f-4bc0-9e55-dbe321970efe",
   "metadata": {},
   "source": [
    "```python\n",
    "from typing import List, Optional, Literal, Dict, Any, Union\n",
    "from collections import Counter\n",
    "import textdistance\n",
    "import itertools\n",
    "from pydantic import ValidationError\n",
    "from typing import get_origin, get_args, Union\n",
    "\n",
    "def is_optional_field(type_hint) -> bool:\n",
    "    \"\"\"\n",
    "    Determines if a type hint is Optional, i.e., Union[X, None].\n",
    "    \"\"\"\n",
    "    return get_origin(type_hint) is Union and type(None) in get_args(type_hint)\n",
    "\n",
    "def aggregate_signatures(text, predictions: List[Any], threshold: int = 2, debug: bool = False) -> NewsAppSignature:\n",
    "    \"\"\"\n",
    "    Aggregates multiple Prediction objects into a single NewsAppSignature.\n",
    "    \n",
    "    Args:\n",
    "        predictions (List[Any]): A list of Prediction objects.\n",
    "        threshold (int): Minimum number of occurrences for a cluster to be included.\n",
    "    \n",
    "    Returns:\n",
    "        NewsAppSignature: The aggregated signature.\n",
    "    \n",
    "    Raises:\n",
    "        ValueError: If required fields are missing or validation fails.\n",
    "    \"\"\"\n",
    "    if not predictions:\n",
    "        raise ValueError(\"No predictions to aggregate.\")\n",
    "\n",
    "    aggregated_fields: Dict[str, Any] = {}\n",
    "    \n",
    "    # Helper function for majority voting\n",
    "    def majority_vote(values: List[Any]) -> Any:\n",
    "        counter = Counter(values)\n",
    "        if debug:\n",
    "            print(counter)\n",
    "        most_common, count = counter.most_common(1)[0]\n",
    "        return most_common\n",
    "\n",
    "    # Helper function for clustering similar strings with frequency threshold\n",
    "    def cluster_strings_with_threshold(strings: List[str], threshold: int, similarity_threshold: float = 0.6) -> List[str]:\n",
    "        \"\"\"\n",
    "        Clusters similar strings based on Jaccard similarity and filters clusters based on frequency threshold.\n",
    "        \n",
    "        Args:\n",
    "            strings (List[str]): List of strings to cluster.\n",
    "            threshold (int): Minimum number of occurrences for a cluster to be included.\n",
    "            similarity_threshold (float): Jaccard similarity threshold for clustering.\n",
    "        \n",
    "        Returns:\n",
    "            List[str]: List of representative strings from clusters that meet the threshold.\n",
    "        \"\"\"\n",
    "        clusters = []\n",
    "        for string in strings:\n",
    "            added = False\n",
    "            for cluster in clusters:\n",
    "                # Compare with the first item in the cluster\n",
    "                similarity = textdistance.jaccard.normalized_similarity(\n",
    "                    set(string.lower().split()), set(cluster[0].lower().split())\n",
    "                )\n",
    "                if similarity >= similarity_threshold:\n",
    "                    cluster.append(string)\n",
    "                    added = True\n",
    "                    break\n",
    "            if not added:\n",
    "                clusters.append([string])\n",
    "        \n",
    "        # Filter clusters based on threshold\n",
    "        if debug:\n",
    "            print(clusters)\n",
    "        filtered_clusters = [cluster for cluster in clusters if len(cluster) >= threshold]\n",
    "        \n",
    "        # Return one representative from each filtered cluster\n",
    "        return [cluster[0] for cluster in filtered_clusters]\n",
    "    \n",
    "    # Iterate over each field in the NewsAppSignature\n",
    "    for field_name, field_type in NewsAppSignature.__annotations__.items():\n",
    "        # Special handling for 'article_text' since it's turned off\n",
    "        if field_name == \"article_text\":\n",
    "            # Set 'article_text' to an empty string as per user's instruction\n",
    "            aggregated_fields[field_name] = text\n",
    "            continue\n",
    "\n",
    "        # Collect all non-None values for the current field\n",
    "        field_values = [getattr(pred, field_name, None) for pred in predictions]\n",
    "        field_values = [val for val in field_values if val is not None]\n",
    "\n",
    "        if not field_values:\n",
    "            # Determine if the field is optional\n",
    "            if is_optional_field(field_type):\n",
    "                aggregated_fields[field_name] = None\n",
    "            else:\n",
    "                # For required fields with no values, raise an error\n",
    "                raise ValueError(f\"No values found for required field '{field_name}' during aggregation.\")\n",
    "            continue\n",
    "\n",
    "        # Determine the field type for aggregation\n",
    "        origin_type = get_origin(field_type)\n",
    "        args_type = get_args(field_type)\n",
    "\n",
    "        # Handle Literal types\n",
    "        if origin_type is Literal:\n",
    "            # Majority voting for Literal fields\n",
    "            aggregated_fields[field_name] = majority_vote(field_values)\n",
    "        elif isinstance(field_values[0], str):\n",
    "            # Majority voting for single-string fields\n",
    "            aggregated_fields[field_name] = majority_vote(field_values)\n",
    "        elif isinstance(field_values[0], list):\n",
    "            # Flatten all lists\n",
    "            flattened = list(itertools.chain.from_iterable(field_values))\n",
    "            # Cluster similar strings with frequency threshold\n",
    "            clustered = cluster_strings_with_threshold(flattened, threshold=threshold)\n",
    "            aggregated_fields[field_name] = clustered\n",
    "        else:\n",
    "            # Handle other types if necessary\n",
    "            aggregated_fields[field_name] = majority_vote(field_values)\n",
    "\n",
    "    # Instantiate the aggregated NewsAppSignature with all fields\n",
    "    try:\n",
    "        aggregated_signature = NewsAppSignature(**aggregated_fields)\n",
    "    except ValidationError as ve:\n",
    "        # Extract detailed validation errors\n",
    "        raise ValueError(f\"Error creating aggregated NewsAppSignature: {ve}\")\n",
    "\n",
    "    return aggregated_signature\n",
    "```"
   ]
  },
  {
   "cell_type": "markdown",
   "id": "0319c68b-3229-4e5a-b46d-ce345d6fcd56",
   "metadata": {},
   "source": [
    "```python\n",
    "consensus = aggregate_signatures(text, results, debug=True, threshold=4)\n",
    "consensus\n",
    "```"
   ]
  },
  {
   "cell_type": "markdown",
   "id": "b65c8957-bdd1-4256-b115-24f975d87f47",
   "metadata": {},
   "source": [
    "## Process a bunch of data\n",
    "\n",
    "We can load `ag_news` to create our synthetic training data, and process ~100 rows.\n",
    "\n",
    "I'll save the save the results as I go. Quick and dirty, just restart if it fails."
   ]
  },
  {
   "cell_type": "code",
   "execution_count": 7,
   "id": "c7694045-7294-497f-bc2f-db4a39076e96",
   "metadata": {},
   "outputs": [],
   "source": [
    "from datasets import load_dataset\n",
    "\n",
    "# Load a diverse news dataset (e.g., \"ag_news\")\n",
    "dataset = load_dataset(\"valurank/News_Articles_Categorization\", split=\"train\")"
   ]
  },
  {
   "cell_type": "markdown",
   "id": "8073ed2f-e6d5-447a-a1e7-797beb940add",
   "metadata": {},
   "source": [
    "### Utilities for tracking the dataset offset"
   ]
  },
  {
   "cell_type": "code",
   "execution_count": 8,
   "id": "8c166f1c-68fe-46a8-8a9f-5f00cac3716d",
   "metadata": {},
   "outputs": [],
   "source": [
    "import json\n",
    "import hashlib\n",
    "import os\n",
    "import tqdm\n",
    "\n",
    "# Define the number of articles and samples\n",
    "num_articles = 100\n",
    "samples_per_article = 8\n",
    "\n",
    "# Define the output directory\n",
    "output_dir = \"training_data\"\n",
    "\n",
    "# Create the output directory if it doesn't exist\n",
    "os.makedirs(output_dir, exist_ok=True)\n",
    "\n",
    "# Define a file to keep track of progress (offset)\n",
    "progress_file = os.path.join(output_dir, \"progress.txt\")\n",
    "\n",
    "# Function to generate a non-cryptographic hash (e.g., MD5) of a JSON string\n",
    "def generate_hash(json_str: str) -> str:\n",
    "    return hashlib.md5(json_str.encode('utf-8')).hexdigest()\n",
    "\n",
    "# Function to load the current offset\n",
    "def load_offset() -> int:\n",
    "    if os.path.exists(progress_file):\n",
    "        with open(progress_file, 'r') as f:\n",
    "            try:\n",
    "                offset = int(f.read().strip())\n",
    "                return offset\n",
    "            except ValueError:\n",
    "                return 0\n",
    "    return 0\n",
    "\n",
    "# Function to save the current offset\n",
    "def save_offset(offset: int):\n",
    "    with open(progress_file, 'w') as f:\n",
    "        f.write(str(offset))\n"
   ]
  },
  {
   "cell_type": "markdown",
   "id": "f9b5e149-c4c6-48a5-836a-fb3c49759da6",
   "metadata": {},
   "source": [
    "### Best-Of-N Processing Loop"
   ]
  },
  {
   "cell_type": "code",
   "execution_count": null,
   "id": "2d1c3542-83ae-4782-8a85-663ad055c128",
   "metadata": {},
   "outputs": [],
   "source": [
    "# Initialize the starting offset\n",
    "start_offset = load_offset()\n",
    "\n",
    "# Iterate over the specified number of articles starting from the offset\n",
    "for i in tqdm.tqdm(range(start_offset, num_articles), desc=\"Processing Articles\", total=num_articles - start_offset):\n",
    "    try:\n",
    "        article = dataset[i]\n",
    "        text = article['Text']\n",
    "        \n",
    "        # Generate multiple predictions\n",
    "        # candidates = generate_candidates_serial(text, n=samples_per_article)\n",
    "        candidates = generate_candidates_parallel(text, n=samples_per_article)\n",
    "        \n",
    "        # Aggregate predictions to form consensus\n",
    "        candidates_with_text = []\n",
    "        for c in [c.toDict() for c in candidates]:\n",
    "            c.update({\"article_text\": text})\n",
    "            candidates_with_text.append(c)\n",
    "        candidates_with_text\n",
    "        consensus = LLMOutputAggregator.aggregate(\n",
    "            NewsAppSignature, candidates_with_text, threshold=3\n",
    "        )\n",
    "        \n",
    "        # Convert consensus to JSON string\n",
    "        consensus_json = consensus.model_dump_json()\n",
    "        \n",
    "        # Generate filename using hash of JSON string\n",
    "        filename_hash = generate_hash(consensus_json)\n",
    "        filename = f\"{filename_hash}.json\"\n",
    "        file_path = os.path.join(output_dir, filename)\n",
    "        \n",
    "        # Save the JSON string to the file\n",
    "        with open(file_path, 'w', encoding='utf-8') as f:\n",
    "            f.write(consensus_json)\n",
    "        \n",
    "        # Update the progress offset\n",
    "        save_offset(i + 1)\n",
    "        \n",
    "    except Exception as e:\n",
    "        print(f\"Error processing article {i}: {e}\")\n",
    "        # Optionally, log the error to a file\n",
    "        error_log = os.path.join(output_dir, \"error_log.txt\")\n",
    "        with open(error_log, 'a') as f:\n",
    "            f.write(f\"Article {i}: {e}\\n\")\n",
    "        # Continue with the next article\n",
    "        continue\n"
   ]
  },
  {
   "cell_type": "markdown",
   "id": "7cc33d81-cb2f-445c-8570-4f1f475b946f",
   "metadata": {},
   "source": [
    "## Review data\n",
    "\n",
    "(This is done in the review tool.)"
   ]
  },
  {
   "cell_type": "markdown",
   "id": "3d694e4c-92c0-46b5-8ee3-d509e3f2ba04",
   "metadata": {},
   "source": [
    "## Load data"
   ]
  },
  {
   "cell_type": "code",
   "execution_count": 3,
   "id": "d2f01875-1130-4652-a338-7376779c6cf3",
   "metadata": {},
   "outputs": [],
   "source": [
    "import glob\n",
    "import json\n",
    "from datetime import datetime\n",
    "\n",
    "data = []\n",
    "for file in glob.glob(\"training_data/accepted/*.json\"):\n",
    "    with open(file, \"r\") as fh:\n",
    "        tmp = json.load(fh)\n",
    "\n",
    "        # convert to date\n",
    "        tmp[\"publication_date\"] = datetime.strptime(tmp[\"publication_date\"], \"%Y-%m-%d\").date() if tmp[\"publication_date\"] else None\n",
    "\n",
    "        # remove reasoning from example\n",
    "        if \"reasoning\" in tmp:\n",
    "            del tmp[\"reasoning\"]\n",
    "\n",
    "        e = dspy.Example(tmp).with_inputs(\"article_text\")\n",
    "        data.append(e)"
   ]
  },
  {
   "cell_type": "code",
   "execution_count": 4,
   "id": "fdc498dd-27b4-4e18-9681-9c3e6e17f6b6",
   "metadata": {},
   "outputs": [
    {
     "data": {
      "text/plain": [
       "Example({'article_text': 'Elon Musk, Amber Heard Something\\'s Fishy On Wrapped-Up Sushi Last we heard, Elon Musk and Amber Heard were \"not back together\" even though they kiss goodbye and dance real close ... sorry, we\\'re not buying that now. Amber and Elon went on a sushi date Monday in WeHo, and looked like the full-blown hand-holding couple that\\'s definitely on again. But that\\'s only because that\\'s exactly what they are -- no matter how many times they try to say they\\'re not reunited. We broke the story ... Elon and Amber started hanging out again this past fall ... after announcing their split in the summer. Since then, they\\'ve smooched and gone dancing together. If it looks like a reunited duck, walks like a reunited duck ... TMZ.com', 'generated_title': 'Elon Musk and Amber Heard Spark Reunion Rumors with Sushi Date in WeHo', 'publication_date': None, 'primary_category': 'entertainment', 'content_type': 'reporting', 'keywords': ['Elon Musk', 'Amber Heard', 'sushi date', 'WeHo', 'reunion rumors', 'relationship', 'reconciliation', 'TMZ'], 'mentioned_people': ['Elon Musk', 'Amber Heard'], 'mentioned_organizations': None, 'mentioned_legislation': None, 'mentioned_locations': ['West Hollywood', 'WeHo'], 'sentiment_tone': 'neutral', 'extracted_quotes': []}) (input_keys={'article_text'})"
      ]
     },
     "execution_count": 4,
     "metadata": {},
     "output_type": "execute_result"
    }
   ],
   "source": [
    "data[0]"
   ]
  },
  {
   "cell_type": "code",
   "execution_count": 5,
   "id": "c626b178-4155-42ad-9c83-ad9aa28bc382",
   "metadata": {},
   "outputs": [
    {
     "name": "stderr",
     "output_type": "stream",
     "text": [
      "2025/01/11 08:53:11 INFO dspy.teleprompt.mipro_optimizer_v2: \n",
      "RUNNING WITH THE FOLLOWING MEDIUM AUTO RUN SETTINGS:\n",
      "num_trials: 25\n",
      "minibatch: True\n",
      "num_candidates: 19\n",
      "valset size: 80\n",
      "\n",
      "2025/01/11 08:53:11 INFO dspy.teleprompt.mipro_optimizer_v2: \n",
      "==> STEP 1: BOOTSTRAP FEWSHOT EXAMPLES <==\n",
      "2025/01/11 08:53:11 INFO dspy.teleprompt.mipro_optimizer_v2: These will be used as few-shot example candidates for our program and for creating instructions.\n",
      "\n",
      "2025/01/11 08:53:11 INFO dspy.teleprompt.mipro_optimizer_v2: Bootstrapping N=19 sets of demonstrations...\n"
     ]
    },
    {
     "name": "stdout",
     "output_type": "stream",
     "text": [
      "Bootstrapping set 1/19\n",
      "Bootstrapping set 2/19\n",
      "Bootstrapping set 3/19\n"
     ]
    },
    {
     "name": "stderr",
     "output_type": "stream",
     "text": [
      " 10%|█████████████                                                                                                                      | 2/20 [00:00<00:01, 12.60it/s]\n"
     ]
    },
    {
     "name": "stdout",
     "output_type": "stream",
     "text": [
      "Bootstrapped 2 full traces after 2 examples for up to 1 rounds, amounting to 2 attempts.\n",
      "Bootstrapping set 4/19\n"
     ]
    },
    {
     "name": "stderr",
     "output_type": "stream",
     "text": [
      " 10%|█████████████                                                                                                                      | 2/20 [00:00<00:00, 37.28it/s]\n"
     ]
    },
    {
     "name": "stdout",
     "output_type": "stream",
     "text": [
      "Bootstrapped 2 full traces after 2 examples for up to 1 rounds, amounting to 2 attempts.\n",
      "Bootstrapping set 5/19\n"
     ]
    },
    {
     "name": "stderr",
     "output_type": "stream",
     "text": [
      "  5%|██████▌                                                                                                                            | 1/20 [00:00<00:00, 33.14it/s]\n"
     ]
    },
    {
     "name": "stdout",
     "output_type": "stream",
     "text": [
      "Bootstrapped 1 full traces after 1 examples for up to 1 rounds, amounting to 1 attempts.\n",
      "Bootstrapping set 6/19\n"
     ]
    },
    {
     "name": "stderr",
     "output_type": "stream",
     "text": [
      "  5%|██████▌                                                                                                                            | 1/20 [00:00<00:00, 53.18it/s]\n"
     ]
    },
    {
     "name": "stdout",
     "output_type": "stream",
     "text": [
      "Bootstrapped 1 full traces after 1 examples for up to 1 rounds, amounting to 1 attempts.\n",
      "Bootstrapping set 7/19\n"
     ]
    },
    {
     "name": "stderr",
     "output_type": "stream",
     "text": [
      "  5%|██████▌                                                                                                                            | 1/20 [00:00<00:00, 50.79it/s]\n"
     ]
    },
    {
     "name": "stdout",
     "output_type": "stream",
     "text": [
      "Bootstrapped 1 full traces after 1 examples for up to 1 rounds, amounting to 1 attempts.\n",
      "Bootstrapping set 8/19\n"
     ]
    },
    {
     "name": "stderr",
     "output_type": "stream",
     "text": [
      "  5%|██████▌                                                                                                                            | 1/20 [00:00<00:00, 58.61it/s]\n"
     ]
    },
    {
     "name": "stdout",
     "output_type": "stream",
     "text": [
      "Bootstrapped 1 full traces after 1 examples for up to 1 rounds, amounting to 1 attempts.\n",
      "Bootstrapping set 9/19\n"
     ]
    },
    {
     "name": "stderr",
     "output_type": "stream",
     "text": [
      "  5%|██████▌                                                                                                                            | 1/20 [00:00<00:00, 35.12it/s]\n"
     ]
    },
    {
     "name": "stdout",
     "output_type": "stream",
     "text": [
      "Bootstrapped 1 full traces after 1 examples for up to 1 rounds, amounting to 1 attempts.\n",
      "Bootstrapping set 10/19\n"
     ]
    },
    {
     "name": "stderr",
     "output_type": "stream",
     "text": [
      " 10%|█████████████                                                                                                                      | 2/20 [00:00<00:00, 49.15it/s]\n"
     ]
    },
    {
     "name": "stdout",
     "output_type": "stream",
     "text": [
      "Bootstrapped 2 full traces after 2 examples for up to 1 rounds, amounting to 2 attempts.\n",
      "Bootstrapping set 11/19\n"
     ]
    },
    {
     "name": "stderr",
     "output_type": "stream",
     "text": [
      "  5%|██████▌                                                                                                                            | 1/20 [00:00<00:00, 36.42it/s]\n"
     ]
    },
    {
     "name": "stdout",
     "output_type": "stream",
     "text": [
      "Bootstrapped 1 full traces after 1 examples for up to 1 rounds, amounting to 1 attempts.\n",
      "Bootstrapping set 12/19\n"
     ]
    },
    {
     "name": "stderr",
     "output_type": "stream",
     "text": [
      " 10%|█████████████                                                                                                                      | 2/20 [00:00<00:00, 48.42it/s]\n"
     ]
    },
    {
     "name": "stdout",
     "output_type": "stream",
     "text": [
      "Bootstrapped 2 full traces after 2 examples for up to 1 rounds, amounting to 2 attempts.\n",
      "Bootstrapping set 13/19\n"
     ]
    },
    {
     "name": "stderr",
     "output_type": "stream",
     "text": [
      " 10%|█████████████                                                                                                                      | 2/20 [00:00<00:00, 62.46it/s]\n"
     ]
    },
    {
     "name": "stdout",
     "output_type": "stream",
     "text": [
      "Bootstrapped 2 full traces after 2 examples for up to 1 rounds, amounting to 2 attempts.\n",
      "Bootstrapping set 14/19\n"
     ]
    },
    {
     "name": "stderr",
     "output_type": "stream",
     "text": [
      "  5%|██████▌                                                                                                                            | 1/20 [00:00<00:00, 53.61it/s]\n"
     ]
    },
    {
     "name": "stdout",
     "output_type": "stream",
     "text": [
      "Bootstrapped 1 full traces after 1 examples for up to 1 rounds, amounting to 1 attempts.\n",
      "Bootstrapping set 15/19\n"
     ]
    },
    {
     "name": "stderr",
     "output_type": "stream",
     "text": [
      " 10%|█████████████                                                                                                                      | 2/20 [00:00<00:00, 64.21it/s]\n"
     ]
    },
    {
     "name": "stdout",
     "output_type": "stream",
     "text": [
      "Bootstrapped 2 full traces after 2 examples for up to 1 rounds, amounting to 2 attempts.\n",
      "Bootstrapping set 16/19\n"
     ]
    },
    {
     "name": "stderr",
     "output_type": "stream",
     "text": [
      "  5%|██████▌                                                                                                                            | 1/20 [00:00<00:00, 59.53it/s]\n"
     ]
    },
    {
     "name": "stdout",
     "output_type": "stream",
     "text": [
      "Bootstrapped 1 full traces after 1 examples for up to 1 rounds, amounting to 1 attempts.\n",
      "Bootstrapping set 17/19\n"
     ]
    },
    {
     "name": "stderr",
     "output_type": "stream",
     "text": [
      " 10%|█████████████                                                                                                                      | 2/20 [00:00<00:00, 56.56it/s]\n"
     ]
    },
    {
     "name": "stdout",
     "output_type": "stream",
     "text": [
      "Bootstrapped 2 full traces after 2 examples for up to 1 rounds, amounting to 2 attempts.\n",
      "Bootstrapping set 18/19\n"
     ]
    },
    {
     "name": "stderr",
     "output_type": "stream",
     "text": [
      "  5%|██████▌                                                                                                                            | 1/20 [00:00<00:00, 52.92it/s]\n"
     ]
    },
    {
     "name": "stdout",
     "output_type": "stream",
     "text": [
      "Bootstrapped 1 full traces after 1 examples for up to 1 rounds, amounting to 1 attempts.\n",
      "Bootstrapping set 19/19\n"
     ]
    },
    {
     "name": "stderr",
     "output_type": "stream",
     "text": [
      " 10%|█████████████                                                                                                                      | 2/20 [00:00<00:00, 52.30it/s]\n",
      "2025/01/11 08:53:12 INFO dspy.teleprompt.mipro_optimizer_v2: \n",
      "==> STEP 2: PROPOSE INSTRUCTION CANDIDATES <==\n",
      "2025/01/11 08:53:12 INFO dspy.teleprompt.mipro_optimizer_v2: We will use the few-shot examples from the previous step, a generated dataset summary, a summary of the program code, and a randomly selected prompting tip to propose instructions.\n"
     ]
    },
    {
     "name": "stdout",
     "output_type": "stream",
     "text": [
      "Bootstrapped 2 full traces after 2 examples for up to 1 rounds, amounting to 2 attempts.\n"
     ]
    },
    {
     "name": "stderr",
     "output_type": "stream",
     "text": [
      "2025/01/11 08:53:12 INFO dspy.teleprompt.mipro_optimizer_v2: \n",
      "Proposing instructions...\n",
      "\n",
      "2025/01/11 08:53:12 INFO dspy.teleprompt.mipro_optimizer_v2: Proposed Instructions for Predictor 0:\n",
      "\n",
      "2025/01/11 08:53:12 INFO dspy.teleprompt.mipro_optimizer_v2: 0: You are provided with the text of a news article.\n",
      "Help provide the requested information for cataloging and retrieval.\n",
      "Ensure information is focused on quality retrieval results -- accuracy, specificity, disambiguation.\n",
      "Correct simple grammar or formatting mistakes.\n",
      "\n",
      "2025/01/11 08:53:12 INFO dspy.teleprompt.mipro_optimizer_v2: 1: You are provided with the text of a news article and are tasked with categorizing and extracting relevant information to improve its discoverability and accuracy, including title, publication date, primary category, content type, keywords, mentioned people, organizations, legislation, locations, sentiment tone, and extracted quotes, while ensuring the output is accurate, specific, and disambiguated.\n",
      "\n",
      "2025/01/11 08:53:12 INFO dspy.teleprompt.mipro_optimizer_v2: 2: Help a language model analyze a news article and extract relevant information, such as title, publication date, category, content type, keywords, mentioned people and organizations, sentiment tone, and extracted quotes, while ensuring accuracy, specificity, and disambiguation, and correcting simple grammar or formatting mistakes.\n",
      "\n",
      "2025/01/11 08:53:12 INFO dspy.teleprompt.mipro_optimizer_v2: 3: You are provided with the text of a news article about a complex geopolitical topic, such as the consideration of a European Union nuclear weapons program. Help provide the requested information for cataloging and retrieval, focusing on accuracy, specificity, and disambiguation, while acknowledging the uncertainty and complexity of the topic.\n",
      "\n",
      "2025/01/11 08:53:12 INFO dspy.teleprompt.mipro_optimizer_v2: 4: To prompt a Language Model to better solve the task of extracting relevant information from a news article, you can instruct it to analyze the article's content, identify key entities, and provide a summary of the main points, while also ensuring accuracy, specificity, and disambiguation of the extracted information.\n",
      "\n",
      "2025/01/11 08:53:12 INFO dspy.teleprompt.mipro_optimizer_v2: 5: To improve the extraction of relevant information from news articles about the Zika virus and its effects on pregnancy, consider the following instruction:\n",
      "\n",
      "You are provided with the text of a news article about the Zika virus, its effects on pregnancy, or related topics. Please extract the article title, publication date, primary category, content type, keywords, mentioned people, mentioned organizations, mentioned legislation, mentioned locations, sentiment tone, and extracted quotes, ensuring accuracy, specificity, and disambiguation.\n",
      "\n",
      "2025/01/11 08:53:12 INFO dspy.teleprompt.mipro_optimizer_v2: 6: Help a Language Model analyze a news article and extract relevant information, such as reasoning, generated title, publication date, primary category, content type, keywords, mentioned people, mentioned organizations, mentioned legislation, mentioned locations, sentiment tone, and extracted quotes, while ensuring accuracy, specificity, and disambiguation.\n",
      "\n",
      "2025/01/11 08:53:12 INFO dspy.teleprompt.mipro_optimizer_v2: 7: To improve the Language Model's performance in extracting relevant information from news articles, provide it with a structured set of instructions that emphasize the importance of accuracy, specificity, and disambiguation, while also encouraging the model to correct simple grammar or formatting mistakes.\n",
      "\n",
      "2025/01/11 08:53:12 INFO dspy.teleprompt.mipro_optimizer_v2: 8: To improve the accuracy and quality of the extracted information, use a combination of natural language processing techniques and machine learning algorithms to analyze the news article, and then ask the Language Model to:\n",
      "- Identify the main arguments and claims made in the article\n",
      "- Extract relevant keywords and phrases that convey the author's tone and sentiment\n",
      "- Disambiguate technical terms and jargon to provide accurate context\n",
      "- Correct grammatical errors and formatting mistakes\n",
      "- Provide a clear and concise summary of the article's main points\n",
      "- Classify the article into relevant categories and topics\n",
      "- Identify potential biases and try to mitigate them\n",
      "\n",
      "2025/01/11 08:53:12 INFO dspy.teleprompt.mipro_optimizer_v2: 9: Help analyze a news article to extract relevant metadata, including title, publication date, category, content type, keywords, mentioned people and organizations, and sentiment tone, ensuring accuracy, specificity, and disambiguation, while correcting simple grammar or formatting mistakes.\n",
      "\n",
      "2025/01/11 08:53:12 INFO dspy.teleprompt.mipro_optimizer_v2: 10: You are given the text of a news article and asked to extract relevant information, including title, publication date, primary category, content type, keywords, mentioned people, organizations, legislation, locations, sentiment tone, and extracted quotes, all while ensuring accuracy, specificity, and disambiguation, and correcting simple grammar or formatting mistakes.\n",
      "\n",
      "2025/01/11 08:53:12 INFO dspy.teleprompt.mipro_optimizer_v2: 11: You are a digital librarian tasked with cataloging and retrieving news articles for a vast database. Help provide the requested information for accurate and efficient retrieval, ensuring that the extracted data is accurate, specific, and disambiguated. Correct simple grammar or formatting mistakes.\n",
      "\n",
      "2025/01/11 08:53:12 INFO dspy.teleprompt.mipro_optimizer_v2: 12: To analyze a news article and extract relevant metadata, including title, publication date, primary category, content type, keywords, mentioned people, organizations, legislation, locations, sentiment tone, and extracted quotes, while ensuring accuracy, specificity, and disambiguation, and correcting simple grammar or formatting mistakes.\n",
      "\n",
      "2025/01/11 08:53:12 INFO dspy.teleprompt.mipro_optimizer_v2: 13: You are about to trigger a potentially historic moment in European politics. The United States has just announced a drastic shift in its stance on NATO, and the fate of the European Union hangs in the balance. The European Union is considering a bold move to establish its own nuclear deterrent, and the outcome will have far-reaching implications for global security. Help the EU leaders make a crucial decision by providing the requested information for cataloging and retrieval. Ensure accuracy, specificity, and disambiguation in your response, as the future of European politics depends on it. Correct any simple grammar or formatting mistakes to ensure the information is reliable and trustworthy.\n",
      "\n",
      "2025/01/11 08:53:12 INFO dspy.teleprompt.mipro_optimizer_v2: 14: You are provided with the text of a news article from a reputable source, such as The New York Times or The Wall Street Journal, covering a range of topics including business, technology, sports, and social issues. Help extract the following information: title, publication date, primary category, content type, keywords, mentioned people, mentioned organizations, mentioned legislation, mentioned locations, sentiment tone, and extracted quotes. Ensure the extracted information is accurate, specific, and disambiguated, and correct any simple grammar or formatting mistakes.\n",
      "\n",
      "2025/01/11 08:53:12 INFO dspy.teleprompt.mipro_optimizer_v2: 15: You are a news article analyst tasked with extracting key information from a given text. Help provide the requested information for cataloging and retrieval, focusing on accuracy, specificity, and disambiguation. Ensure information is free from simple grammar or formatting mistakes.\n",
      "\n",
      "2025/01/11 08:53:12 INFO dspy.teleprompt.mipro_optimizer_v2: 16: Help analyze a news article and extract relevant information, including primary category, content type, keywords, mentioned people, mentioned organizations, mentioned legislation, mentioned locations, sentiment tone, and extracted quotes, ensuring accuracy, specificity, and disambiguation, and correcting simple grammar or formatting mistakes.\n",
      "\n",
      "2025/01/11 08:53:12 INFO dspy.teleprompt.mipro_optimizer_v2: 17: You should instruct the Language Model to provide a detailed analysis of the news article, including the article title, publication date, primary category, content type, keywords, mentioned people, organizations, legislation, locations, sentiment tone, and extracted quotes, while ensuring accuracy, specificity, and disambiguation in the extracted metadata.\n",
      "\n",
      "2025/01/11 08:53:12 INFO dspy.teleprompt.mipro_optimizer_v2: 18: Imagine that you're a journalist working for a prominent news organization, and you've been tasked with analyzing a recent article about a breakthrough discovery in the field of atmospheric science. The article discusses how ancient \"bright nights\" could have been possible due to a phenomenon called zonal waves in the Earth's atmosphere. However, the article lacks specific details about the discovery, and you need to extract the relevant information to write a compelling story.\n",
      "\n",
      "Your task is to analyze the article, identify the key entities and concepts, and generate the required metadata, including title, publication date, primary category, content type, keywords, mentioned people, mentioned organizations, mentioned legislation, mentioned locations, sentiment tone, and extracted quotes.\n",
      "\n",
      "You have 30 minutes to complete this task. The article is attached to this message. Please provide the requested information for cataloging and retrieval, ensuring accuracy, specificity, and disambiguation. Additionally, correct any simple grammar or formatting mistakes.\n",
      "\n",
      "2025/01/11 08:53:12 INFO dspy.teleprompt.mipro_optimizer_v2: \n",
      "\n",
      "2025/01/11 08:53:12 INFO dspy.teleprompt.mipro_optimizer_v2: Evaluating the default program...\n",
      "\n"
     ]
    },
    {
     "name": "stdout",
     "output_type": "stream",
     "text": [
      "Average Metric: 3.18 / 10 (31.8%):  12%|███████████▉                                                                                   | 10/80 [00:00<00:05, 12.96it/s]"
     ]
    },
    {
     "name": "stderr",
     "output_type": "stream",
     "text": [
      "2025/01/11 08:53:13 ERROR dspy.utils.parallelizer: Error processing item Example({'article_text': 'SharedElizabeth Wolf lives with her 81-year-old father and 65-year-old mother who both have dementia. Here, Elizabeth helps her mother, Nancy.Credit...Mark Makela for The New York TimesSlide 1 of 15 Elizabeth Wolf lives with her 81-year-old father and 65-year-old mother who both have dementia. Here, Elizabeth helps her mother, Nancy.Credit...Mark Makela for The New York TimesMarch 4, 2016In 2010, Elizabeth Wolf, then 30, was living in Vermont, working for a nonprofit and happily exploring new pursuits, from raising chickens to contra dancing.But after several disturbing phone calls from and about her parents, Louis and Nancy Brood, she moved back into the split-level in Mt. Laurel, N.J., where she and her siblings had grown up, with her now husband, Casey Wolf. She expected to arrange caregiving help for her parents, then return to Vermont. Five years later, she is still taking care of her 81-year-old father and 65-year-old mother, both with dementia. Ms. Wolf, who volunteers with the Alzheimers Assoication, writes about the experience at upsidedowndaughter.com. Her interview has been edited and condensed for space and clarity.My parents called me one day in March and started singing Happy Birthday. It was unsettling. My birthday is in May.My uncle called, too. He and my father had owned an upholstery shop in Philadelphia for 50 years, and it was really bothering him that my dad couldnt do simple math anymore.I dont remember all the doctors appointments that led to Dad seeing a neurologist, but I do remember the appointment where they subjected him to the mini-mental test. He came away from that examination with an Alzheimers diagnosis.We were very concerned about my mother, too. She was asking us the same questions over and over. I said Id talk to the teacher whose classroom she worked in as an aide.The teacher said, Your mother is basically not functioning. She just sits at a table in the back of the classroom and stares out the window.It had been going on for a long time, and we had all been so focused on my dad we had missed it. We ended up taking her to the same neurologist, and she got an Alzheimers diagnosis, too.I told Casey, Were going to come back for two months, October through December. It became apparent very soon that we would need to stay longer.The doctors told me that people with Alzheimers have an average life span, between diagnosis and death, of five to seven years. So I knew were in this for the long haul, whatever that looks like.Now, every morning, I wake up around 6 or 6:30. Ill bring Dad his medicine.I take Mom to the bathroom. I have to take her every couple of hours, otherwise we have what happened this morning, when theres not only a major accident, but the mess ends up everywhere and I have to get her in the bath.I prepare their breakfast. She takes medicine for diabetes, hypothyroidism, high blood pressure, and shes on seizure medication and two antipsychotics because she has hallucinations. She stopped swallowing pills willingly a few years ago we were having all-out wars. Now we hide them in chunks of banana.My dad goes to a day program for adults with Alzheimers and dementia. Five days a week, he gets picked up at 8:40 and comes back between 1 and 1:30.Im always looking for more activities to do with him. I found a local voice teacher, and once a week she plays the piano and they sing together, old songs he has in his deep memory recesses. All the Way. Some Enchanted Evening.My mom doesnt have much of an attention span for activities anymore. A lot of what we do all day is wander and sit and stare out the window.At night, we have a motion sensor so that any time their bedroom door opens if my mom has to go to the bathroom, shell wander into the hallway a receptor in our room bings. It goes off maybe six times a night, on average. Some nights it feels like every half-hour.One night recently my dad was so confused, up so many times, and I was exhausted and full of frustration and anger and overwhelming grief. I just went in there and cried in his arms, begging him, Please, go back to sleep. He didnt understand, but he was holding me and crying, too, and saying, Im so sorry. Ill do better. Ill do better.I dont know how to describe that feeling, where you just dont feel like you can go on anymore. And I know I have a lot of things on my side relative to other people in this situation. A supportive husband. Paid help.We just got a grant from the organization Hilarity for Charity. They gave us 25 hours of care a week for a year. We also have a caregiver from one of the state programs. So now we have help Mondays, Thursdays, Fridays and Sunday mornings.But most of the caregivers arent able to handle my mom in the bathroom or bathe her, so often theyre assisting me. And when I do have help, Im running around trying to do the other thousand things that need to happen to maintain a household. I also work part time from home.Most of my me time is spent going to the gym; I see a therapist and get acupuncture a couple of times a month, too. These are the things I do to stay alive.More than anything, the grief or loss I feel is in the form of loneliness. The isolation. I dont know how to relate to people my age.Once in a while I let myself think about what Ive given up. Casey and I decided not to have children, but I feel like a mother to my parents.I value the incredible intimacy I get to share with them. When I was a teenager, my mother was pretty critical; she ignored me for days at a time. I think she was overwhelmed by motherhood.Now, this role that we share, its changed the dynamic, the history of our relationship. However many years down the line, looking back, Ill think of the moments of tenderness I shared with her, every single day.There was a point in May of 2013 wed been here two and a half years when we had plans to move my parents into a facility. We were going to do a respite stay, and if they fit in, if it went well, wed sell the house.We did everything we could we brought couches and furniture from their bedroom to make the place feel homelike. But it wasnt home. For my dad, it lasted three days. He started having panic attacks, to the point where he was throwing up.He was still with it enough to call us. I remember getting a message from him, weeping. Its Daddy. Please, me and Mom want to come home.Everybody, including his doctor, said, You have to leave him, you have to let him adjust. I couldnt do it. I would never judge the people who do, but I couldnt.Theyve been here 40 years. All my dad ever wanted was this home. Who am I, if I take my dad from his home?', 'generated_title': \"Caring for Parents with Dementia: A Daughter's Journey\", 'publication_date': datetime.date(2016, 3, 4), 'primary_category': 'health', 'content_type': 'interview', 'keywords': ['dementia', 'caregiving', \"Alzheimer's\", 'family', 'health', 'elderly care', 'emotional toll', 'support systems'], 'mentioned_people': ['Elizabeth Wolf', 'Louis Brood', 'Nancy Brood', 'Casey Wolf'], 'mentioned_organizations': ['Alzheimers Association', 'Hilarity for Charity', \"Alzheimer's Association\"], 'mentioned_legislation': None, 'mentioned_locations': ['Vermont', 'Mt. Laurel, N.J.', 'Philadelphia'], 'sentiment_tone': 'neutral', 'extracted_quotes': ['My parents called me one day in March and started singing Happy Birthday. It was unsettling. My birthday is in May.', 'I just went in there and cried in his arms, begging him, Please, go back to sleep. He didnt understand, but he was holding me and crying, too, and saying, Im so sorry. Ill do better. Ill do better.', 'Its Daddy. Please, me and Mom want to come home.', 'I dont know how to describe that feeling, where you just dont feel like you can go on anymore.']}) (input_keys={'article_text'}): 1 validation error for nullable[date]\n",
      "  Input should be a valid date or datetime, invalid character in year [type=date_from_datetime_parsing, input_value='March 4, 2016', input_type=str]\n",
      "    For further information visit https://errors.pydantic.dev/2.10/v/date_from_datetime_parsing. Set `provide_traceback=True` to see the stack trace.\n"
     ]
    },
    {
     "name": "stdout",
     "output_type": "stream",
     "text": [
      "Average Metric: 11.18 / 33 (33.9%):  41%|██████████████████████████████████████▊                                                       | 33/80 [00:02<00:02, 16.37it/s]"
     ]
    },
    {
     "name": "stderr",
     "output_type": "stream",
     "text": [
      "2025/01/11 08:53:14 ERROR dspy.utils.parallelizer: Error processing item Example({'article_text': 'Feb. 6, 2014Credit...Associated PressRalph Kiner, baseballs vastly undersung slugger, who belted more home runs than anyone else over his 10-year career but whose achievements in the batters box were obscured by his decades in the broadcast booth, where he was one of the games most recognizable personalities, died on Thursday at home in Rancho Mirage, Calif. He was 91.The Baseball Hall of Fame, which inducted him in 1975, announced the death.Baseball fans who are short of retirement, especially those in New York, are familiar with Kiner as an announcer who spent half a century with the Mets, enlivening their broadcasts with shrewd analysis, amiable storytelling and memorable malapropisms beginning with their woeful first season in 1962.His genial, well-informed and occasionally tongue-twisted presence accompanied all of Mets history, from the verbal high jinks of Casey Stengel and the fielding high jinks of Marv Throneberry to the arrival of the fireballer Tom Seaver and the miraculous World Series championship of 1969, from the thrilling 1986 Series victory over the Red Sox to the dispiriting Subway Series loss to the Yankees in 2000 and the Madoff-poisoned, injury-riddled ill fortune of recent seasons.But long before he referred on the air to Gary Carter as Gary Cooper, declared that if Casey Stengel were still alive hed be spinning in his grave, or watched a long ball disappear from the park with the trademark call Going, going, gone, goodbye!, Kiner was one of the games great right-handed hitters.Cut short by a back injury, Kiners career on the field was among the most remarkable in baseball history, featuring a concentrated display of power exhibited by few other sluggers. Slow afoot and undistinguished as an outfielder, he was nonetheless among the signature stars of the baseball era immediately after World War II, in the same conversation with Joe DiMaggio, Ted Williams and Stan Musial.From 1946 to 1955, playing for the Pittsburgh Pirates, the Chicago Cubs and the Cleveland Indians, he totaled 369 home runs, twice hitting more than 50 in a season, and drove in 1,015 runs, an average of more than 100 a year.During his first seven seasons, all with Pittsburgh, Kiner led the National League in home runs every year, still a record streak for either league. (Twice he tied with Johnny Mize, once with Hank Sauer.)ImageCredit...Associated PressFrom 1947 to 1951, he had home run totals of 51, 40, 54, 47 and 42, becoming only the second player in history Babe Ruth was the first to hit at least 40 home runs in five consecutive seasons, and the third (after Ruth and Jimmie Foxx) to hit 100 over two consecutive seasons.From 1930, when Hack Wilson hit 56 homers for the Chicago Cubs, to baseballs steroid era in the 1990s, Kiners 54 homers in 1949 was the highest single-season total for a National Leaguer; Henry Aaron never matched him, nor did Willie Mays, Ernie Banks, Mike Schmidt or Willie McCovey, all Hall of Famers with more than 500 career homers.Kiner never made it to the World Series; the Pirates of his era were perpetually mediocre (or worse), and so were the Cubs. In 1955, traded to the American League for his last season, he got closest: the Indians finished second to the Yankees.For a time, Kiner was among baseballs highest-paid players. But after Pittsburghs dreadful 1952 season, when the teams record was 42-112 in spite of Kiners league-leading home run performance, Branch Rickey, the Pirates general manager, cut his salary, reportedly telling him, Son, we can finish last without you.His short career, along with his longtime residence at the bottom of the standings, perhaps explains Kiners relative lack of recognition. When he was finally elected to the Hall of Fame, in 1975, his 15th and final year of eligibility, he sneaked in by two votes, with 273 out of a possible 362.But Kiner was appreciated in other circles. Tall, good-looking and well spoken as a player, he aspired to the career in broadcasting that came to define him he was, in the parlance of the era, a highly eligible bachelor. Introduced to Elizabeth Taylor by Bing Crosby, who was a part owner of the Pirates, he escorted her to the Hollywood premiere of the 1949 war film Twelve OClock High, starring Gregory Peck. When the movie Angels in the Outfield (1951) was filmed at Pittsburghs Forbes Field, Kiner dated its star, Janet Leigh.His courtship of the tennis star Nancy Chaffee, winner of three consecutive national indoor championships, was avidly chronicled by gossip columnists. Their engagement was announced on the radio by Walter Winchell before Kiner actually proposed, and shortly after their marriage, in 1951, the bride wrote an article for The Saturday Evening Post (as told to Al Hirshberg) with the headline Why I Married Ralph Kiner.After she met him, tennis was no longer the most important thing in her life, Chaffee wrote.Even if invited, I wont go back to Wimbledon unless its agreeable to Ralph, she went on. Its too far from Forbes Field, where the Pirates play their home games. For that matter its too far from the cities I hope to visit as a ballplayers wife.ImageCredit...Louis RequenaKiner and Chaffee had three children in a 17-year marriage that ended in divorce in 1968. Chaffee later married the sportscaster Jack Whitaker; she died in 2002. Kiners second marriage, to Barbara George, also ended in divorce. A third marriage, to DiAnn Shugart, ended with her death in 2004, and a fourth, to Ann Benisch, ended in divorce. His survivors include his sons, Ralph and Scott; his daughters, Kathryn Chaffee Freeman, Tracee Kiner Jansen and Kimberlee Kiner; and 12 grandchildren.Ralph McPherran Kiner was born in Santa Rita, N.M., on Oct. 27, 1922. His father, a baker, died when Ralph was 4, and he moved with his mother, Beatrice, a nurse, to Alhambra, Calif., where he grew up playing ball. He signed with the Pirates after graduating from high school, playing two seasons and part of a third in the minor leagues before training as a Navy pilot during World War II. He served in the Pacific, assigned to search for Japanese submarines, though he acknowledged he did not see combat or much else.I was on a few patrols but, gosh, we didnt even spot a whale, he told The New York Times in 1947.At the start of that year, his second in the big leagues, the Pirates acquired the great slugger Hank Greenberg from the Detroit Tigers, and Greenberg became Kiners roommate and mentor (and later his best man at his wedding to Chaffee), advising him on his swing, his preparation, his work ethic.Greenbergs acquisition helped Kiner in more tangible ways as well. For one thing, Greenberg hit behind him in the batting order, protecting him, making sure he got better pitches to hit, and Kiner hit .313, the highest average of his career. Whats more, to accommodate Greenberg, the Pirates had modified Forbes Field, moving in the left field fence to bring it in line with other ballparks and installing the bullpens behind it, an area that came to be called Greenberg Gardens for the long balls the new Pirate was expected to plant there.But it was Kiner who was the primary beneficiary of the change, hitting 51 home runs. Playing what turned out to be his last season, Greenberg hit 25. Greenberg Gardens was rechristened Kiners Korner.The two men were reunited in 1955, when Greenberg, then the general manager of the Indians, acquired Kiner from the Cubs, a transaction complicated by Kiners curious decision to sign a contract for $40,000 a year, less than he was offered and far less than he made the previous year in Chicago, reported to be $65,000.Major league player representatives objected to the contract because it violated the agreement between players and club owners that a players salary could not be reduced by more than 25 percent in a season. Baseballs commissioner, Ford C. Frick, indicated that he would void the contract, and Kiner and Greenberg, who did not want to pay him so little in the first place, eventually renegotiated it.ImageCredit...Associated PressI did not have too good a year with the Cubs, and my salary might have been resented by some players, explained Kiner, who was among the players who fought owners for an improved pension plan. I thought if I had a good season with the Indians in 1955, I could more than make up the cut the following year. At first Greenberg was against it, but he then thought the publicity would be good. At no time did I have in mind to undermine the players. Everyone knows Ive been fighting for them for years.In Cleveland, his back problems worsened. He played only 113 games for the Indians in 1955 and hit a career-low 18 homers, prompting his retirement. For five years afterward he was general manager of the San Diego Padres, then a minor league team, and in 1961 he got his first broadcasting job, calling games on the radio for the Chicago White Sox. The next season the Mets began life in New York, and he was offered a job on their broadcast team, he once said, because I had a lot of experience with losing.Over half a century of Met broadcasts, while sharing the microphone with Lindsey Nelson, Bob Murphy and Tim McCarver whom he once called Tim MacArthur among many others, Kiner proved himself especially valuable in explaining the nuances of hitting, and though occasionally criticized for a flat affect and a penchant for phrase-bungling On Fathers Day we again wish you all happy birthday! he was known as an amusing raconteur who was generally well prepared with both facts and stories, and his intended wit was often as memorable as his unintended humor.Two-thirds of the earth is covered by water, he declared about an especially fleet outfielder. The other third is covered by Garry Maddox. Cutting to a commercial after mistaking McCarvers name for that of the World War II general, he said: MacArthur once said I shall return, and well be back after this.In addition to his game broadcasts, he was the host of the popular postgame interview show Kiners Korner, itself a source of legendary Kinerisms, though he was sometimes outdone by his guests. In one exchange from the early days of the Mets (though not on the show Kiners Korner), he asked a young Mets catcher, Choo Choo Coleman, Whats your wifes name, and whats she like? Coleman replied, Her name is Mrs. Coleman and she likes me, bub. (Years later, Coleman denied this ever happened.)In 1996 Kiner disclosed he had Bells palsy, but he continued to work, albeit with slurred speech. In later years he appeared on broadcasts only sporadically.In 2010 Kiner was described in The New York Times as a human archive of Mets and baseball history, and indeed he had the kind of longevity in the game that allowed him to put one career in perspective as he began his second. In 1961, as Roger Maris and Mickey Mantle pursued Babe Ruths record of 60 home runs in a season, achieved in 1927, Kiner recalled that in 1949, when he was chasing the same mark, it was so revered that he dreaded breaking it. Hed even written a magazine article under the headline The Home Run Id Hate to Hit.Twelve years after I had my 54-homer season, I find myself saying that I wish Id broken the Babes record, he said, going on to predict, wrongly, that Ruths career record of 714 home runs would never be broken. (Henry Aaron and Barry Bonds have both done so.) He could not have known that a new chance at fame awaited him on the airwaves, but he already felt that his accomplishments on the field had faded to obscurity.Ive reached a point now that Im surprised when Im asked for an autograph, he said. Yesterday doesnt count anymore, only today.', 'extracted_quotes': ['Going, going, gone, goodbye!', 'Son, we can finish last without you.', 'I was on a few patrols but, gosh, we didnt even spot a whale.', 'I did not have too good a year with the Cubs, and my salary might have been resented by some players.', 'On Fathers Day we again wish you all happy birthday!', 'Two-thirds of the earth is covered by water. The other third is covered by Garry Maddox.', 'MacArthur once said I shall return, and well be back after this.', 'Her name is Mrs. Coleman and she likes me, bub.', 'Ive reached a point now that Im surprised when Im asked for an autograph. Yesterday doesnt count anymore, only today.', 'Why I Married Ralph Kiner.', 'After she met him, tennis was no longer the most important thing in her life.', 'Its too far from Forbes Field, where the Pirates play their home games.', 'The Home Run Id Hate to Hit.', 'At no time did I have in mind to undermine the players. Everyone knows Ive been fighting for them for years.', 'Even if invited, I wont go back to Wimbledon unless its agreeable to Ralph.'], 'publication_date': datetime.date(2014, 2, 6), 'keywords': ['Ralph Kiner', 'baseball', 'Hall of Fame', 'Mets', 'broadcasting', 'home runs', 'Pittsburgh Pirates', 'Chicago Cubs', 'Cleveland Indians', 'Hank Greenberg', 'Babe Ruth', 'Joe DiMaggio', 'Ted Williams', 'Stan Musial', 'Nancy Chaffee'], 'generated_title': 'Ralph Kiner, Baseball Legend and Beloved Broadcaster, Dies at 91', 'primary_category': 'sports', 'content_type': 'reporting', 'mentioned_people': ['Ralph Kiner', 'Hank Greenberg', 'Babe Ruth', 'Joe DiMaggio', 'Ted Williams', 'Stan Musial', 'Johnny Mize', 'Hank Sauer', 'Henry Aaron', 'Willie Mays', 'Ernie Banks', 'Mike Schmidt', 'Willie McCovey', 'Branch Rickey', 'Elizabeth Taylor', 'Gregory Peck', 'Janet Leigh', 'Nancy Chaffee', 'Walter Winchell', 'Jack Whitaker', 'DiAnn Shugart', 'Ann Benisch', 'Roger Maris', 'Mickey Mantle', 'Barry Bonds', 'Bing Crosby', 'Al Hirshberg', 'Barbara George', 'Beatrice Kiner', 'Ford C. Frick', 'Lindsey Nelson', 'Bob Murphy', 'Tim McCarver', 'Garry Maddox', 'Choo Choo Coleman', 'Casey Stengel', 'Marv Throneberry', 'Tom Seaver', 'Gary Carter', 'Jimmie Foxx'], 'mentioned_organizations': ['Baseball Hall of Fame', 'Pittsburgh Pirates', 'Chicago Cubs', 'Cleveland Indians', 'New York Mets', 'San Diego Padres', 'Chicago White Sox', 'Navy', 'Detroit Tigers', 'The Saturday Evening Post', 'The New York Times'], 'mentioned_legislation': '', 'mentioned_locations': ['Rancho Mirage, California', 'Santa Rita, New Mexico', 'Alhambra, California', 'Forbes Field', 'Pacific', 'Wimbledon', 'Hollywood', 'New York'], 'sentiment_tone': 'positive'}) (input_keys={'article_text'}): 1 validation error for nullable[date]\n",
      "  Input should be a valid date or datetime, invalid character in year [type=date_from_datetime_parsing, input_value='Feb 6, 2014', input_type=str]\n",
      "    For further information visit https://errors.pydantic.dev/2.10/v/date_from_datetime_parsing. Set `provide_traceback=True` to see the stack trace.\n"
     ]
    },
    {
     "name": "stdout",
     "output_type": "stream",
     "text": [
      "Average Metric: 18.09 / 57 (31.7%):  72%|████████████████████████████████████████████████████████████████████▏                         | 58/80 [00:03<00:01, 14.18it/s]"
     ]
    },
    {
     "name": "stderr",
     "output_type": "stream",
     "text": [
      "2025/01/11 08:53:16 ERROR dspy.utils.parallelizer: Error processing item Example({'article_text': 'Buying PowerCredit...Left: Patrick McMullan Company; Right: Doug KuntzDec. 29, 2015WASHINGTON The hedge fund magnates Daniel S. Loeb, Louis Moore Bacon and Steven A. Cohen have much in common. They have managed billions of dollars in capital, earning vast fortunes. They have invested large sums in art and millions more in political candidates.Moreover, each has exploited an esoteric tax loophole that saved them millions in taxes. The trick? Route the money to Bermuda and back.With inequality at its highest levels in nearly a century and public debate rising over whether the government should respond to it through higher taxes on the wealthy, the very richest Americans have financed a sophisticated and astonishingly effective apparatus for shielding their fortunes. Some call it the income defense industry, consisting of a high-priced phalanx of lawyers, estate planners, lobbyists and anti-tax activists who exploit and defend a dizzying array of tax maneuvers, virtually none of them available to taxpayers of more modest means.In recent years, this apparatus has become one of the most powerful avenues of influence for wealthy Americans of all political stripes, including Mr. Loeb and Mr. Cohen, who give heavily to Republicans, and the liberal billionaire George Soros, who has called for higher levies on the rich while at the same time using tax loopholes to bolster his own fortune.All are among a small group providing much of the early cash for the 2016 presidential campaign.Operating largely out of public view in tax court, through arcane legislative provisions and in private negotiations with the Internal Revenue Service the wealthy have used their influence to steadily whittle away at the governments ability to tax them. The effect has been to create a kind of private tax system, catering to only several thousand Americans.The impact on their own fortunes has been stark. Two decades ago, when Bill Clinton was elected president, the 400 highest-earning taxpayers in America paid nearly 27 percent of their income in federal taxes, according to I.R.S. data. By 2012, when President Obama was re-elected, that figure had fallen to less than 17 percent, which is just slightly more than the typical family making $100,000 annually, when payroll taxes are included for both groups.The ultra-wealthy literally pay millions of dollars for these services, said Jeffrey A. Winters, a political scientist at Northwestern University who studies economic elites, and save in the tens or hundreds of millions in taxes.Some of the biggest current tax battles are being waged by some of the most generous supporters of 2016 candidates. They include the families of the hedge fund investors Robert Mercer, who gives to Republicans, and James Simons, who gives to Democrats; as well as the options trader Jeffrey Yass, a libertarian-leaning donor to Republicans.Mr. Yasss firm is litigating what the agency deemed to be tens of millions of dollars in underpaid taxes. Renaissance Technologies, the hedge fund Mr. Simons founded and which Mr. Mercer helps run, is currently under review by the I.R.S. over a loophole that saved their fund an estimated $6.8 billion in taxes over roughly a decade, according to a Senate investigation. Some of these same families have also contributed hundreds of thousands of dollars to conservative groups that have attacked virtually any effort to raises taxes on the wealthy.In the heat of the presidential race, the influence of wealthy donors is being tested. At stake is the Obama administrations 2013 tax increase on high earners the first substantial increase in two decades and an I.R.S. initiative to ensure that, in effect, the higher rates stick by cracking down on tax avoidance by the wealthy.While Democrats like Bernie Sanders and Hillary Clinton have pledged to raise taxes on these voters, virtually every Republican has advanced policies that would vastly reduce their tax bills, sometimes to as little as 10 percent of their income.At the same time, most Republican candidates favor eliminating the inheritance tax, a move that would allow the new rich, and the old, to bequeath their fortunes intact, solidifying the wealth gap far into the future. And several have proposed a substantial reduction or even elimination in the already deeply discounted tax rates on investment gains, a foundation of the most lucrative tax strategies.Theres this notion that the wealthy use their money to buy politicians; more accurately, its that they can buy policy, and specifically, tax policy, said Jared Bernstein, a senior fellow at the left-leaning Center on Budget and Policy Priorities who served as chief economic adviser to Vice President Joseph R. Biden Jr. Thats why these egregious loopholes exist, and why its so hard to close them.The Family OfficeEach of the top 400 earners took home, on average, about $336 million in 2012, the latest year for which data is available. If the bulk of that money had been paid out as salary or wages, as it is for the typical American, the tax obligations of those wealthy taxpayers could have more than doubled.Instead, much of their income came from convoluted partnerships and high-end investment funds. Other earnings accrued in opaque family trusts and foreign shell corporations, beyond the reach of the tax authorities.The well-paid technicians who devise these arrangements toil away at white-shoe law firms and elite investment banks, as well as a variety of obscure boutiques. But at the fulcrum of the strategizing over how to minimize taxes are so-called family offices, the customized wealth management departments of Americans with hundreds of millions or billions of dollars in assets.Family offices have existed since the late 19th century, when the Rockefellers pioneered the institution, and gained popularity in the 1980s. But they have proliferated rapidly over the last decade, as the ranks of the super-rich, and the size of their fortunes, swelled to record proportions.We have so much wealth being created, significant wealth, that it creates a need for the family office structure now, said Sree Arimilli, an industry recruiting consultant.Family offices, many of which are dedicated to managing and protecting the wealth of a single family, oversee everything from investment strategy to philanthropy. But tax planning is a core function. While the specific techniques these advisers employ to minimize taxes can be mind-numbingly complex, they generally follow a few simple principles, like converting one type of income into another type thats taxed at a lower rate.Mr. Loeb, for example, has invested in a Bermuda-based reinsurer an insurer to insurance companies that turns around and invests the money in his hedge fund. That maneuver transforms his profits from short-term bets in the market, which the government taxes at roughly 40 percent, into long-term profits, known as capital gains, which are taxed at roughly half that rate. It has had the added advantage of letting Mr. Loeb defer taxes on this income indefinitely, allowing his wealth to compound and grow more quickly.The Bermuda insurer Mr. Loeb helped set up went public in 2013 and is active in the insurance business, not merely a tax dodge. Mr. Cohen and Mr. Bacon abandoned similar insurance-based strategies in recent years. Our investment in Max Re was not a tax-driven scheme, but rather a sound investment response to investor interest in a more dynamically managed portfolio akin to Warren Buffetts Berkshire Hathaway, said Mr. Bacon, who leads Moore Capital Management. Hedge funds were a minority of the investment portfolio, and Moore Capitals products a much smaller subset of this alternative portfolio. Mr. Loeb and Mr. Cohen declined to comment.ImageCredit...Left: Amanda Gordon/Bloomberg News, via Getty ImagesOrganizing ones business as a partnership can be lucrative in its own right. Some of the partnerships from which the wealthy derive their income are allowed to sell shares to the public, making it easy to cash out a chunk of the business while retaining control. But unlike publicly traded corporations, they pay no corporate income tax; the partners pay taxes as individuals. And the income taxes are often reduced by large deductions, such as for depreciation.For large private partnerships, meanwhile, the I.R.S. often struggles to determine whether a tax shelter exists, an abusive tax transaction is being used, according to a recent report by the Government Accountability Office. The agency is not allowed to collect underpaid taxes directly from these partnerships, even those with several hundred partners. Instead, it must collect from each individual partner, requiring the agency to commit significant time and manpower.The wealthy can also avail themselves of a range of esoteric and customized tax deductions that go far beyond writing off a home office or dinner with a client. One aggressive strategy is to place income in a type of charitable trust, generating a deduction that offsets the income tax. The trust then purchases whats known as a private placement life insurance policy, which invests the money on a tax-free basis, frequently in a number of hedge funds. The persons heirs can inherit, also tax-free, whatever money is left after the trust pays out a percentage each year to charity, often a considerable sum.Many of these maneuvers are well established, and wealthy taxpayers say they are well within their rights to exploit them. Others exist in a legal gray area, its boundaries defined by the willingness of taxpayers to defend their strategies against the I.R.S. Almost all are outside the price range of the average taxpayer.Among tax lawyers and accountants, the best and brightest get a high from figuring out how to do tricky little deals, said Karen L. Hawkins, who until recently headed the I.R.S. office that oversees tax practitioners. Frankly, it is almost beyond the intellectual and resource capacity of the Internal Revenue Service to catch.The combination of cost and complexity has had a profound effect, tax experts said. Whatever tax rates Congress sets, the actual rates paid by the ultra-wealthy tend to fall over time as they exploit their numerous advantages.From Mr. Obamas inauguration through the end of 2012, federal income tax rates on individuals did not change (excluding payroll taxes). But the highest-earning one-thousandth of Americans went from paying an average of 20.9 percent to 17.6 percent. By contrast, the top 1 percent, excluding the very wealthy, went from paying just under 24 percent on average to just over that level.We do have two different tax systems, one for normal wage-earners and another for those who can afford sophisticated tax advice, said Victor Fleischer, a law professor at the University of San Diego who studies the intersection of tax policy and inequality. At the very top of the income distribution, the effective rate of tax goes down, contrary to the principles of a progressive income tax system.A Very Quiet DefenseHaving helped foster an alternative tax system, wealthy Americans have been aggressive in defending it.Trade groups representing the Bermuda-based insurance company Mr. Loeb helped set up, for example, have spent the last several months pleading with the I.R.S. that its proposed rules tightening the hedge fund insurance loophole are too onerous.The major industry group representing private equity funds spends hundreds of thousands of dollars each year lobbying on such issues as carried interest, the granddaddy of Wall Street tax loopholes, which makes it possible for fund managers to pay the capital gains rate rather than the higher standard tax rate on a substantial share of their income for running the fund.The budget deal that Congress approved in October allows the I.R.S. to collect underpaid taxes from large partnerships at the firm level for the first time which is far easier for the agency thanks to a provision that lawmakers slipped into the deal at the last minute, before many lobbyists could mobilize. But the new rules are relatively weak firms can still choose to have partners pay the taxes and dont take effect until 2018, giving the wealthy plenty of time to weaken them further.Shortly after the provision passed, the Managed Funds Association, an industry group that represents prominent hedge funds like D. E. Shaw, Renaissance Technologies, Tiger Management and Third Point, began meeting with members of Congress to discuss a wish list of adjustments. The founders of these funds have all donated at least $500,000 to 2016 presidential candidates. During the Obama presidency, the association itself has risen to become one of the most powerful trade groups in Washington, spending over $4 million a year on lobbying.And while the lobbying clout of the wealthy is most often deployed through industry trade associations and lawyers, some rich families have locked arms to advance their interests more directly.The inheritance tax has been a primary target. In the early 1990s, a California family office executive named Patricia Soldano began lobbying on behalf of wealthy families to repeal the tax, which would not only save them money, but also make it easier to preserve their business empires from one generation to the next. The idea struck many hardened operatives as unrealistic at the time, given that the tax affected only the wealthiest Americans. But Ms. Soldanos efforts funded in part by the Mars and Koch families laid the groundwork for a one-year elimination in 2010.The tax has been restored, but currently applies only to couples leaving roughly $11 million or more to their heirs, up from those leaving more than $1.2 million when Ms. Soldano started her campaign. It affected fewer than 5,200 families last year.If anyone would have told me wed be where we are today, I would never have guessed it, Ms. Soldano said in an interview.Some of the most profound victories are barely known outside the insular world of the wealthy and their financial managers.In 2009, Congress set out to require that investment partnerships like hedge funds register with the Securities and Exchange Commission, partly so that regulators would have a better grasp on the risks they posed to the financial system.The early legislative language would have required single-family offices to register as well, exposing the highly secretive institutions to scrutiny that their clients were eager to avoid. Some of the I.R.S.s cases against the wealthy originate with tips from the S.E.C., which is often better positioned to spot tax evasion.By the summer of 2009, several family office executives had formed a lobbying group called the Private Investor Coalition to push back against the proposal. The coalition won an exemption in the 2010 Dodd-Frank financial reform bill, then spent much of the next year persuading the S.E.C. to largely adopt its preferred definition of family office.So expansive was the resulting loophole that Mr. Soross $24.5 billion hedge fund took advantage of it, converting to a family office after returning capital to its remaining outside investors. The hedge fund manager Stanley Druckenmiller, a former business partner of Mr. Soros, took the same step.The Soros family, which generally supports Democrats, has committed at least $1 million to the 2016 presidential campaign; Mr. Druckenmiller, who favors Republicans, has put slightly more than $300,000 behind three different G.O.P. presidential candidates.A slide presentation from the Private Investor Coalitions 2013 annual meeting credited the success to multiple meetings with members of the Senate Banking Committee, the House Financial Services Committee, congressional staff and S.E.C. staff. All with a low profile, the document noted. We got most of what we wanted AND a few extras we didnt request.A Hobbled MonitorAfter all the loopholes and all the lobbying, what remains of the governments ability to collect taxes from the wealthy runs up against one final hurdle: the crisis facing the I.R.S.President Obama has made fighting tax evasion by the rich a priority. In 2010, he signed legislation making it easier to identify Americans who squirreled away assets in Swiss bank accounts and Cayman Islands shelters.His I.R.S. convened a Global High Wealth Industry Group, known colloquially as the wealth squad, to scrutinize the returns of Americans with incomes of at least $10 million a year.But while these measures have helped the government retrieve billions, the agencys efforts have flagged in the face of scandal, political pressure and budget cuts. Between 2010, the year before Republicans took control of the House of Representatives, and 2014, the I.R.S. budget dropped by almost $2 billion in real terms, or nearly 15 percent. That has forced it to shed about 5,000 high-level enforcement positions out of about 23,000, according to the agency.Audit rates for the $10 million-plus club spiked in the first few years of the Global High Wealth program, but have plummeted since then.ImageCredit...Left: Carly Erickson/BFA; Right: Doug Kuntz for The New York TimesThe political challenge for the agency became especially acute in 2013, after the agency acknowledged singling out conservative nonprofits in a review of political activity by tax-exempt groups. (Senior officials left the agency as a result of the controversy.)Several former I.R.S. officials, including Marcus Owens, who once headed the agencys Exempt Organizations division, said the controversy badly damaged the agencys willingness to investigate other taxpayers, even outside the exempt division.I.R.S. enforcement is either absent or diminished in certain areas, he said. Mr. Owens added that his former department which provides some oversight of money used by charities and nonprofits has been decimated.Groups like FreedomWorks and Americans for Tax Reform, which are financed partly by the foundations of wealthy families and large businesses, have called for impeaching the I.R.S. commissioner. They are bolstered by deep-pocketed advocacy groups like the Club for Growth, which has aided primary challenges against Republicans who have voted in favor of higher taxes.In 2014, the Club for Growth Action fund raised more than $9 million and spent much of it helping candidates critical of the I.R.S. Roughly 60 percent of the money raised by the fund came from just 12 donors, including Mr. Mercer, who has given the group $2 million in the last five years. Mr. Mercer and his immediate family have also donated more than $11 million to several super PACs supporting Senator Ted Cruz of Texas, an outspoken I.R.S. critic and a presidential candidate.Another prominent donor is Mr. Yass, who helps run a trading firm called the Susquehanna International Group. He donated $100,000 to the Club for Growth Action fund in September. Mr. Yass serves on the board of the libertarian Cato Institute and, like Mr. Mercer, appears to subscribe to limited-government views that partly motivate his political spending.But he may also have more than a passing interest in creating a political environment that undermines the I.R.S. Susquehanna is currently challenging a proposed I.R.S. determination that an affiliate of the firm effectively repatriated more than $375 million in income from subsidiaries located in Ireland and the Cayman Islands in 2007, creating a large tax liability. (The affiliate brought the money back to the United States in later years and paid dividend taxes on it; the I.R.S. asserts that it should have paid the ordinary income tax rate, at a cost of tens of millions of dollars more.)In June, Mr. Yass donated more than $2 million to three super PACs aligned with Senator Rand Paul of Kentucky, who has called for taxing all income at a flat rate of 14.5 percent. That change in itself would save wealthy supporters like Mr. Yass millions of dollars.Mr. Paul, also a presidential candididate, has suggested going even further, calling the I.R.S. a rogue agency and circulating a petition in 2013 calling for the tax equivalent of regime change. Be it now therefore resolved, the petition reads, that we, the undersigned, demand the immediate abolishment of the Internal Revenue Service.But even if that campaign is a long shot, the richest taxpayers will continue to enjoy advantages over everyone else.For the ultra-wealthy, our tax code is like a leaky barrel, said J. Todd Metcalf, the Democrats chief tax counsel on the Senate Finance Committee. Unless you plug every hole or get a new barrel, its going to leak out.', 'generated_title': 'The Income Defense Industry: How the Wealthy Shield Their Fortunes from Taxes', 'publication_date': datetime.date(2015, 12, 29), 'primary_category': 'politics', 'content_type': 'analysis', 'keywords': ['tax loopholes', 'income defense industry', 'political influence', 'Bermuda', 'tax avoidance', 'tax policy', 'wealthy Americans', 'hedge funds', 'IRS', 'capital gains', 'family offices'], 'mentioned_people': ['Daniel S. Loeb', 'Louis Moore Bacon', 'Steven A. Cohen', 'George Soros', 'Bernie Sanders', 'Hillary Clinton', 'Joseph R. Biden Jr.', 'Robert Mercer', 'James Simons', 'Jeffrey Yass', 'Stanley Druckenmiller', 'Ted Cruz', 'Rand Paul'], 'mentioned_organizations': ['Internal Revenue Service', 'Renaissance Technologies', 'Susquehanna International Group', 'Center on Budget and Policy Priorities', 'Managed Funds Association', 'Private Investor Coalition', 'Securities and Exchange Commission', 'Club for Growth', 'Cato Institute', 'Moore Capital Management', 'FreedomWorks', 'Americans for Tax Reform', 'D. E. Shaw', 'Tiger Management', 'Third Point'], 'mentioned_legislation': ['Dodd-Frank financial reform bill', 'inheritance tax', 'carried interest'], 'mentioned_locations': ['Bermuda', 'Washington', 'Cayman Islands', 'Ireland'], 'sentiment_tone': 'neutral', 'extracted_quotes': ['The ultra-wealthy literally pay millions of dollars for these services, and save in the tens or hundreds of millions in taxes.', 'Theres this notion that the wealthy use their money to buy politicians; more accurately, its that they can buy policy, and specifically, tax policy.', 'We have so much wealth being created, significant wealth, that it creates a need for the family office structure now.', 'For the ultra-wealthy, our tax code is like a leaky barrel. Unless you plug every hole or get a new barrel, its going to leak out.']}) (input_keys={'article_text'}): 1 validation error for nullable[date]\n",
      "  Input should be a valid date or datetime, invalid character in year [type=date_from_datetime_parsing, input_value='Dec. 29, 2015', input_type=str]\n",
      "    For further information visit https://errors.pydantic.dev/2.10/v/date_from_datetime_parsing. Set `provide_traceback=True` to see the stack trace.\n"
     ]
    },
    {
     "name": "stdout",
     "output_type": "stream",
     "text": [
      "Average Metric: 22.91 / 74 (31.0%):  96%|██████████████████████████████████████████████████████████████████████████████████████████▍   | 77/80 [00:05<00:00, 13.37it/s]"
     ]
    },
    {
     "name": "stderr",
     "output_type": "stream",
     "text": [
      "2025/01/11 08:53:17 ERROR dspy.utils.parallelizer: Error processing item Example({'article_text': 'VideotranscripttranscriptWho Is the Real Melania Trump? Who Knows?Melania Trump prizes her privacy. But the first ladys absence from the public eye has led to very different narratives about who she is.Melania Trump. Is she trapped? A reluctant first lady? Or is she poised, polished and a quiet, but supportive, first lady? Who is the real Melania? Very few, at least among those who are speaking publicly, will say. Im very strong. People, they dont really know me. People think and talk about me like, Oh, Melania. Oh, poor Melania. Dont feel sorry for me. Dont feel sorry for me. I can handle everything. But as Donald Trumps presidency has progressed, the first lady has become a versatile avatar, her image split sharply down political lines. In one version of the public imagination, Melania is unhappy. She dislikes her husband and disagrees with his policies. She may even be mulling a divorce. This Melania has shown up on late-night TV and in tabloids. Youre beautiful, dutiful Melania. I cant take it anymore. Then theres the other version of Melania, painted by conservative media as confident, fashion forward, graceful and adored. I have been so impressed with, not just her quiet dignity, as you brought up, but also just this diplomatic use of fashion. This version is closer to the official portrayal of Melania. Through her spokespeople, the first lady says she is supportive of her husband and focused on raising their son, Barron. I support my husband 100 percent. But we have a 9-year-old son together, Barron. And Im raising him. She says she prefers to take a back seat to her husband, to keep his place in the limelight. Its not the first time Melanias been in the public eye. You spin, baby, you spin. Shes a former model and jewelry designer. I love when idea comes to life. And I study architecture and design and its something very creative for me. Im very passionate about what I design, and there are some beautiful pieces. When they got together in the late 1990s, the Trumps say their chemistry was instant. We were both at the same party and thats how we met. He came to me... Like her right away? I went crazy. Melania and Donald became synonymous with the New York social scene. Theyve stood did together for a number of years now. New Yorkers have come to know them as a very solid couple. And in 2005, they married. Hi, fans. Im going to Metropolitan Gala. In the following years, Melanias social media posts focused on fashion, travel, fitness and spending time with family. Now as the first lady, next to one of the most outspoken presidents in recent history, Melanias silence has taken on a life of its own. The most important thing is just to be you. Thats the end.Melania Trump prizes her privacy. But the first ladys absence from the public eye has led to very different narratives about who she is.CreditCredit...Al Drago/The New York TimesJune 6, 2018WASHINGTON After spending nearly a month out of the public eye, Melania Trump emerged from the White House on Wednesday, putting an end to at least a few of the theories some her husband has repeated to his 52 million Twitter followers that blossomed like swampland ragweed during her time in seclusion.Dressed in a trench coat and heels, the first lady accompanied President Trump to the headquarters of the Federal Emergency Management Agency to attend a briefing on the coming hurricane season. Sitting nearly still, Mrs. Trump cut a totemic figure alongside Mr. Trump as they sat around a conference table at the agencys headquarters.The president, reading from a notecard, introduced our great first lady to several members of his cabinet, Vice President Mike Pence and an assembled group of reporters.She went through a little rough patch, but shes doing great, Mr. Trump said, patting his wife on the hand. The people love you. Thank you, honey.Mrs. Trump spent five days at Walter Reed National Military Medical Center in May to treat what her aides called a benign kidney condition, and had not appeared in public since before entering the hospital.On Twitter Wednesday morning, Mr. Trump bitterly complained about the speculation by the public and some journalists about her absence. But in attacking what he said were several conspiracy theories the news media had generated about his wifes absence, he ended up repeating the kind of unfounded rumors about his wife that would normally attract legal action from him and his notoriously litigious family.The Fake News Media has been so unfair, and vicious, to my wife and our great first lady, Melania, wrote the president, who has long reveled in conspiracy theories. During her recovery from surgery they reported everything from near death, to facelift, to left the W.H. (and me) for N.Y. or Virginia, to abuse. All Fake, she is doing really well!By attacking journalists who have speculated or asked questions about his wife, the president put himself at odds with his own personal history of using his platform and a number of his supporters to target women and effectively amplify rumors about their health, appearance and personal relationships.On the campaign trail, he repeatedly attacked Hillary Clinton, his Democratic opponent, suggesting that she was not loyal to her husband, President Bill Clinton; questioning her physical stamina for the job; and suggesting that she was mentally ill. Mr. Trumps campaign also aired at least one TV ad that pointed to conspiracy theories about Mrs. Clintons health.And he later took aim at two female journalists Megyn Kelly and Mika Brzezinski describing them in pejorative terms. He said that he once saw Ms. Brzezinski at a gathering at his Florida estate bleeding badly from a face-lift and that she had a low I.Q.In Mrs. Trumps case, the White House has insisted that she is entitled to the same privacy that would shield any other patient.She surfaced for the first time on Tuesday in a closed White House event, but was spotted around the White House last week. Apparently referring to this, the president said on Twitter that reporters had seen the first lady merrily strolling in the White House over the past week, but never reported the sighting because it would hurt the sick narrative that she was living in a different part of the world, was really ill, or whatever. Fake News is really bad!But at least one reporter noted on Twitter that he had seen the first lady with her aides in the White House, and her office has said Mrs. Trump has taken several internal meetings during her recovery.With the White House declining to issue updates on the first ladys recovery, the guesswork about her whereabouts and her health expanded beyond the news media: On Tuesday, as Mrs. Trump attended the event with Gold Star families, a contingent of observers on Twitter wondered whether the sparse footage captured of the event was indeed from that day.Historians say no modern first lady has prized her privacy more than Mrs. Trump, but the timing of Mrs. Trumps departure from the public eye was abrupt and baffling: It came as she was ramping up her public appearances and in the midst of rolling out her official platform, Be Best, which will focus on childrens issues.Mrs. Trumps stay in the hospital was also shrouded in secrecy. In the hours after her procedure, aides wore scrubs around her but said the procedure had been successful and without complications.In any case, the first ladys public re-emergence is tied to one of her interests. Stephanie Grisham, her communications director, said in an email that Mrs. Trump would be attending the hurricane briefing because it is an issue that she cares very much about.Last year, the first lady and her husband traveled to Puerto Rico to visit families affected by hurricanes, serving them food and visiting relief centers.When asked about the first ladys health, Ms. Grishams response was brief.She feels great, Ms. Grisham wrote, doing well.At the FEMA briefing, Mrs. Trump did not speak publicly, but listened, smiling at her husband and nodding as he spoke. As the event drew to a close, the president referred to his wife and Mr. Pence.Speaking for Melania and Mike, Mr. Trump said, we thank you all very much.', 'generated_title': 'Who Is the Real Melania Trump? Who Knows?', 'publication_date': datetime.date(2018, 6, 6), 'primary_category': 'politics', 'content_type': 'analysis', 'keywords': ['Melania Trump', 'first lady', 'privacy', 'public image', 'Donald Trump', 'media speculation', 'health', 'FEMA', 'hurricane season', 'Be Best', 'White House'], 'mentioned_people': ['Melania Trump', 'Donald Trump', 'Mike Pence', 'Hillary Clinton', 'Bill Clinton', 'Megyn Kelly', 'Mika Brzezinski', 'Stephanie Grisham'], 'mentioned_organizations': ['White House', 'Federal Emergency Management Agency', 'Walter Reed National Military Medical Center'], 'mentioned_legislation': None, 'mentioned_locations': ['Washington', 'New York', 'Puerto Rico', 'Virginia', 'Florida'], 'sentiment_tone': 'neutral', 'extracted_quotes': ['I support my husband 100 percent. But we have a 9-year-old son together, Barron. And Im raising him.', \"She went through a little rough patch, but she's doing great.\", 'The Fake News Media has been so unfair, and vicious, to my wife and our great first lady, Melania, wrote the president.', 'She feels great, Ms. Grisham wrote, doing well.']}) (input_keys={'article_text'}): 1 validation error for nullable[date]\n",
      "  Input should be a valid date or datetime, invalid character in year [type=date_from_datetime_parsing, input_value='June 6, 2018', input_type=str]\n",
      "    For further information visit https://errors.pydantic.dev/2.10/v/date_from_datetime_parsing. Set `provide_traceback=True` to see the stack trace.\n"
     ]
    },
    {
     "name": "stdout",
     "output_type": "stream",
     "text": [
      "Average Metric: 23.55 / 76 (31.0%): 100%|██████████████████████████████████████████████████████████████████████████████████████████████| 80/80 [00:05<00:00, 14.72it/s]"
     ]
    },
    {
     "name": "stderr",
     "output_type": "stream",
     "text": [
      "2025/01/11 08:53:17 INFO dspy.evaluate.evaluate: Average Metric: 23.545454545454543 / 80 (29.4%)\n",
      "2025/01/11 08:53:17 INFO dspy.teleprompt.mipro_optimizer_v2: Default program score: 29.43\n",
      "\n",
      "2025/01/11 08:53:17 INFO dspy.teleprompt.mipro_optimizer_v2: ==> STEP 3: FINDING OPTIMAL PROMPT PARAMETERS <==\n",
      "2025/01/11 08:53:17 INFO dspy.teleprompt.mipro_optimizer_v2: We will evaluate the program over a series of trials with different combinations of instructions and few-shot examples to find the optimal combination using Bayesian Optimization.\n",
      "\n",
      "/home/lee/anaconda3/envs/stuff/lib/python3.12/site-packages/optuna/_experimental.py:31: ExperimentalWarning: Argument ``multivariate`` is an experimental feature. The interface can change in the future.\n",
      "  warnings.warn(\n",
      "2025/01/11 08:53:17 INFO dspy.teleprompt.mipro_optimizer_v2: == Minibatch Trial 1 / 25 ==\n"
     ]
    },
    {
     "name": "stdout",
     "output_type": "stream",
     "text": [
      "\n",
      "Average Metric: 1.55 / 5 (30.9%):  20%|███████████████████▍                                                                             | 5/25 [00:00<00:01, 18.66it/s]"
     ]
    },
    {
     "name": "stderr",
     "output_type": "stream",
     "text": [
      "2025/01/11 08:53:18 ERROR dspy.utils.parallelizer: Error processing item Example({'article_text': 'Feb. 6, 2014Credit...Associated PressRalph Kiner, baseballs vastly undersung slugger, who belted more home runs than anyone else over his 10-year career but whose achievements in the batters box were obscured by his decades in the broadcast booth, where he was one of the games most recognizable personalities, died on Thursday at home in Rancho Mirage, Calif. He was 91.The Baseball Hall of Fame, which inducted him in 1975, announced the death.Baseball fans who are short of retirement, especially those in New York, are familiar with Kiner as an announcer who spent half a century with the Mets, enlivening their broadcasts with shrewd analysis, amiable storytelling and memorable malapropisms beginning with their woeful first season in 1962.His genial, well-informed and occasionally tongue-twisted presence accompanied all of Mets history, from the verbal high jinks of Casey Stengel and the fielding high jinks of Marv Throneberry to the arrival of the fireballer Tom Seaver and the miraculous World Series championship of 1969, from the thrilling 1986 Series victory over the Red Sox to the dispiriting Subway Series loss to the Yankees in 2000 and the Madoff-poisoned, injury-riddled ill fortune of recent seasons.But long before he referred on the air to Gary Carter as Gary Cooper, declared that if Casey Stengel were still alive hed be spinning in his grave, or watched a long ball disappear from the park with the trademark call Going, going, gone, goodbye!, Kiner was one of the games great right-handed hitters.Cut short by a back injury, Kiners career on the field was among the most remarkable in baseball history, featuring a concentrated display of power exhibited by few other sluggers. Slow afoot and undistinguished as an outfielder, he was nonetheless among the signature stars of the baseball era immediately after World War II, in the same conversation with Joe DiMaggio, Ted Williams and Stan Musial.From 1946 to 1955, playing for the Pittsburgh Pirates, the Chicago Cubs and the Cleveland Indians, he totaled 369 home runs, twice hitting more than 50 in a season, and drove in 1,015 runs, an average of more than 100 a year.During his first seven seasons, all with Pittsburgh, Kiner led the National League in home runs every year, still a record streak for either league. (Twice he tied with Johnny Mize, once with Hank Sauer.)ImageCredit...Associated PressFrom 1947 to 1951, he had home run totals of 51, 40, 54, 47 and 42, becoming only the second player in history Babe Ruth was the first to hit at least 40 home runs in five consecutive seasons, and the third (after Ruth and Jimmie Foxx) to hit 100 over two consecutive seasons.From 1930, when Hack Wilson hit 56 homers for the Chicago Cubs, to baseballs steroid era in the 1990s, Kiners 54 homers in 1949 was the highest single-season total for a National Leaguer; Henry Aaron never matched him, nor did Willie Mays, Ernie Banks, Mike Schmidt or Willie McCovey, all Hall of Famers with more than 500 career homers.Kiner never made it to the World Series; the Pirates of his era were perpetually mediocre (or worse), and so were the Cubs. In 1955, traded to the American League for his last season, he got closest: the Indians finished second to the Yankees.For a time, Kiner was among baseballs highest-paid players. But after Pittsburghs dreadful 1952 season, when the teams record was 42-112 in spite of Kiners league-leading home run performance, Branch Rickey, the Pirates general manager, cut his salary, reportedly telling him, Son, we can finish last without you.His short career, along with his longtime residence at the bottom of the standings, perhaps explains Kiners relative lack of recognition. When he was finally elected to the Hall of Fame, in 1975, his 15th and final year of eligibility, he sneaked in by two votes, with 273 out of a possible 362.But Kiner was appreciated in other circles. Tall, good-looking and well spoken as a player, he aspired to the career in broadcasting that came to define him he was, in the parlance of the era, a highly eligible bachelor. Introduced to Elizabeth Taylor by Bing Crosby, who was a part owner of the Pirates, he escorted her to the Hollywood premiere of the 1949 war film Twelve OClock High, starring Gregory Peck. When the movie Angels in the Outfield (1951) was filmed at Pittsburghs Forbes Field, Kiner dated its star, Janet Leigh.His courtship of the tennis star Nancy Chaffee, winner of three consecutive national indoor championships, was avidly chronicled by gossip columnists. Their engagement was announced on the radio by Walter Winchell before Kiner actually proposed, and shortly after their marriage, in 1951, the bride wrote an article for The Saturday Evening Post (as told to Al Hirshberg) with the headline Why I Married Ralph Kiner.After she met him, tennis was no longer the most important thing in her life, Chaffee wrote.Even if invited, I wont go back to Wimbledon unless its agreeable to Ralph, she went on. Its too far from Forbes Field, where the Pirates play their home games. For that matter its too far from the cities I hope to visit as a ballplayers wife.ImageCredit...Louis RequenaKiner and Chaffee had three children in a 17-year marriage that ended in divorce in 1968. Chaffee later married the sportscaster Jack Whitaker; she died in 2002. Kiners second marriage, to Barbara George, also ended in divorce. A third marriage, to DiAnn Shugart, ended with her death in 2004, and a fourth, to Ann Benisch, ended in divorce. His survivors include his sons, Ralph and Scott; his daughters, Kathryn Chaffee Freeman, Tracee Kiner Jansen and Kimberlee Kiner; and 12 grandchildren.Ralph McPherran Kiner was born in Santa Rita, N.M., on Oct. 27, 1922. His father, a baker, died when Ralph was 4, and he moved with his mother, Beatrice, a nurse, to Alhambra, Calif., where he grew up playing ball. He signed with the Pirates after graduating from high school, playing two seasons and part of a third in the minor leagues before training as a Navy pilot during World War II. He served in the Pacific, assigned to search for Japanese submarines, though he acknowledged he did not see combat or much else.I was on a few patrols but, gosh, we didnt even spot a whale, he told The New York Times in 1947.At the start of that year, his second in the big leagues, the Pirates acquired the great slugger Hank Greenberg from the Detroit Tigers, and Greenberg became Kiners roommate and mentor (and later his best man at his wedding to Chaffee), advising him on his swing, his preparation, his work ethic.Greenbergs acquisition helped Kiner in more tangible ways as well. For one thing, Greenberg hit behind him in the batting order, protecting him, making sure he got better pitches to hit, and Kiner hit .313, the highest average of his career. Whats more, to accommodate Greenberg, the Pirates had modified Forbes Field, moving in the left field fence to bring it in line with other ballparks and installing the bullpens behind it, an area that came to be called Greenberg Gardens for the long balls the new Pirate was expected to plant there.But it was Kiner who was the primary beneficiary of the change, hitting 51 home runs. Playing what turned out to be his last season, Greenberg hit 25. Greenberg Gardens was rechristened Kiners Korner.The two men were reunited in 1955, when Greenberg, then the general manager of the Indians, acquired Kiner from the Cubs, a transaction complicated by Kiners curious decision to sign a contract for $40,000 a year, less than he was offered and far less than he made the previous year in Chicago, reported to be $65,000.Major league player representatives objected to the contract because it violated the agreement between players and club owners that a players salary could not be reduced by more than 25 percent in a season. Baseballs commissioner, Ford C. Frick, indicated that he would void the contract, and Kiner and Greenberg, who did not want to pay him so little in the first place, eventually renegotiated it.ImageCredit...Associated PressI did not have too good a year with the Cubs, and my salary might have been resented by some players, explained Kiner, who was among the players who fought owners for an improved pension plan. I thought if I had a good season with the Indians in 1955, I could more than make up the cut the following year. At first Greenberg was against it, but he then thought the publicity would be good. At no time did I have in mind to undermine the players. Everyone knows Ive been fighting for them for years.In Cleveland, his back problems worsened. He played only 113 games for the Indians in 1955 and hit a career-low 18 homers, prompting his retirement. For five years afterward he was general manager of the San Diego Padres, then a minor league team, and in 1961 he got his first broadcasting job, calling games on the radio for the Chicago White Sox. The next season the Mets began life in New York, and he was offered a job on their broadcast team, he once said, because I had a lot of experience with losing.Over half a century of Met broadcasts, while sharing the microphone with Lindsey Nelson, Bob Murphy and Tim McCarver whom he once called Tim MacArthur among many others, Kiner proved himself especially valuable in explaining the nuances of hitting, and though occasionally criticized for a flat affect and a penchant for phrase-bungling On Fathers Day we again wish you all happy birthday! he was known as an amusing raconteur who was generally well prepared with both facts and stories, and his intended wit was often as memorable as his unintended humor.Two-thirds of the earth is covered by water, he declared about an especially fleet outfielder. The other third is covered by Garry Maddox. Cutting to a commercial after mistaking McCarvers name for that of the World War II general, he said: MacArthur once said I shall return, and well be back after this.In addition to his game broadcasts, he was the host of the popular postgame interview show Kiners Korner, itself a source of legendary Kinerisms, though he was sometimes outdone by his guests. In one exchange from the early days of the Mets (though not on the show Kiners Korner), he asked a young Mets catcher, Choo Choo Coleman, Whats your wifes name, and whats she like? Coleman replied, Her name is Mrs. Coleman and she likes me, bub. (Years later, Coleman denied this ever happened.)In 1996 Kiner disclosed he had Bells palsy, but he continued to work, albeit with slurred speech. In later years he appeared on broadcasts only sporadically.In 2010 Kiner was described in The New York Times as a human archive of Mets and baseball history, and indeed he had the kind of longevity in the game that allowed him to put one career in perspective as he began his second. In 1961, as Roger Maris and Mickey Mantle pursued Babe Ruths record of 60 home runs in a season, achieved in 1927, Kiner recalled that in 1949, when he was chasing the same mark, it was so revered that he dreaded breaking it. Hed even written a magazine article under the headline The Home Run Id Hate to Hit.Twelve years after I had my 54-homer season, I find myself saying that I wish Id broken the Babes record, he said, going on to predict, wrongly, that Ruths career record of 714 home runs would never be broken. (Henry Aaron and Barry Bonds have both done so.) He could not have known that a new chance at fame awaited him on the airwaves, but he already felt that his accomplishments on the field had faded to obscurity.Ive reached a point now that Im surprised when Im asked for an autograph, he said. Yesterday doesnt count anymore, only today.', 'extracted_quotes': ['Going, going, gone, goodbye!', 'Son, we can finish last without you.', 'I was on a few patrols but, gosh, we didnt even spot a whale.', 'I did not have too good a year with the Cubs, and my salary might have been resented by some players.', 'On Fathers Day we again wish you all happy birthday!', 'Two-thirds of the earth is covered by water. The other third is covered by Garry Maddox.', 'MacArthur once said I shall return, and well be back after this.', 'Her name is Mrs. Coleman and she likes me, bub.', 'Ive reached a point now that Im surprised when Im asked for an autograph. Yesterday doesnt count anymore, only today.', 'Why I Married Ralph Kiner.', 'After she met him, tennis was no longer the most important thing in her life.', 'Its too far from Forbes Field, where the Pirates play their home games.', 'The Home Run Id Hate to Hit.', 'At no time did I have in mind to undermine the players. Everyone knows Ive been fighting for them for years.', 'Even if invited, I wont go back to Wimbledon unless its agreeable to Ralph.'], 'publication_date': datetime.date(2014, 2, 6), 'keywords': ['Ralph Kiner', 'baseball', 'Hall of Fame', 'Mets', 'broadcasting', 'home runs', 'Pittsburgh Pirates', 'Chicago Cubs', 'Cleveland Indians', 'Hank Greenberg', 'Babe Ruth', 'Joe DiMaggio', 'Ted Williams', 'Stan Musial', 'Nancy Chaffee'], 'generated_title': 'Ralph Kiner, Baseball Legend and Beloved Broadcaster, Dies at 91', 'primary_category': 'sports', 'content_type': 'reporting', 'mentioned_people': ['Ralph Kiner', 'Hank Greenberg', 'Babe Ruth', 'Joe DiMaggio', 'Ted Williams', 'Stan Musial', 'Johnny Mize', 'Hank Sauer', 'Henry Aaron', 'Willie Mays', 'Ernie Banks', 'Mike Schmidt', 'Willie McCovey', 'Branch Rickey', 'Elizabeth Taylor', 'Gregory Peck', 'Janet Leigh', 'Nancy Chaffee', 'Walter Winchell', 'Jack Whitaker', 'DiAnn Shugart', 'Ann Benisch', 'Roger Maris', 'Mickey Mantle', 'Barry Bonds', 'Bing Crosby', 'Al Hirshberg', 'Barbara George', 'Beatrice Kiner', 'Ford C. Frick', 'Lindsey Nelson', 'Bob Murphy', 'Tim McCarver', 'Garry Maddox', 'Choo Choo Coleman', 'Casey Stengel', 'Marv Throneberry', 'Tom Seaver', 'Gary Carter', 'Jimmie Foxx'], 'mentioned_organizations': ['Baseball Hall of Fame', 'Pittsburgh Pirates', 'Chicago Cubs', 'Cleveland Indians', 'New York Mets', 'San Diego Padres', 'Chicago White Sox', 'Navy', 'Detroit Tigers', 'The Saturday Evening Post', 'The New York Times'], 'mentioned_legislation': '', 'mentioned_locations': ['Rancho Mirage, California', 'Santa Rita, New Mexico', 'Alhambra, California', 'Forbes Field', 'Pacific', 'Wimbledon', 'Hollywood', 'New York'], 'sentiment_tone': 'positive'}) (input_keys={'article_text'}): 1 validation error for literal['editorial','opinion','analysis','reporting','interview','investigative','press_release','blog_post']\n",
      "  Input should be 'editorial', 'opinion', 'analysis', 'reporting', 'interview', 'investigative', 'press_release' or 'blog_post' [type=literal_error, input_value='obituary', input_type=str]\n",
      "    For further information visit https://errors.pydantic.dev/2.10/v/literal_error. Set `provide_traceback=True` to see the stack trace.\n"
     ]
    },
    {
     "name": "stdout",
     "output_type": "stream",
     "text": [
      "Average Metric: 10.36 / 24 (43.2%): 100%|██████████████████████████████████████████████████████████████████████████████████████████████| 25/25 [00:00<00:00, 28.21it/s]"
     ]
    },
    {
     "name": "stderr",
     "output_type": "stream",
     "text": [
      "2025/01/11 08:53:18 INFO dspy.evaluate.evaluate: Average Metric: 10.363636363636363 / 25 (41.5%)\n",
      "2025/01/11 08:53:18 INFO dspy.teleprompt.mipro_optimizer_v2: Score: 41.45 on minibatch of size 25 with parameters ['Predictor 0: Instruction 12', 'Predictor 0: Few-Shot Set 7'].\n"
     ]
    },
    {
     "name": "stdout",
     "output_type": "stream",
     "text": [
      "\n"
     ]
    },
    {
     "name": "stderr",
     "output_type": "stream",
     "text": [
      "2025/01/11 08:53:18 INFO dspy.teleprompt.mipro_optimizer_v2: Minibatch scores so far: [41.45]\n",
      "2025/01/11 08:53:18 INFO dspy.teleprompt.mipro_optimizer_v2: Full eval scores so far: [29.43]\n",
      "2025/01/11 08:53:18 INFO dspy.teleprompt.mipro_optimizer_v2: Best full score so far: 29.43\n",
      "2025/01/11 08:53:18 INFO dspy.teleprompt.mipro_optimizer_v2: ============================\n",
      "\n",
      "\n",
      "2025/01/11 08:53:18 INFO dspy.teleprompt.mipro_optimizer_v2: == Minibatch Trial 2 / 25 ==\n"
     ]
    },
    {
     "name": "stdout",
     "output_type": "stream",
     "text": [
      "Average Metric: 10.00 / 25 (40.0%): 100%|██████████████████████████████████████████████████████████████████████████████████████████████| 25/25 [00:00<00:00, 57.54it/s]"
     ]
    },
    {
     "name": "stderr",
     "output_type": "stream",
     "text": [
      "2025/01/11 08:53:19 INFO dspy.evaluate.evaluate: Average Metric: 10.0 / 25 (40.0%)\n",
      "2025/01/11 08:53:19 INFO dspy.teleprompt.mipro_optimizer_v2: Score: 40.0 on minibatch of size 25 with parameters ['Predictor 0: Instruction 10', 'Predictor 0: Few-Shot Set 7'].\n",
      "2025/01/11 08:53:19 INFO dspy.teleprompt.mipro_optimizer_v2: Minibatch scores so far: [41.45, 40.0]\n",
      "2025/01/11 08:53:19 INFO dspy.teleprompt.mipro_optimizer_v2: Full eval scores so far: [29.43]\n",
      "2025/01/11 08:53:19 INFO dspy.teleprompt.mipro_optimizer_v2: Best full score so far: 29.43\n",
      "2025/01/11 08:53:19 INFO dspy.teleprompt.mipro_optimizer_v2: ============================\n",
      "\n",
      "\n",
      "2025/01/11 08:53:19 INFO dspy.teleprompt.mipro_optimizer_v2: == Minibatch Trial 3 / 25 ==\n"
     ]
    },
    {
     "name": "stdout",
     "output_type": "stream",
     "text": [
      "\n",
      "Average Metric: 10.73 / 25 (42.9%): 100%|██████████████████████████████████████████████████████████████████████████████████████████████| 25/25 [00:00<00:00, 40.33it/s]"
     ]
    },
    {
     "name": "stderr",
     "output_type": "stream",
     "text": [
      "2025/01/11 08:53:20 INFO dspy.evaluate.evaluate: Average Metric: 10.727272727272727 / 25 (42.9%)\n",
      "2025/01/11 08:53:20 INFO dspy.teleprompt.mipro_optimizer_v2: Score: 42.91 on minibatch of size 25 with parameters ['Predictor 0: Instruction 7', 'Predictor 0: Few-Shot Set 18'].\n",
      "2025/01/11 08:53:20 INFO dspy.teleprompt.mipro_optimizer_v2: Minibatch scores so far: [41.45, 40.0, 42.91]\n",
      "2025/01/11 08:53:20 INFO dspy.teleprompt.mipro_optimizer_v2: Full eval scores so far: [29.43]\n",
      "2025/01/11 08:53:20 INFO dspy.teleprompt.mipro_optimizer_v2: Best full score so far: 29.43\n",
      "2025/01/11 08:53:20 INFO dspy.teleprompt.mipro_optimizer_v2: ============================\n",
      "\n",
      "\n",
      "2025/01/11 08:53:20 INFO dspy.teleprompt.mipro_optimizer_v2: == Minibatch Trial 4 / 25 ==\n"
     ]
    },
    {
     "name": "stdout",
     "output_type": "stream",
     "text": [
      "\n",
      "Average Metric: 11.36 / 25 (45.5%): 100%|██████████████████████████████████████████████████████████████████████████████████████████████| 25/25 [00:00<00:00, 28.30it/s]"
     ]
    },
    {
     "name": "stderr",
     "output_type": "stream",
     "text": [
      "2025/01/11 08:53:20 INFO dspy.evaluate.evaluate: Average Metric: 11.363636363636363 / 25 (45.5%)\n",
      "2025/01/11 08:53:20 INFO dspy.teleprompt.mipro_optimizer_v2: Score: 45.45 on minibatch of size 25 with parameters ['Predictor 0: Instruction 15', 'Predictor 0: Few-Shot Set 2'].\n"
     ]
    },
    {
     "name": "stdout",
     "output_type": "stream",
     "text": [
      "\n"
     ]
    },
    {
     "name": "stderr",
     "output_type": "stream",
     "text": [
      "2025/01/11 08:53:20 INFO dspy.teleprompt.mipro_optimizer_v2: Minibatch scores so far: [41.45, 40.0, 42.91, 45.45]\n",
      "2025/01/11 08:53:20 INFO dspy.teleprompt.mipro_optimizer_v2: Full eval scores so far: [29.43]\n",
      "2025/01/11 08:53:20 INFO dspy.teleprompt.mipro_optimizer_v2: Best full score so far: 29.43\n",
      "2025/01/11 08:53:20 INFO dspy.teleprompt.mipro_optimizer_v2: ============================\n",
      "\n",
      "\n",
      "2025/01/11 08:53:20 INFO dspy.teleprompt.mipro_optimizer_v2: == Minibatch Trial 5 / 25 ==\n"
     ]
    },
    {
     "name": "stdout",
     "output_type": "stream",
     "text": [
      "Average Metric: 10.64 / 25 (42.5%): 100%|██████████████████████████████████████████████████████████████████████████████████████████████| 25/25 [00:00<00:00, 27.44it/s]"
     ]
    },
    {
     "name": "stderr",
     "output_type": "stream",
     "text": [
      "2025/01/11 08:53:21 INFO dspy.evaluate.evaluate: Average Metric: 10.636363636363637 / 25 (42.5%)\n",
      "2025/01/11 08:53:21 INFO dspy.teleprompt.mipro_optimizer_v2: Score: 42.55 on minibatch of size 25 with parameters ['Predictor 0: Instruction 8', 'Predictor 0: Few-Shot Set 18'].\n",
      "2025/01/11 08:53:21 INFO dspy.teleprompt.mipro_optimizer_v2: Minibatch scores so far: [41.45, 40.0, 42.91, 45.45, 42.55]\n",
      "2025/01/11 08:53:21 INFO dspy.teleprompt.mipro_optimizer_v2: Full eval scores so far: [29.43]\n",
      "2025/01/11 08:53:21 INFO dspy.teleprompt.mipro_optimizer_v2: Best full score so far: 29.43\n",
      "2025/01/11 08:53:21 INFO dspy.teleprompt.mipro_optimizer_v2: ============================\n",
      "\n",
      "\n",
      "2025/01/11 08:53:21 INFO dspy.teleprompt.mipro_optimizer_v2: == Minibatch Trial 6 / 25 ==\n"
     ]
    },
    {
     "name": "stdout",
     "output_type": "stream",
     "text": [
      "\n",
      "Average Metric: 9.82 / 25 (39.3%): 100%|███████████████████████████████████████████████████████████████████████████████████████████████| 25/25 [00:00<00:00, 30.59it/s]\n"
     ]
    },
    {
     "name": "stderr",
     "output_type": "stream",
     "text": [
      "2025/01/11 08:53:22 INFO dspy.evaluate.evaluate: Average Metric: 9.818181818181818 / 25 (39.3%)\n",
      "2025/01/11 08:53:22 INFO dspy.teleprompt.mipro_optimizer_v2: Score: 39.27 on minibatch of size 25 with parameters ['Predictor 0: Instruction 7', 'Predictor 0: Few-Shot Set 1'].\n",
      "2025/01/11 08:53:22 INFO dspy.teleprompt.mipro_optimizer_v2: Minibatch scores so far: [41.45, 40.0, 42.91, 45.45, 42.55, 39.27]\n",
      "2025/01/11 08:53:22 INFO dspy.teleprompt.mipro_optimizer_v2: Full eval scores so far: [29.43]\n",
      "2025/01/11 08:53:22 INFO dspy.teleprompt.mipro_optimizer_v2: Best full score so far: 29.43\n",
      "2025/01/11 08:53:22 INFO dspy.teleprompt.mipro_optimizer_v2: ============================\n",
      "\n",
      "\n",
      "2025/01/11 08:53:22 INFO dspy.teleprompt.mipro_optimizer_v2: == Minibatch Trial 7 / 25 ==\n"
     ]
    },
    {
     "name": "stdout",
     "output_type": "stream",
     "text": [
      "Average Metric: 9.00 / 25 (36.0%): 100%|███████████████████████████████████████████████████████████████████████████████████████████████| 25/25 [00:01<00:00, 22.42it/s]"
     ]
    },
    {
     "name": "stderr",
     "output_type": "stream",
     "text": [
      "2025/01/11 08:53:23 INFO dspy.evaluate.evaluate: Average Metric: 9.0 / 25 (36.0%)\n",
      "2025/01/11 08:53:23 INFO dspy.teleprompt.mipro_optimizer_v2: Score: 36.0 on minibatch of size 25 with parameters ['Predictor 0: Instruction 7', 'Predictor 0: Few-Shot Set 12'].\n",
      "2025/01/11 08:53:23 INFO dspy.teleprompt.mipro_optimizer_v2: Minibatch scores so far: [41.45, 40.0, 42.91, 45.45, 42.55, 39.27, 36.0]\n",
      "2025/01/11 08:53:23 INFO dspy.teleprompt.mipro_optimizer_v2: Full eval scores so far: [29.43]\n",
      "2025/01/11 08:53:23 INFO dspy.teleprompt.mipro_optimizer_v2: Best full score so far: 29.43\n",
      "2025/01/11 08:53:23 INFO dspy.teleprompt.mipro_optimizer_v2: ============================\n",
      "\n",
      "\n",
      "2025/01/11 08:53:23 INFO dspy.teleprompt.mipro_optimizer_v2: == Minibatch Trial 8 / 25 ==\n"
     ]
    },
    {
     "name": "stdout",
     "output_type": "stream",
     "text": [
      "\n",
      "Average Metric: 6.91 / 23 (30.0%):  92%|███████████████████████████████████████████████████████████████████████████████████████▍       | 23/25 [00:00<00:00, 46.78it/s]"
     ]
    },
    {
     "name": "stderr",
     "output_type": "stream",
     "text": [
      "2025/01/11 08:53:24 ERROR dspy.utils.parallelizer: Error processing item Example({'article_text': 'Feb. 6, 2014Credit...Associated PressRalph Kiner, baseballs vastly undersung slugger, who belted more home runs than anyone else over his 10-year career but whose achievements in the batters box were obscured by his decades in the broadcast booth, where he was one of the games most recognizable personalities, died on Thursday at home in Rancho Mirage, Calif. He was 91.The Baseball Hall of Fame, which inducted him in 1975, announced the death.Baseball fans who are short of retirement, especially those in New York, are familiar with Kiner as an announcer who spent half a century with the Mets, enlivening their broadcasts with shrewd analysis, amiable storytelling and memorable malapropisms beginning with their woeful first season in 1962.His genial, well-informed and occasionally tongue-twisted presence accompanied all of Mets history, from the verbal high jinks of Casey Stengel and the fielding high jinks of Marv Throneberry to the arrival of the fireballer Tom Seaver and the miraculous World Series championship of 1969, from the thrilling 1986 Series victory over the Red Sox to the dispiriting Subway Series loss to the Yankees in 2000 and the Madoff-poisoned, injury-riddled ill fortune of recent seasons.But long before he referred on the air to Gary Carter as Gary Cooper, declared that if Casey Stengel were still alive hed be spinning in his grave, or watched a long ball disappear from the park with the trademark call Going, going, gone, goodbye!, Kiner was one of the games great right-handed hitters.Cut short by a back injury, Kiners career on the field was among the most remarkable in baseball history, featuring a concentrated display of power exhibited by few other sluggers. Slow afoot and undistinguished as an outfielder, he was nonetheless among the signature stars of the baseball era immediately after World War II, in the same conversation with Joe DiMaggio, Ted Williams and Stan Musial.From 1946 to 1955, playing for the Pittsburgh Pirates, the Chicago Cubs and the Cleveland Indians, he totaled 369 home runs, twice hitting more than 50 in a season, and drove in 1,015 runs, an average of more than 100 a year.During his first seven seasons, all with Pittsburgh, Kiner led the National League in home runs every year, still a record streak for either league. (Twice he tied with Johnny Mize, once with Hank Sauer.)ImageCredit...Associated PressFrom 1947 to 1951, he had home run totals of 51, 40, 54, 47 and 42, becoming only the second player in history Babe Ruth was the first to hit at least 40 home runs in five consecutive seasons, and the third (after Ruth and Jimmie Foxx) to hit 100 over two consecutive seasons.From 1930, when Hack Wilson hit 56 homers for the Chicago Cubs, to baseballs steroid era in the 1990s, Kiners 54 homers in 1949 was the highest single-season total for a National Leaguer; Henry Aaron never matched him, nor did Willie Mays, Ernie Banks, Mike Schmidt or Willie McCovey, all Hall of Famers with more than 500 career homers.Kiner never made it to the World Series; the Pirates of his era were perpetually mediocre (or worse), and so were the Cubs. In 1955, traded to the American League for his last season, he got closest: the Indians finished second to the Yankees.For a time, Kiner was among baseballs highest-paid players. But after Pittsburghs dreadful 1952 season, when the teams record was 42-112 in spite of Kiners league-leading home run performance, Branch Rickey, the Pirates general manager, cut his salary, reportedly telling him, Son, we can finish last without you.His short career, along with his longtime residence at the bottom of the standings, perhaps explains Kiners relative lack of recognition. When he was finally elected to the Hall of Fame, in 1975, his 15th and final year of eligibility, he sneaked in by two votes, with 273 out of a possible 362.But Kiner was appreciated in other circles. Tall, good-looking and well spoken as a player, he aspired to the career in broadcasting that came to define him he was, in the parlance of the era, a highly eligible bachelor. Introduced to Elizabeth Taylor by Bing Crosby, who was a part owner of the Pirates, he escorted her to the Hollywood premiere of the 1949 war film Twelve OClock High, starring Gregory Peck. When the movie Angels in the Outfield (1951) was filmed at Pittsburghs Forbes Field, Kiner dated its star, Janet Leigh.His courtship of the tennis star Nancy Chaffee, winner of three consecutive national indoor championships, was avidly chronicled by gossip columnists. Their engagement was announced on the radio by Walter Winchell before Kiner actually proposed, and shortly after their marriage, in 1951, the bride wrote an article for The Saturday Evening Post (as told to Al Hirshberg) with the headline Why I Married Ralph Kiner.After she met him, tennis was no longer the most important thing in her life, Chaffee wrote.Even if invited, I wont go back to Wimbledon unless its agreeable to Ralph, she went on. Its too far from Forbes Field, where the Pirates play their home games. For that matter its too far from the cities I hope to visit as a ballplayers wife.ImageCredit...Louis RequenaKiner and Chaffee had three children in a 17-year marriage that ended in divorce in 1968. Chaffee later married the sportscaster Jack Whitaker; she died in 2002. Kiners second marriage, to Barbara George, also ended in divorce. A third marriage, to DiAnn Shugart, ended with her death in 2004, and a fourth, to Ann Benisch, ended in divorce. His survivors include his sons, Ralph and Scott; his daughters, Kathryn Chaffee Freeman, Tracee Kiner Jansen and Kimberlee Kiner; and 12 grandchildren.Ralph McPherran Kiner was born in Santa Rita, N.M., on Oct. 27, 1922. His father, a baker, died when Ralph was 4, and he moved with his mother, Beatrice, a nurse, to Alhambra, Calif., where he grew up playing ball. He signed with the Pirates after graduating from high school, playing two seasons and part of a third in the minor leagues before training as a Navy pilot during World War II. He served in the Pacific, assigned to search for Japanese submarines, though he acknowledged he did not see combat or much else.I was on a few patrols but, gosh, we didnt even spot a whale, he told The New York Times in 1947.At the start of that year, his second in the big leagues, the Pirates acquired the great slugger Hank Greenberg from the Detroit Tigers, and Greenberg became Kiners roommate and mentor (and later his best man at his wedding to Chaffee), advising him on his swing, his preparation, his work ethic.Greenbergs acquisition helped Kiner in more tangible ways as well. For one thing, Greenberg hit behind him in the batting order, protecting him, making sure he got better pitches to hit, and Kiner hit .313, the highest average of his career. Whats more, to accommodate Greenberg, the Pirates had modified Forbes Field, moving in the left field fence to bring it in line with other ballparks and installing the bullpens behind it, an area that came to be called Greenberg Gardens for the long balls the new Pirate was expected to plant there.But it was Kiner who was the primary beneficiary of the change, hitting 51 home runs. Playing what turned out to be his last season, Greenberg hit 25. Greenberg Gardens was rechristened Kiners Korner.The two men were reunited in 1955, when Greenberg, then the general manager of the Indians, acquired Kiner from the Cubs, a transaction complicated by Kiners curious decision to sign a contract for $40,000 a year, less than he was offered and far less than he made the previous year in Chicago, reported to be $65,000.Major league player representatives objected to the contract because it violated the agreement between players and club owners that a players salary could not be reduced by more than 25 percent in a season. Baseballs commissioner, Ford C. Frick, indicated that he would void the contract, and Kiner and Greenberg, who did not want to pay him so little in the first place, eventually renegotiated it.ImageCredit...Associated PressI did not have too good a year with the Cubs, and my salary might have been resented by some players, explained Kiner, who was among the players who fought owners for an improved pension plan. I thought if I had a good season with the Indians in 1955, I could more than make up the cut the following year. At first Greenberg was against it, but he then thought the publicity would be good. At no time did I have in mind to undermine the players. Everyone knows Ive been fighting for them for years.In Cleveland, his back problems worsened. He played only 113 games for the Indians in 1955 and hit a career-low 18 homers, prompting his retirement. For five years afterward he was general manager of the San Diego Padres, then a minor league team, and in 1961 he got his first broadcasting job, calling games on the radio for the Chicago White Sox. The next season the Mets began life in New York, and he was offered a job on their broadcast team, he once said, because I had a lot of experience with losing.Over half a century of Met broadcasts, while sharing the microphone with Lindsey Nelson, Bob Murphy and Tim McCarver whom he once called Tim MacArthur among many others, Kiner proved himself especially valuable in explaining the nuances of hitting, and though occasionally criticized for a flat affect and a penchant for phrase-bungling On Fathers Day we again wish you all happy birthday! he was known as an amusing raconteur who was generally well prepared with both facts and stories, and his intended wit was often as memorable as his unintended humor.Two-thirds of the earth is covered by water, he declared about an especially fleet outfielder. The other third is covered by Garry Maddox. Cutting to a commercial after mistaking McCarvers name for that of the World War II general, he said: MacArthur once said I shall return, and well be back after this.In addition to his game broadcasts, he was the host of the popular postgame interview show Kiners Korner, itself a source of legendary Kinerisms, though he was sometimes outdone by his guests. In one exchange from the early days of the Mets (though not on the show Kiners Korner), he asked a young Mets catcher, Choo Choo Coleman, Whats your wifes name, and whats she like? Coleman replied, Her name is Mrs. Coleman and she likes me, bub. (Years later, Coleman denied this ever happened.)In 1996 Kiner disclosed he had Bells palsy, but he continued to work, albeit with slurred speech. In later years he appeared on broadcasts only sporadically.In 2010 Kiner was described in The New York Times as a human archive of Mets and baseball history, and indeed he had the kind of longevity in the game that allowed him to put one career in perspective as he began his second. In 1961, as Roger Maris and Mickey Mantle pursued Babe Ruths record of 60 home runs in a season, achieved in 1927, Kiner recalled that in 1949, when he was chasing the same mark, it was so revered that he dreaded breaking it. Hed even written a magazine article under the headline The Home Run Id Hate to Hit.Twelve years after I had my 54-homer season, I find myself saying that I wish Id broken the Babes record, he said, going on to predict, wrongly, that Ruths career record of 714 home runs would never be broken. (Henry Aaron and Barry Bonds have both done so.) He could not have known that a new chance at fame awaited him on the airwaves, but he already felt that his accomplishments on the field had faded to obscurity.Ive reached a point now that Im surprised when Im asked for an autograph, he said. Yesterday doesnt count anymore, only today.', 'extracted_quotes': ['Going, going, gone, goodbye!', 'Son, we can finish last without you.', 'I was on a few patrols but, gosh, we didnt even spot a whale.', 'I did not have too good a year with the Cubs, and my salary might have been resented by some players.', 'On Fathers Day we again wish you all happy birthday!', 'Two-thirds of the earth is covered by water. The other third is covered by Garry Maddox.', 'MacArthur once said I shall return, and well be back after this.', 'Her name is Mrs. Coleman and she likes me, bub.', 'Ive reached a point now that Im surprised when Im asked for an autograph. Yesterday doesnt count anymore, only today.', 'Why I Married Ralph Kiner.', 'After she met him, tennis was no longer the most important thing in her life.', 'Its too far from Forbes Field, where the Pirates play their home games.', 'The Home Run Id Hate to Hit.', 'At no time did I have in mind to undermine the players. Everyone knows Ive been fighting for them for years.', 'Even if invited, I wont go back to Wimbledon unless its agreeable to Ralph.'], 'publication_date': datetime.date(2014, 2, 6), 'keywords': ['Ralph Kiner', 'baseball', 'Hall of Fame', 'Mets', 'broadcasting', 'home runs', 'Pittsburgh Pirates', 'Chicago Cubs', 'Cleveland Indians', 'Hank Greenberg', 'Babe Ruth', 'Joe DiMaggio', 'Ted Williams', 'Stan Musial', 'Nancy Chaffee'], 'generated_title': 'Ralph Kiner, Baseball Legend and Beloved Broadcaster, Dies at 91', 'primary_category': 'sports', 'content_type': 'reporting', 'mentioned_people': ['Ralph Kiner', 'Hank Greenberg', 'Babe Ruth', 'Joe DiMaggio', 'Ted Williams', 'Stan Musial', 'Johnny Mize', 'Hank Sauer', 'Henry Aaron', 'Willie Mays', 'Ernie Banks', 'Mike Schmidt', 'Willie McCovey', 'Branch Rickey', 'Elizabeth Taylor', 'Gregory Peck', 'Janet Leigh', 'Nancy Chaffee', 'Walter Winchell', 'Jack Whitaker', 'DiAnn Shugart', 'Ann Benisch', 'Roger Maris', 'Mickey Mantle', 'Barry Bonds', 'Bing Crosby', 'Al Hirshberg', 'Barbara George', 'Beatrice Kiner', 'Ford C. Frick', 'Lindsey Nelson', 'Bob Murphy', 'Tim McCarver', 'Garry Maddox', 'Choo Choo Coleman', 'Casey Stengel', 'Marv Throneberry', 'Tom Seaver', 'Gary Carter', 'Jimmie Foxx'], 'mentioned_organizations': ['Baseball Hall of Fame', 'Pittsburgh Pirates', 'Chicago Cubs', 'Cleveland Indians', 'New York Mets', 'San Diego Padres', 'Chicago White Sox', 'Navy', 'Detroit Tigers', 'The Saturday Evening Post', 'The New York Times'], 'mentioned_legislation': '', 'mentioned_locations': ['Rancho Mirage, California', 'Santa Rita, New Mexico', 'Alhambra, California', 'Forbes Field', 'Pacific', 'Wimbledon', 'Hollywood', 'New York'], 'sentiment_tone': 'positive'}) (input_keys={'article_text'}): 1 validation error for literal['editorial','opinion','analysis','reporting','interview','investigative','press_release','blog_post']\n",
      "  Input should be 'editorial', 'opinion', 'analysis', 'reporting', 'interview', 'investigative', 'press_release' or 'blog_post' [type=literal_error, input_value='obituary', input_type=str]\n",
      "    For further information visit https://errors.pydantic.dev/2.10/v/literal_error. Set `provide_traceback=True` to see the stack trace.\n"
     ]
    },
    {
     "name": "stdout",
     "output_type": "stream",
     "text": [
      "Average Metric: 7.36 / 24 (30.7%): 100%|███████████████████████████████████████████████████████████████████████████████████████████████| 25/25 [00:00<00:00, 49.35it/s]"
     ]
    },
    {
     "name": "stderr",
     "output_type": "stream",
     "text": [
      "2025/01/11 08:53:24 INFO dspy.evaluate.evaluate: Average Metric: 7.363636363636363 / 25 (29.5%)\n"
     ]
    },
    {
     "name": "stdout",
     "output_type": "stream",
     "text": [
      "\n"
     ]
    },
    {
     "name": "stderr",
     "output_type": "stream",
     "text": [
      "2025/01/11 08:53:24 INFO dspy.teleprompt.mipro_optimizer_v2: Score: 29.45 on minibatch of size 25 with parameters ['Predictor 0: Instruction 11', 'Predictor 0: Few-Shot Set 13'].\n",
      "2025/01/11 08:53:24 INFO dspy.teleprompt.mipro_optimizer_v2: Minibatch scores so far: [41.45, 40.0, 42.91, 45.45, 42.55, 39.27, 36.0, 29.45]\n",
      "2025/01/11 08:53:24 INFO dspy.teleprompt.mipro_optimizer_v2: Full eval scores so far: [29.43]\n",
      "2025/01/11 08:53:24 INFO dspy.teleprompt.mipro_optimizer_v2: Best full score so far: 29.43\n",
      "2025/01/11 08:53:24 INFO dspy.teleprompt.mipro_optimizer_v2: ============================\n",
      "\n",
      "\n",
      "2025/01/11 08:53:24 INFO dspy.teleprompt.mipro_optimizer_v2: == Minibatch Trial 9 / 25 ==\n"
     ]
    },
    {
     "name": "stdout",
     "output_type": "stream",
     "text": [
      "Average Metric: 10.27 / 25 (41.1%): 100%|██████████████████████████████████████████████████████████████████████████████████████████████| 25/25 [00:00<00:00, 45.92it/s]"
     ]
    },
    {
     "name": "stderr",
     "output_type": "stream",
     "text": [
      "2025/01/11 08:53:25 INFO dspy.evaluate.evaluate: Average Metric: 10.272727272727273 / 25 (41.1%)\n",
      "2025/01/11 08:53:25 INFO dspy.teleprompt.mipro_optimizer_v2: Score: 41.09 on minibatch of size 25 with parameters ['Predictor 0: Instruction 5', 'Predictor 0: Few-Shot Set 4'].\n"
     ]
    },
    {
     "name": "stdout",
     "output_type": "stream",
     "text": [
      "\n"
     ]
    },
    {
     "name": "stderr",
     "output_type": "stream",
     "text": [
      "2025/01/11 08:53:25 INFO dspy.teleprompt.mipro_optimizer_v2: Minibatch scores so far: [41.45, 40.0, 42.91, 45.45, 42.55, 39.27, 36.0, 29.45, 41.09]\n",
      "2025/01/11 08:53:25 INFO dspy.teleprompt.mipro_optimizer_v2: Full eval scores so far: [29.43]\n",
      "2025/01/11 08:53:25 INFO dspy.teleprompt.mipro_optimizer_v2: Best full score so far: 29.43\n",
      "2025/01/11 08:53:25 INFO dspy.teleprompt.mipro_optimizer_v2: ============================\n",
      "\n",
      "\n",
      "2025/01/11 08:53:25 INFO dspy.teleprompt.mipro_optimizer_v2: == Minibatch Trial 10 / 25 ==\n"
     ]
    },
    {
     "name": "stdout",
     "output_type": "stream",
     "text": [
      "Average Metric: 9.82 / 25 (39.3%): 100%|███████████████████████████████████████████████████████████████████████████████████████████████| 25/25 [00:00<00:00, 45.16it/s]"
     ]
    },
    {
     "name": "stderr",
     "output_type": "stream",
     "text": [
      "2025/01/11 08:53:25 INFO dspy.evaluate.evaluate: Average Metric: 9.818181818181818 / 25 (39.3%)\n",
      "2025/01/11 08:53:25 INFO dspy.teleprompt.mipro_optimizer_v2: Score: 39.27 on minibatch of size 25 with parameters ['Predictor 0: Instruction 14', 'Predictor 0: Few-Shot Set 1'].\n",
      "2025/01/11 08:53:25 INFO dspy.teleprompt.mipro_optimizer_v2: Minibatch scores so far: [41.45, 40.0, 42.91, 45.45, 42.55, 39.27, 36.0, 29.45, 41.09, 39.27]\n",
      "2025/01/11 08:53:25 INFO dspy.teleprompt.mipro_optimizer_v2: Full eval scores so far: [29.43]\n",
      "2025/01/11 08:53:25 INFO dspy.teleprompt.mipro_optimizer_v2: Best full score so far: 29.43\n",
      "2025/01/11 08:53:25 INFO dspy.teleprompt.mipro_optimizer_v2: =============================\n",
      "\n",
      "\n",
      "2025/01/11 08:53:25 INFO dspy.teleprompt.mipro_optimizer_v2: ===== Full Eval 1 =====\n",
      "2025/01/11 08:53:25 INFO dspy.teleprompt.mipro_optimizer_v2: Doing full eval on next top averaging program (Avg Score: 45.45) from minibatch trials...\n"
     ]
    },
    {
     "name": "stdout",
     "output_type": "stream",
     "text": [
      "\n",
      "Average Metric: 33.73 / 80 (42.2%): 100%|██████████████████████████████████████████████████████████████████████████████████████████████| 80/80 [00:02<00:00, 35.34it/s]"
     ]
    },
    {
     "name": "stderr",
     "output_type": "stream",
     "text": [
      "2025/01/11 08:53:27 INFO dspy.evaluate.evaluate: Average Metric: 33.72727272727273 / 80 (42.2%)\n",
      "2025/01/11 08:53:27 INFO dspy.teleprompt.mipro_optimizer_v2: \u001b[92mNew best full eval score!\u001b[0m Score: 42.16\n",
      "2025/01/11 08:53:27 INFO dspy.teleprompt.mipro_optimizer_v2: Full eval scores so far: [29.43, 42.16]\n",
      "2025/01/11 08:53:27 INFO dspy.teleprompt.mipro_optimizer_v2: Best full score so far: 42.16\n",
      "2025/01/11 08:53:27 INFO dspy.teleprompt.mipro_optimizer_v2: =======================\n",
      "2025/01/11 08:53:27 INFO dspy.teleprompt.mipro_optimizer_v2: \n",
      "\n",
      "2025/01/11 08:53:27 INFO dspy.teleprompt.mipro_optimizer_v2: == Minibatch Trial 11 / 25 ==\n"
     ]
    },
    {
     "name": "stdout",
     "output_type": "stream",
     "text": [
      "\n",
      "Average Metric: 9.45 / 25 (37.8%): 100%|███████████████████████████████████████████████████████████████████████████████████████████████| 25/25 [00:01<00:00, 23.07it/s]"
     ]
    },
    {
     "name": "stderr",
     "output_type": "stream",
     "text": [
      "2025/01/11 08:53:29 INFO dspy.evaluate.evaluate: Average Metric: 9.454545454545455 / 25 (37.8%)\n",
      "2025/01/11 08:53:29 INFO dspy.teleprompt.mipro_optimizer_v2: Score: 37.82 on minibatch of size 25 with parameters ['Predictor 0: Instruction 13', 'Predictor 0: Few-Shot Set 2'].\n"
     ]
    },
    {
     "name": "stdout",
     "output_type": "stream",
     "text": [
      "\n"
     ]
    },
    {
     "name": "stderr",
     "output_type": "stream",
     "text": [
      "2025/01/11 08:53:29 INFO dspy.teleprompt.mipro_optimizer_v2: Minibatch scores so far: [41.45, 40.0, 42.91, 45.45, 42.55, 39.27, 36.0, 29.45, 41.09, 39.27, 37.82]\n",
      "2025/01/11 08:53:29 INFO dspy.teleprompt.mipro_optimizer_v2: Full eval scores so far: [29.43, 42.16]\n",
      "2025/01/11 08:53:29 INFO dspy.teleprompt.mipro_optimizer_v2: Best full score so far: 42.16\n",
      "2025/01/11 08:53:29 INFO dspy.teleprompt.mipro_optimizer_v2: =============================\n",
      "\n",
      "\n",
      "2025/01/11 08:53:29 INFO dspy.teleprompt.mipro_optimizer_v2: == Minibatch Trial 12 / 25 ==\n"
     ]
    },
    {
     "name": "stdout",
     "output_type": "stream",
     "text": [
      "Average Metric: 9.82 / 25 (39.3%): 100%|███████████████████████████████████████████████████████████████████████████████████████████████| 25/25 [00:00<00:00, 38.65it/s]"
     ]
    },
    {
     "name": "stderr",
     "output_type": "stream",
     "text": [
      "2025/01/11 08:53:29 INFO dspy.evaluate.evaluate: Average Metric: 9.818181818181818 / 25 (39.3%)\n",
      "2025/01/11 08:53:29 INFO dspy.teleprompt.mipro_optimizer_v2: Score: 39.27 on minibatch of size 25 with parameters ['Predictor 0: Instruction 15', 'Predictor 0: Few-Shot Set 2'].\n",
      "2025/01/11 08:53:29 INFO dspy.teleprompt.mipro_optimizer_v2: Minibatch scores so far: [41.45, 40.0, 42.91, 45.45, 42.55, 39.27, 36.0, 29.45, 41.09, 39.27, 37.82, 39.27]\n",
      "2025/01/11 08:53:29 INFO dspy.teleprompt.mipro_optimizer_v2: Full eval scores so far: [29.43, 42.16]\n"
     ]
    },
    {
     "name": "stdout",
     "output_type": "stream",
     "text": [
      "\n"
     ]
    },
    {
     "name": "stderr",
     "output_type": "stream",
     "text": [
      "2025/01/11 08:53:29 INFO dspy.teleprompt.mipro_optimizer_v2: Best full score so far: 42.16\n",
      "2025/01/11 08:53:29 INFO dspy.teleprompt.mipro_optimizer_v2: =============================\n",
      "\n",
      "\n",
      "2025/01/11 08:53:29 INFO dspy.teleprompt.mipro_optimizer_v2: == Minibatch Trial 13 / 25 ==\n"
     ]
    },
    {
     "name": "stdout",
     "output_type": "stream",
     "text": [
      "Average Metric: 8.45 / 25 (33.8%): 100%|███████████████████████████████████████████████████████████████████████████████████████████████| 25/25 [00:00<00:00, 43.41it/s]"
     ]
    },
    {
     "name": "stderr",
     "output_type": "stream",
     "text": [
      "2025/01/11 08:53:30 INFO dspy.evaluate.evaluate: Average Metric: 8.454545454545455 / 25 (33.8%)\n",
      "2025/01/11 08:53:30 INFO dspy.teleprompt.mipro_optimizer_v2: Score: 33.82 on minibatch of size 25 with parameters ['Predictor 0: Instruction 15', 'Predictor 0: Few-Shot Set 9'].\n",
      "2025/01/11 08:53:30 INFO dspy.teleprompt.mipro_optimizer_v2: Minibatch scores so far: [41.45, 40.0, 42.91, 45.45, 42.55, 39.27, 36.0, 29.45, 41.09, 39.27, 37.82, 39.27, 33.82]\n",
      "2025/01/11 08:53:30 INFO dspy.teleprompt.mipro_optimizer_v2: Full eval scores so far: [29.43, 42.16]\n",
      "2025/01/11 08:53:30 INFO dspy.teleprompt.mipro_optimizer_v2: Best full score so far: 42.16\n",
      "2025/01/11 08:53:30 INFO dspy.teleprompt.mipro_optimizer_v2: =============================\n",
      "\n",
      "\n",
      "2025/01/11 08:53:30 INFO dspy.teleprompt.mipro_optimizer_v2: == Minibatch Trial 14 / 25 ==\n"
     ]
    },
    {
     "name": "stdout",
     "output_type": "stream",
     "text": [
      "\n",
      "Average Metric: 11.36 / 25 (45.5%): 100%|██████████████████████████████████████████████████████████████████████████████████████████████| 25/25 [00:00<00:00, 46.21it/s]"
     ]
    },
    {
     "name": "stderr",
     "output_type": "stream",
     "text": [
      "2025/01/11 08:53:30 INFO dspy.evaluate.evaluate: Average Metric: 11.363636363636363 / 25 (45.5%)\n",
      "2025/01/11 08:53:30 INFO dspy.teleprompt.mipro_optimizer_v2: Score: 45.45 on minibatch of size 25 with parameters ['Predictor 0: Instruction 9', 'Predictor 0: Few-Shot Set 18'].\n",
      "2025/01/11 08:53:30 INFO dspy.teleprompt.mipro_optimizer_v2: Minibatch scores so far: [41.45, 40.0, 42.91, 45.45, 42.55, 39.27, 36.0, 29.45, 41.09, 39.27, 37.82, 39.27, 33.82, 45.45]\n",
      "2025/01/11 08:53:30 INFO dspy.teleprompt.mipro_optimizer_v2: Full eval scores so far: [29.43, 42.16]\n",
      "2025/01/11 08:53:30 INFO dspy.teleprompt.mipro_optimizer_v2: Best full score so far: 42.16\n",
      "2025/01/11 08:53:30 INFO dspy.teleprompt.mipro_optimizer_v2: =============================\n",
      "\n",
      "\n",
      "2025/01/11 08:53:30 INFO dspy.teleprompt.mipro_optimizer_v2: == Minibatch Trial 15 / 25 ==\n"
     ]
    },
    {
     "name": "stdout",
     "output_type": "stream",
     "text": [
      "\n",
      "Average Metric: 2.55 / 7 (36.4%):  24%|███████████████████████▎                                                                         | 6/25 [00:00<00:00, 25.99it/s]"
     ]
    },
    {
     "name": "stderr",
     "output_type": "stream",
     "text": [
      "2025/01/11 08:53:31 ERROR dspy.utils.parallelizer: Error processing item Example({'article_text': 'Feb. 6, 2014Credit...Associated PressRalph Kiner, baseballs vastly undersung slugger, who belted more home runs than anyone else over his 10-year career but whose achievements in the batters box were obscured by his decades in the broadcast booth, where he was one of the games most recognizable personalities, died on Thursday at home in Rancho Mirage, Calif. He was 91.The Baseball Hall of Fame, which inducted him in 1975, announced the death.Baseball fans who are short of retirement, especially those in New York, are familiar with Kiner as an announcer who spent half a century with the Mets, enlivening their broadcasts with shrewd analysis, amiable storytelling and memorable malapropisms beginning with their woeful first season in 1962.His genial, well-informed and occasionally tongue-twisted presence accompanied all of Mets history, from the verbal high jinks of Casey Stengel and the fielding high jinks of Marv Throneberry to the arrival of the fireballer Tom Seaver and the miraculous World Series championship of 1969, from the thrilling 1986 Series victory over the Red Sox to the dispiriting Subway Series loss to the Yankees in 2000 and the Madoff-poisoned, injury-riddled ill fortune of recent seasons.But long before he referred on the air to Gary Carter as Gary Cooper, declared that if Casey Stengel were still alive hed be spinning in his grave, or watched a long ball disappear from the park with the trademark call Going, going, gone, goodbye!, Kiner was one of the games great right-handed hitters.Cut short by a back injury, Kiners career on the field was among the most remarkable in baseball history, featuring a concentrated display of power exhibited by few other sluggers. Slow afoot and undistinguished as an outfielder, he was nonetheless among the signature stars of the baseball era immediately after World War II, in the same conversation with Joe DiMaggio, Ted Williams and Stan Musial.From 1946 to 1955, playing for the Pittsburgh Pirates, the Chicago Cubs and the Cleveland Indians, he totaled 369 home runs, twice hitting more than 50 in a season, and drove in 1,015 runs, an average of more than 100 a year.During his first seven seasons, all with Pittsburgh, Kiner led the National League in home runs every year, still a record streak for either league. (Twice he tied with Johnny Mize, once with Hank Sauer.)ImageCredit...Associated PressFrom 1947 to 1951, he had home run totals of 51, 40, 54, 47 and 42, becoming only the second player in history Babe Ruth was the first to hit at least 40 home runs in five consecutive seasons, and the third (after Ruth and Jimmie Foxx) to hit 100 over two consecutive seasons.From 1930, when Hack Wilson hit 56 homers for the Chicago Cubs, to baseballs steroid era in the 1990s, Kiners 54 homers in 1949 was the highest single-season total for a National Leaguer; Henry Aaron never matched him, nor did Willie Mays, Ernie Banks, Mike Schmidt or Willie McCovey, all Hall of Famers with more than 500 career homers.Kiner never made it to the World Series; the Pirates of his era were perpetually mediocre (or worse), and so were the Cubs. In 1955, traded to the American League for his last season, he got closest: the Indians finished second to the Yankees.For a time, Kiner was among baseballs highest-paid players. But after Pittsburghs dreadful 1952 season, when the teams record was 42-112 in spite of Kiners league-leading home run performance, Branch Rickey, the Pirates general manager, cut his salary, reportedly telling him, Son, we can finish last without you.His short career, along with his longtime residence at the bottom of the standings, perhaps explains Kiners relative lack of recognition. When he was finally elected to the Hall of Fame, in 1975, his 15th and final year of eligibility, he sneaked in by two votes, with 273 out of a possible 362.But Kiner was appreciated in other circles. Tall, good-looking and well spoken as a player, he aspired to the career in broadcasting that came to define him he was, in the parlance of the era, a highly eligible bachelor. Introduced to Elizabeth Taylor by Bing Crosby, who was a part owner of the Pirates, he escorted her to the Hollywood premiere of the 1949 war film Twelve OClock High, starring Gregory Peck. When the movie Angels in the Outfield (1951) was filmed at Pittsburghs Forbes Field, Kiner dated its star, Janet Leigh.His courtship of the tennis star Nancy Chaffee, winner of three consecutive national indoor championships, was avidly chronicled by gossip columnists. Their engagement was announced on the radio by Walter Winchell before Kiner actually proposed, and shortly after their marriage, in 1951, the bride wrote an article for The Saturday Evening Post (as told to Al Hirshberg) with the headline Why I Married Ralph Kiner.After she met him, tennis was no longer the most important thing in her life, Chaffee wrote.Even if invited, I wont go back to Wimbledon unless its agreeable to Ralph, she went on. Its too far from Forbes Field, where the Pirates play their home games. For that matter its too far from the cities I hope to visit as a ballplayers wife.ImageCredit...Louis RequenaKiner and Chaffee had three children in a 17-year marriage that ended in divorce in 1968. Chaffee later married the sportscaster Jack Whitaker; she died in 2002. Kiners second marriage, to Barbara George, also ended in divorce. A third marriage, to DiAnn Shugart, ended with her death in 2004, and a fourth, to Ann Benisch, ended in divorce. His survivors include his sons, Ralph and Scott; his daughters, Kathryn Chaffee Freeman, Tracee Kiner Jansen and Kimberlee Kiner; and 12 grandchildren.Ralph McPherran Kiner was born in Santa Rita, N.M., on Oct. 27, 1922. His father, a baker, died when Ralph was 4, and he moved with his mother, Beatrice, a nurse, to Alhambra, Calif., where he grew up playing ball. He signed with the Pirates after graduating from high school, playing two seasons and part of a third in the minor leagues before training as a Navy pilot during World War II. He served in the Pacific, assigned to search for Japanese submarines, though he acknowledged he did not see combat or much else.I was on a few patrols but, gosh, we didnt even spot a whale, he told The New York Times in 1947.At the start of that year, his second in the big leagues, the Pirates acquired the great slugger Hank Greenberg from the Detroit Tigers, and Greenberg became Kiners roommate and mentor (and later his best man at his wedding to Chaffee), advising him on his swing, his preparation, his work ethic.Greenbergs acquisition helped Kiner in more tangible ways as well. For one thing, Greenberg hit behind him in the batting order, protecting him, making sure he got better pitches to hit, and Kiner hit .313, the highest average of his career. Whats more, to accommodate Greenberg, the Pirates had modified Forbes Field, moving in the left field fence to bring it in line with other ballparks and installing the bullpens behind it, an area that came to be called Greenberg Gardens for the long balls the new Pirate was expected to plant there.But it was Kiner who was the primary beneficiary of the change, hitting 51 home runs. Playing what turned out to be his last season, Greenberg hit 25. Greenberg Gardens was rechristened Kiners Korner.The two men were reunited in 1955, when Greenberg, then the general manager of the Indians, acquired Kiner from the Cubs, a transaction complicated by Kiners curious decision to sign a contract for $40,000 a year, less than he was offered and far less than he made the previous year in Chicago, reported to be $65,000.Major league player representatives objected to the contract because it violated the agreement between players and club owners that a players salary could not be reduced by more than 25 percent in a season. Baseballs commissioner, Ford C. Frick, indicated that he would void the contract, and Kiner and Greenberg, who did not want to pay him so little in the first place, eventually renegotiated it.ImageCredit...Associated PressI did not have too good a year with the Cubs, and my salary might have been resented by some players, explained Kiner, who was among the players who fought owners for an improved pension plan. I thought if I had a good season with the Indians in 1955, I could more than make up the cut the following year. At first Greenberg was against it, but he then thought the publicity would be good. At no time did I have in mind to undermine the players. Everyone knows Ive been fighting for them for years.In Cleveland, his back problems worsened. He played only 113 games for the Indians in 1955 and hit a career-low 18 homers, prompting his retirement. For five years afterward he was general manager of the San Diego Padres, then a minor league team, and in 1961 he got his first broadcasting job, calling games on the radio for the Chicago White Sox. The next season the Mets began life in New York, and he was offered a job on their broadcast team, he once said, because I had a lot of experience with losing.Over half a century of Met broadcasts, while sharing the microphone with Lindsey Nelson, Bob Murphy and Tim McCarver whom he once called Tim MacArthur among many others, Kiner proved himself especially valuable in explaining the nuances of hitting, and though occasionally criticized for a flat affect and a penchant for phrase-bungling On Fathers Day we again wish you all happy birthday! he was known as an amusing raconteur who was generally well prepared with both facts and stories, and his intended wit was often as memorable as his unintended humor.Two-thirds of the earth is covered by water, he declared about an especially fleet outfielder. The other third is covered by Garry Maddox. Cutting to a commercial after mistaking McCarvers name for that of the World War II general, he said: MacArthur once said I shall return, and well be back after this.In addition to his game broadcasts, he was the host of the popular postgame interview show Kiners Korner, itself a source of legendary Kinerisms, though he was sometimes outdone by his guests. In one exchange from the early days of the Mets (though not on the show Kiners Korner), he asked a young Mets catcher, Choo Choo Coleman, Whats your wifes name, and whats she like? Coleman replied, Her name is Mrs. Coleman and she likes me, bub. (Years later, Coleman denied this ever happened.)In 1996 Kiner disclosed he had Bells palsy, but he continued to work, albeit with slurred speech. In later years he appeared on broadcasts only sporadically.In 2010 Kiner was described in The New York Times as a human archive of Mets and baseball history, and indeed he had the kind of longevity in the game that allowed him to put one career in perspective as he began his second. In 1961, as Roger Maris and Mickey Mantle pursued Babe Ruths record of 60 home runs in a season, achieved in 1927, Kiner recalled that in 1949, when he was chasing the same mark, it was so revered that he dreaded breaking it. Hed even written a magazine article under the headline The Home Run Id Hate to Hit.Twelve years after I had my 54-homer season, I find myself saying that I wish Id broken the Babes record, he said, going on to predict, wrongly, that Ruths career record of 714 home runs would never be broken. (Henry Aaron and Barry Bonds have both done so.) He could not have known that a new chance at fame awaited him on the airwaves, but he already felt that his accomplishments on the field had faded to obscurity.Ive reached a point now that Im surprised when Im asked for an autograph, he said. Yesterday doesnt count anymore, only today.', 'extracted_quotes': ['Going, going, gone, goodbye!', 'Son, we can finish last without you.', 'I was on a few patrols but, gosh, we didnt even spot a whale.', 'I did not have too good a year with the Cubs, and my salary might have been resented by some players.', 'On Fathers Day we again wish you all happy birthday!', 'Two-thirds of the earth is covered by water. The other third is covered by Garry Maddox.', 'MacArthur once said I shall return, and well be back after this.', 'Her name is Mrs. Coleman and she likes me, bub.', 'Ive reached a point now that Im surprised when Im asked for an autograph. Yesterday doesnt count anymore, only today.', 'Why I Married Ralph Kiner.', 'After she met him, tennis was no longer the most important thing in her life.', 'Its too far from Forbes Field, where the Pirates play their home games.', 'The Home Run Id Hate to Hit.', 'At no time did I have in mind to undermine the players. Everyone knows Ive been fighting for them for years.', 'Even if invited, I wont go back to Wimbledon unless its agreeable to Ralph.'], 'publication_date': datetime.date(2014, 2, 6), 'keywords': ['Ralph Kiner', 'baseball', 'Hall of Fame', 'Mets', 'broadcasting', 'home runs', 'Pittsburgh Pirates', 'Chicago Cubs', 'Cleveland Indians', 'Hank Greenberg', 'Babe Ruth', 'Joe DiMaggio', 'Ted Williams', 'Stan Musial', 'Nancy Chaffee'], 'generated_title': 'Ralph Kiner, Baseball Legend and Beloved Broadcaster, Dies at 91', 'primary_category': 'sports', 'content_type': 'reporting', 'mentioned_people': ['Ralph Kiner', 'Hank Greenberg', 'Babe Ruth', 'Joe DiMaggio', 'Ted Williams', 'Stan Musial', 'Johnny Mize', 'Hank Sauer', 'Henry Aaron', 'Willie Mays', 'Ernie Banks', 'Mike Schmidt', 'Willie McCovey', 'Branch Rickey', 'Elizabeth Taylor', 'Gregory Peck', 'Janet Leigh', 'Nancy Chaffee', 'Walter Winchell', 'Jack Whitaker', 'DiAnn Shugart', 'Ann Benisch', 'Roger Maris', 'Mickey Mantle', 'Barry Bonds', 'Bing Crosby', 'Al Hirshberg', 'Barbara George', 'Beatrice Kiner', 'Ford C. Frick', 'Lindsey Nelson', 'Bob Murphy', 'Tim McCarver', 'Garry Maddox', 'Choo Choo Coleman', 'Casey Stengel', 'Marv Throneberry', 'Tom Seaver', 'Gary Carter', 'Jimmie Foxx'], 'mentioned_organizations': ['Baseball Hall of Fame', 'Pittsburgh Pirates', 'Chicago Cubs', 'Cleveland Indians', 'New York Mets', 'San Diego Padres', 'Chicago White Sox', 'Navy', 'Detroit Tigers', 'The Saturday Evening Post', 'The New York Times'], 'mentioned_legislation': '', 'mentioned_locations': ['Rancho Mirage, California', 'Santa Rita, New Mexico', 'Alhambra, California', 'Forbes Field', 'Pacific', 'Wimbledon', 'Hollywood', 'New York'], 'sentiment_tone': 'positive'}) (input_keys={'article_text'}): 1 validation error for literal['editorial','opinion','analysis','reporting','interview','investigative','press_release','blog_post']\n",
      "  Input should be 'editorial', 'opinion', 'analysis', 'reporting', 'interview', 'investigative', 'press_release' or 'blog_post' [type=literal_error, input_value='obituary', input_type=str]\n",
      "    For further information visit https://errors.pydantic.dev/2.10/v/literal_error. Set `provide_traceback=True` to see the stack trace.\n"
     ]
    },
    {
     "name": "stdout",
     "output_type": "stream",
     "text": [
      "Average Metric: 8.82 / 24 (36.7%): 100%|███████████████████████████████████████████████████████████████████████████████████████████████| 25/25 [00:00<00:00, 31.95it/s]"
     ]
    },
    {
     "name": "stderr",
     "output_type": "stream",
     "text": [
      "2025/01/11 08:53:31 INFO dspy.evaluate.evaluate: Average Metric: 8.818181818181818 / 25 (35.3%)\n",
      "2025/01/11 08:53:31 INFO dspy.teleprompt.mipro_optimizer_v2: Score: 35.27 on minibatch of size 25 with parameters ['Predictor 0: Instruction 9', 'Predictor 0: Few-Shot Set 6'].\n",
      "2025/01/11 08:53:31 INFO dspy.teleprompt.mipro_optimizer_v2: Minibatch scores so far: [41.45, 40.0, 42.91, 45.45, 42.55, 39.27, 36.0, 29.45, 41.09, 39.27, 37.82, 39.27, 33.82, 45.45, 35.27]\n",
      "2025/01/11 08:53:31 INFO dspy.teleprompt.mipro_optimizer_v2: Full eval scores so far: [29.43, 42.16]\n",
      "2025/01/11 08:53:31 INFO dspy.teleprompt.mipro_optimizer_v2: Best full score so far: 42.16\n",
      "2025/01/11 08:53:31 INFO dspy.teleprompt.mipro_optimizer_v2: =============================\n",
      "\n",
      "\n",
      "2025/01/11 08:53:31 INFO dspy.teleprompt.mipro_optimizer_v2: == Minibatch Trial 16 / 25 ==\n"
     ]
    },
    {
     "name": "stdout",
     "output_type": "stream",
     "text": [
      "\n",
      "Average Metric: 8.82 / 24 (36.7%):  96%|███████████████████████████████████████████████████████████████████████████████████████████▏   | 24/25 [00:00<00:00, 39.26it/s]"
     ]
    },
    {
     "name": "stderr",
     "output_type": "stream",
     "text": [
      "2025/01/11 08:53:32 ERROR dspy.utils.parallelizer: Error processing item Example({'article_text': 'Scientists are developing more than 100 coronavirus vaccines using a range of techniques, some of which are well-established and some of which have never been approved for medical use before. Most of these vaccines target the so-called spike proteins that cover the virus and help it invade human cells. The immune system can develop antibodies that latch onto spike proteins and stop the virus. A successful vaccine for the SARS-CoV-2 coronavirus would teach peoples immune systems to make antibodies against the virus without causing disease. Whole-Virus Vaccines Vaccines that modify the entire coronavirus to provoke an immune response. Inactivated and Live Attenuated Vaccines Most vaccines in use today incorporate an inactivated or weakened form of a virus that is not able to cause disease. When immune cells encounter them, they make antibodies. Making these vaccines means growing viruses and lots of them. Influenza vaccines are typically grown in chicken eggs, and other vaccines are grown in tanks full of floating cells. These procedures can take months to produce a batch of new vaccines. EXAMPLES: Conventional vaccines for influenza, chickenpox, measles, mumps and rubella all fall into this category. COMPANIES DEVELOPING SARS-COV-2 VACCINES: Sinovac and others. Genetic Vaccines Vaccines that use part of the coronaviruss genetic code. DNA Vaccines A number of experimental coronavirus vaccines dont deliver whole viruses. Instead, they deliver genetic instructions for building a viral protein. The protein can then stimulate the immune system to make antibodies and help mount other defenses against the coronavirus. One of these genetic approaches is known as a DNA vaccine. A circle of engineered DNA is delivered into cells. The cells read the viral gene, make a copy in a molecule called messenger RNA, and then use the mRNA to assemble viral proteins. The immune system detects the proteins and mounts defenses. Prototype DNA vaccines based on the spike protein protected monkeys from the coronavirus. EXAMPLES: DNA vaccines have been approved for veterinary cases such as canine melanoma and West Nile virus in horses. There are no approved DNA vaccines for use in humans, but researchers are running trials to see if they might be effective for diseases such as Zika and the flu. COMPANIES: Inovio and others. RNA Vaccines Some researchers want to skip DNA and instead deliver messenger RNA into cells. The cells read the mRNA and make spike proteins that provoke an immune response. The biotech company Moderna recently completed a small safety trial with eight volunteers that showed promising early results against the coronavirus. Both RNA and DNA vaccines can be produced more quickly than traditional methods. EXAMPLES: There are no approved RNA vaccines, but they are in clinical trials for MERS and other diseases. COMPANIES: Moderna, Pfizer and BioNTech, CureVac and others. Viral Vector Vaccines Vaccines that use a virus to deliver coronavirus genes into cells. Vaccines Using Adenovirus or Other Viruses Viruses are very good at getting into cells. Since the 1990s, researchers have been investigating how to use them to deliver genes into cells to immunize people against diseases. To create a coronavirus vaccine, several teams have added the spike protein gene to a virus called an adenovirus. The adenovirus slips into cells and unloads the gene. Because the adenovirus is missing one of its own genes, it cannot replicate and is therefore safe. EXAMPLES: Several virus vector vaccines are used to vaccinate animals against rabies and distemper. Johnson & Johnson has developed H.I.V. and Ebola vaccines using an adenovirus. Both have proven safe in humans and are now in efficacy trials. COMPANIES: Johnson & Johnson, CanSino, University of Oxford and others. Protein-Based Vaccines Vaccines that use a coronavirus protein or a protein fragment. Virus-Like Particle Vaccines Some vaccines are particles that contain pieces of viral proteins. They cant cause disease because they are not actual viruses, but they can still show the immune system what coronavirus proteins look like. EXAMPLES: The vaccine for HPV falls into this category. COMPANIES: Medicago, Doherty Institute and others. Recombinant Vaccines Yeast or other cells can be engineered to carry a viruss gene and spew out viral proteins, which are then harvested and put into a vaccine. A coronavirus vaccine of this design would contain whole spike proteins or small pieces of the protein. EXAMPLES: This category includes some vaccines for shingles and hepatitis B. COMPANIES: Novavax and others. Sources: World Health Organization, National Institute of Allergy and Infectious Diseases, National Center for Biotechnology Information, NEJM', 'generated_title': 'Overview of Coronavirus Vaccine Development Techniques and Progress', 'publication_date': None, 'primary_category': 'science', 'content_type': 'reporting', 'keywords': ['coronavirus vaccines', 'SARS-CoV-2', 'spike proteins', 'DNA vaccines', 'RNA vaccines', 'viral vector vaccines', 'protein-based vaccines', 'immune system', 'COVID-19', 'vaccine development', 'biotech companies'], 'mentioned_people': None, 'mentioned_organizations': ['Sinovac', 'Inovio', 'Moderna', 'Pfizer', 'BioNTech', 'CureVac', 'Johnson & Johnson', 'CanSino', 'University of Oxford', 'Medicago', 'Doherty Institute', 'Novavax', 'World Health Organization', 'National Institute of Allergy and Infectious Diseases', 'National Center for Biotechnology Information', 'NEJM'], 'mentioned_legislation': None, 'mentioned_locations': None, 'sentiment_tone': 'neutral', 'extracted_quotes': ['A successful vaccine for the SARS-CoV-2 coronavirus would teach peoples immune systems to make antibodies against the virus without causing disease.', 'Both RNA and DNA vaccines can be produced more quickly than traditional methods.']}) (input_keys={'article_text'}): 1 validation error for nullable[date]\n",
      "  Input should be a valid date or datetime, invalid character in year [type=date_from_datetime_parsing, input_value='Not supplied for this particular example.', input_type=str]\n",
      "    For further information visit https://errors.pydantic.dev/2.10/v/date_from_datetime_parsing. Set `provide_traceback=True` to see the stack trace.\n"
     ]
    },
    {
     "name": "stdout",
     "output_type": "stream",
     "text": [
      "Average Metric: 8.82 / 24 (36.7%): 100%|███████████████████████████████████████████████████████████████████████████████████████████████| 25/25 [00:00<00:00, 37.00it/s]"
     ]
    },
    {
     "name": "stderr",
     "output_type": "stream",
     "text": [
      "2025/01/11 08:53:32 INFO dspy.evaluate.evaluate: Average Metric: 8.818181818181818 / 25 (35.3%)\n",
      "2025/01/11 08:53:32 INFO dspy.teleprompt.mipro_optimizer_v2: Score: 35.27 on minibatch of size 25 with parameters ['Predictor 0: Instruction 4', 'Predictor 0: Few-Shot Set 10'].\n",
      "2025/01/11 08:53:32 INFO dspy.teleprompt.mipro_optimizer_v2: Minibatch scores so far: [41.45, 40.0, 42.91, 45.45, 42.55, 39.27, 36.0, 29.45, 41.09, 39.27, 37.82, 39.27, 33.82, 45.45, 35.27, 35.27]\n",
      "2025/01/11 08:53:32 INFO dspy.teleprompt.mipro_optimizer_v2: Full eval scores so far: [29.43, 42.16]\n"
     ]
    },
    {
     "name": "stdout",
     "output_type": "stream",
     "text": [
      "\n"
     ]
    },
    {
     "name": "stderr",
     "output_type": "stream",
     "text": [
      "2025/01/11 08:53:32 INFO dspy.teleprompt.mipro_optimizer_v2: Best full score so far: 42.16\n",
      "2025/01/11 08:53:32 INFO dspy.teleprompt.mipro_optimizer_v2: =============================\n",
      "\n",
      "\n",
      "2025/01/11 08:53:32 INFO dspy.teleprompt.mipro_optimizer_v2: == Minibatch Trial 17 / 25 ==\n"
     ]
    },
    {
     "name": "stdout",
     "output_type": "stream",
     "text": [
      "Average Metric: 9.45 / 25 (37.8%): 100%|███████████████████████████████████████████████████████████████████████████████████████████████| 25/25 [00:01<00:00, 22.59it/s]"
     ]
    },
    {
     "name": "stderr",
     "output_type": "stream",
     "text": [
      "2025/01/11 08:53:33 INFO dspy.evaluate.evaluate: Average Metric: 9.454545454545455 / 25 (37.8%)\n",
      "2025/01/11 08:53:33 INFO dspy.teleprompt.mipro_optimizer_v2: Score: 37.82 on minibatch of size 25 with parameters ['Predictor 0: Instruction 9', 'Predictor 0: Few-Shot Set 16'].\n",
      "2025/01/11 08:53:33 INFO dspy.teleprompt.mipro_optimizer_v2: Minibatch scores so far: [41.45, 40.0, 42.91, 45.45, 42.55, 39.27, 36.0, 29.45, 41.09, 39.27, 37.82, 39.27, 33.82, 45.45, 35.27, 35.27, 37.82]\n",
      "2025/01/11 08:53:33 INFO dspy.teleprompt.mipro_optimizer_v2: Full eval scores so far: [29.43, 42.16]\n",
      "2025/01/11 08:53:33 INFO dspy.teleprompt.mipro_optimizer_v2: Best full score so far: 42.16\n",
      "2025/01/11 08:53:33 INFO dspy.teleprompt.mipro_optimizer_v2: =============================\n",
      "\n",
      "\n",
      "2025/01/11 08:53:33 INFO dspy.teleprompt.mipro_optimizer_v2: == Minibatch Trial 18 / 25 ==\n"
     ]
    },
    {
     "name": "stdout",
     "output_type": "stream",
     "text": [
      "\n",
      "Average Metric: 9.55 / 25 (38.2%): 100%|███████████████████████████████████████████████████████████████████████████████████████████████| 25/25 [00:00<00:00, 34.12it/s]"
     ]
    },
    {
     "name": "stderr",
     "output_type": "stream",
     "text": [
      "2025/01/11 08:53:34 INFO dspy.evaluate.evaluate: Average Metric: 9.545454545454545 / 25 (38.2%)\n",
      "2025/01/11 08:53:34 INFO dspy.teleprompt.mipro_optimizer_v2: Score: 38.18 on minibatch of size 25 with parameters ['Predictor 0: Instruction 6', 'Predictor 0: Few-Shot Set 11'].\n"
     ]
    },
    {
     "name": "stdout",
     "output_type": "stream",
     "text": [
      "\n"
     ]
    },
    {
     "name": "stderr",
     "output_type": "stream",
     "text": [
      "2025/01/11 08:53:34 INFO dspy.teleprompt.mipro_optimizer_v2: Minibatch scores so far: [41.45, 40.0, 42.91, 45.45, 42.55, 39.27, 36.0, 29.45, 41.09, 39.27, 37.82, 39.27, 33.82, 45.45, 35.27, 35.27, 37.82, 38.18]\n",
      "2025/01/11 08:53:34 INFO dspy.teleprompt.mipro_optimizer_v2: Full eval scores so far: [29.43, 42.16]\n",
      "2025/01/11 08:53:34 INFO dspy.teleprompt.mipro_optimizer_v2: Best full score so far: 42.16\n",
      "2025/01/11 08:53:34 INFO dspy.teleprompt.mipro_optimizer_v2: =============================\n",
      "\n",
      "\n",
      "2025/01/11 08:53:34 INFO dspy.teleprompt.mipro_optimizer_v2: == Minibatch Trial 19 / 25 ==\n"
     ]
    },
    {
     "name": "stdout",
     "output_type": "stream",
     "text": [
      "Average Metric: 9.82 / 25 (39.3%): 100%|███████████████████████████████████████████████████████████████████████████████████████████████| 25/25 [00:00<00:00, 56.46it/s]"
     ]
    },
    {
     "name": "stderr",
     "output_type": "stream",
     "text": [
      "2025/01/11 08:53:34 INFO dspy.evaluate.evaluate: Average Metric: 9.818181818181818 / 25 (39.3%)\n",
      "2025/01/11 08:53:34 INFO dspy.teleprompt.mipro_optimizer_v2: Score: 39.27 on minibatch of size 25 with parameters ['Predictor 0: Instruction 18', 'Predictor 0: Few-Shot Set 3'].\n",
      "2025/01/11 08:53:34 INFO dspy.teleprompt.mipro_optimizer_v2: Minibatch scores so far: [41.45, 40.0, 42.91, 45.45, 42.55, 39.27, 36.0, 29.45, 41.09, 39.27, 37.82, 39.27, 33.82, 45.45, 35.27, 35.27, 37.82, 38.18, 39.27]\n",
      "2025/01/11 08:53:34 INFO dspy.teleprompt.mipro_optimizer_v2: Full eval scores so far: [29.43, 42.16]\n",
      "2025/01/11 08:53:34 INFO dspy.teleprompt.mipro_optimizer_v2: Best full score so far: 42.16\n",
      "2025/01/11 08:53:34 INFO dspy.teleprompt.mipro_optimizer_v2: =============================\n",
      "\n",
      "\n",
      "2025/01/11 08:53:34 INFO dspy.teleprompt.mipro_optimizer_v2: == Minibatch Trial 20 / 25 ==\n"
     ]
    },
    {
     "name": "stdout",
     "output_type": "stream",
     "text": [
      "\n",
      "Average Metric: 10.73 / 25 (42.9%): 100%|██████████████████████████████████████████████████████████████████████████████████████████████| 25/25 [00:00<00:00, 52.31it/s]"
     ]
    },
    {
     "name": "stderr",
     "output_type": "stream",
     "text": [
      "2025/01/11 08:53:35 INFO dspy.evaluate.evaluate: Average Metric: 10.727272727272727 / 25 (42.9%)\n",
      "2025/01/11 08:53:35 INFO dspy.teleprompt.mipro_optimizer_v2: Score: 42.91 on minibatch of size 25 with parameters ['Predictor 0: Instruction 17', 'Predictor 0: Few-Shot Set 15'].\n"
     ]
    },
    {
     "name": "stdout",
     "output_type": "stream",
     "text": [
      "\n"
     ]
    },
    {
     "name": "stderr",
     "output_type": "stream",
     "text": [
      "2025/01/11 08:53:35 INFO dspy.teleprompt.mipro_optimizer_v2: Minibatch scores so far: [41.45, 40.0, 42.91, 45.45, 42.55, 39.27, 36.0, 29.45, 41.09, 39.27, 37.82, 39.27, 33.82, 45.45, 35.27, 35.27, 37.82, 38.18, 39.27, 42.91]\n",
      "2025/01/11 08:53:35 INFO dspy.teleprompt.mipro_optimizer_v2: Full eval scores so far: [29.43, 42.16]\n",
      "2025/01/11 08:53:35 INFO dspy.teleprompt.mipro_optimizer_v2: Best full score so far: 42.16\n",
      "2025/01/11 08:53:35 INFO dspy.teleprompt.mipro_optimizer_v2: =============================\n",
      "\n",
      "\n",
      "2025/01/11 08:53:35 INFO dspy.teleprompt.mipro_optimizer_v2: ===== Full Eval 2 =====\n",
      "2025/01/11 08:53:35 INFO dspy.teleprompt.mipro_optimizer_v2: Doing full eval on next top averaging program (Avg Score: 45.45) from minibatch trials...\n"
     ]
    },
    {
     "name": "stdout",
     "output_type": "stream",
     "text": [
      "Average Metric: 33.09 / 80 (41.4%): 100%|██████████████████████████████████████████████████████████████████████████████████████████████| 80/80 [00:02<00:00, 38.99it/s]"
     ]
    },
    {
     "name": "stderr",
     "output_type": "stream",
     "text": [
      "2025/01/11 08:53:37 INFO dspy.evaluate.evaluate: Average Metric: 33.09090909090909 / 80 (41.4%)\n",
      "2025/01/11 08:53:37 INFO dspy.teleprompt.mipro_optimizer_v2: Full eval scores so far: [29.43, 42.16, 41.36]\n",
      "2025/01/11 08:53:37 INFO dspy.teleprompt.mipro_optimizer_v2: Best full score so far: 42.16\n",
      "2025/01/11 08:53:37 INFO dspy.teleprompt.mipro_optimizer_v2: =======================\n",
      "2025/01/11 08:53:37 INFO dspy.teleprompt.mipro_optimizer_v2: \n",
      "\n",
      "2025/01/11 08:53:37 INFO dspy.teleprompt.mipro_optimizer_v2: == Minibatch Trial 21 / 25 ==\n"
     ]
    },
    {
     "name": "stdout",
     "output_type": "stream",
     "text": [
      "\n",
      "Average Metric: 10.73 / 25 (42.9%): 100%|██████████████████████████████████████████████████████████████████████████████████████████████| 25/25 [00:00<00:00, 46.70it/s]"
     ]
    },
    {
     "name": "stderr",
     "output_type": "stream",
     "text": [
      "2025/01/11 08:53:38 INFO dspy.evaluate.evaluate: Average Metric: 10.727272727272727 / 25 (42.9%)\n",
      "2025/01/11 08:53:38 INFO dspy.teleprompt.mipro_optimizer_v2: Score: 42.91 on minibatch of size 25 with parameters ['Predictor 0: Instruction 3', 'Predictor 0: Few-Shot Set 5'].\n",
      "2025/01/11 08:53:38 INFO dspy.teleprompt.mipro_optimizer_v2: Minibatch scores so far: [41.45, 40.0, 42.91, 45.45, 42.55, 39.27, 36.0, 29.45, 41.09, 39.27, 37.82, 39.27, 33.82, 45.45, 35.27, 35.27, 37.82, 38.18, 39.27, 42.91, 42.91]\n",
      "2025/01/11 08:53:38 INFO dspy.teleprompt.mipro_optimizer_v2: Full eval scores so far: [29.43, 42.16, 41.36]\n",
      "2025/01/11 08:53:38 INFO dspy.teleprompt.mipro_optimizer_v2: Best full score so far: 42.16\n"
     ]
    },
    {
     "name": "stdout",
     "output_type": "stream",
     "text": [
      "\n"
     ]
    },
    {
     "name": "stderr",
     "output_type": "stream",
     "text": [
      "2025/01/11 08:53:38 INFO dspy.teleprompt.mipro_optimizer_v2: =============================\n",
      "\n",
      "\n",
      "2025/01/11 08:53:38 INFO dspy.teleprompt.mipro_optimizer_v2: == Minibatch Trial 22 / 25 ==\n"
     ]
    },
    {
     "name": "stdout",
     "output_type": "stream",
     "text": [
      "Average Metric: 9.82 / 25 (39.3%): 100%|███████████████████████████████████████████████████████████████████████████████████████████████| 25/25 [00:00<00:00, 32.95it/s]"
     ]
    },
    {
     "name": "stderr",
     "output_type": "stream",
     "text": [
      "2025/01/11 08:53:38 INFO dspy.evaluate.evaluate: Average Metric: 9.818181818181818 / 25 (39.3%)\n",
      "2025/01/11 08:53:38 INFO dspy.teleprompt.mipro_optimizer_v2: Score: 39.27 on minibatch of size 25 with parameters ['Predictor 0: Instruction 15', 'Predictor 0: Few-Shot Set 18'].\n",
      "2025/01/11 08:53:38 INFO dspy.teleprompt.mipro_optimizer_v2: Minibatch scores so far: [41.45, 40.0, 42.91, 45.45, 42.55, 39.27, 36.0, 29.45, 41.09, 39.27, 37.82, 39.27, 33.82, 45.45, 35.27, 35.27, 37.82, 38.18, 39.27, 42.91, 42.91, 39.27]\n",
      "2025/01/11 08:53:38 INFO dspy.teleprompt.mipro_optimizer_v2: Full eval scores so far: [29.43, 42.16, 41.36]\n",
      "2025/01/11 08:53:38 INFO dspy.teleprompt.mipro_optimizer_v2: Best full score so far: 42.16\n",
      "2025/01/11 08:53:38 INFO dspy.teleprompt.mipro_optimizer_v2: =============================\n",
      "\n",
      "\n",
      "2025/01/11 08:53:38 INFO dspy.teleprompt.mipro_optimizer_v2: == Minibatch Trial 23 / 25 ==\n"
     ]
    },
    {
     "name": "stdout",
     "output_type": "stream",
     "text": [
      "\n",
      "Average Metric: 11.73 / 25 (46.9%): 100%|██████████████████████████████████████████████████████████████████████████████████████████████| 25/25 [00:00<00:00, 41.46it/s]"
     ]
    },
    {
     "name": "stderr",
     "output_type": "stream",
     "text": [
      "2025/01/11 08:53:39 INFO dspy.evaluate.evaluate: Average Metric: 11.727272727272727 / 25 (46.9%)\n",
      "2025/01/11 08:53:39 INFO dspy.teleprompt.mipro_optimizer_v2: Score: 46.91 on minibatch of size 25 with parameters ['Predictor 0: Instruction 6', 'Predictor 0: Few-Shot Set 18'].\n",
      "2025/01/11 08:53:39 INFO dspy.teleprompt.mipro_optimizer_v2: Minibatch scores so far: [41.45, 40.0, 42.91, 45.45, 42.55, 39.27, 36.0, 29.45, 41.09, 39.27, 37.82, 39.27, 33.82, 45.45, 35.27, 35.27, 37.82, 38.18, 39.27, 42.91, 42.91, 39.27, 46.91]\n",
      "2025/01/11 08:53:39 INFO dspy.teleprompt.mipro_optimizer_v2: Full eval scores so far: [29.43, 42.16, 41.36]\n",
      "2025/01/11 08:53:39 INFO dspy.teleprompt.mipro_optimizer_v2: Best full score so far: 42.16\n",
      "2025/01/11 08:53:39 INFO dspy.teleprompt.mipro_optimizer_v2: =============================\n",
      "\n",
      "\n"
     ]
    },
    {
     "name": "stdout",
     "output_type": "stream",
     "text": [
      "\n"
     ]
    },
    {
     "name": "stderr",
     "output_type": "stream",
     "text": [
      "2025/01/11 08:53:39 INFO dspy.teleprompt.mipro_optimizer_v2: == Minibatch Trial 24 / 25 ==\n"
     ]
    },
    {
     "name": "stdout",
     "output_type": "stream",
     "text": [
      "Average Metric: 11.18 / 25 (44.7%): 100%|██████████████████████████████████████████████████████████████████████████████████████████████| 25/25 [00:00<00:00, 55.84it/s]"
     ]
    },
    {
     "name": "stderr",
     "output_type": "stream",
     "text": [
      "2025/01/11 08:53:40 INFO dspy.evaluate.evaluate: Average Metric: 11.181818181818182 / 25 (44.7%)\n",
      "2025/01/11 08:53:40 INFO dspy.teleprompt.mipro_optimizer_v2: Score: 44.73 on minibatch of size 25 with parameters ['Predictor 0: Instruction 9', 'Predictor 0: Few-Shot Set 18'].\n",
      "2025/01/11 08:53:40 INFO dspy.teleprompt.mipro_optimizer_v2: Minibatch scores so far: [41.45, 40.0, 42.91, 45.45, 42.55, 39.27, 36.0, 29.45, 41.09, 39.27, 37.82, 39.27, 33.82, 45.45, 35.27, 35.27, 37.82, 38.18, 39.27, 42.91, 42.91, 39.27, 46.91, 44.73]\n",
      "2025/01/11 08:53:40 INFO dspy.teleprompt.mipro_optimizer_v2: Full eval scores so far: [29.43, 42.16, 41.36]\n",
      "2025/01/11 08:53:40 INFO dspy.teleprompt.mipro_optimizer_v2: Best full score so far: 42.16\n",
      "2025/01/11 08:53:40 INFO dspy.teleprompt.mipro_optimizer_v2: =============================\n",
      "\n",
      "\n",
      "2025/01/11 08:53:40 INFO dspy.teleprompt.mipro_optimizer_v2: == Minibatch Trial 25 / 25 ==\n"
     ]
    },
    {
     "name": "stdout",
     "output_type": "stream",
     "text": [
      "\n",
      "Average Metric: 11.09 / 25 (44.4%): 100%|██████████████████████████████████████████████████████████████████████████████████████████████| 25/25 [00:00<00:00, 39.48it/s]"
     ]
    },
    {
     "name": "stderr",
     "output_type": "stream",
     "text": [
      "2025/01/11 08:53:40 INFO dspy.evaluate.evaluate: Average Metric: 11.09090909090909 / 25 (44.4%)\n",
      "2025/01/11 08:53:40 INFO dspy.teleprompt.mipro_optimizer_v2: Score: 44.36 on minibatch of size 25 with parameters ['Predictor 0: Instruction 6', 'Predictor 0: Few-Shot Set 18'].\n",
      "2025/01/11 08:53:40 INFO dspy.teleprompt.mipro_optimizer_v2: Minibatch scores so far: [41.45, 40.0, 42.91, 45.45, 42.55, 39.27, 36.0, 29.45, 41.09, 39.27, 37.82, 39.27, 33.82, 45.45, 35.27, 35.27, 37.82, 38.18, 39.27, 42.91, 42.91, 39.27, 46.91, 44.73, 44.36]\n",
      "2025/01/11 08:53:40 INFO dspy.teleprompt.mipro_optimizer_v2: Full eval scores so far: [29.43, 42.16, 41.36]\n",
      "2025/01/11 08:53:40 INFO dspy.teleprompt.mipro_optimizer_v2: Best full score so far: 42.16\n",
      "2025/01/11 08:53:40 INFO dspy.teleprompt.mipro_optimizer_v2: =============================\n",
      "\n",
      "\n",
      "2025/01/11 08:53:40 INFO dspy.teleprompt.mipro_optimizer_v2: ===== Full Eval 3 =====\n",
      "2025/01/11 08:53:40 INFO dspy.teleprompt.mipro_optimizer_v2: Doing full eval on next top averaging program (Avg Score: 45.635) from minibatch trials...\n"
     ]
    },
    {
     "name": "stdout",
     "output_type": "stream",
     "text": [
      "\n",
      "Average Metric: 21.64 / 47 (46.0%):  57%|██████████████████████████████████████████████████████                                        | 46/80 [00:01<00:00, 46.34it/s]"
     ]
    },
    {
     "name": "stderr",
     "output_type": "stream",
     "text": [
      "2025/01/11 08:53:41 ERROR dspy.utils.parallelizer: Error processing item Example({'article_text': 'VideotranscripttranscriptTrump Claims Justice Dept. Report Totally Exonerates MeSpeaking to reporters, President Trump answered questions about investigations, North Korea and immigration.Look, if you see what Ive done with North Korea, and with the State Department Mike Pompeo its running so well, I have this running so well. I have purposely, because of this ridiculous witch hunt, I have said, Im going to stay away from the Justice Department until its completed. So I wanted to stay away, now that doesnt mean I have to because I dont have to I can get involved. But I dont want you people to say that Im interfering, that Im doing anything. I think that the report yesterday maybe, more importantly than anything, it totally exonerates me. There was no collusion. There was no obstruction. And if you read the report, youll see that the But sir, the report What would you do with that? Why sir? Excuse me, wait, wait, wait. What youll really see, is youll see bias against me and millions, and tens of millions of my followers, that is really a disgrace. Mr President! And yet, if you, and yet, if you look at the F.B.I. and you went in and you polled the F.B.I. the real F.B.I. those guys love me and I love them. Mr President! Sir! Are you You have spoken so passionately about the circumstances that led to Otto Warmbiers death. In the same breath, youre defending now Kim Jong-uns human rights record. How can you do that? You know why? Because I dont want to see a nuclear weapon destroy you and your family. And, by the way, you declared the nuclear threat from North Korea is over. I dont want to see a nuclear weapon destroy you and your family. I want to have a good relationship with North Korea. I want to have a good relationship with many other countries. And what Ive done if you remember, if youre fair, which most of you arent, but if youre fair, when I came in, people thought we were probably going to war with North Korea. If we did You said the threat is over, is it over? Quiet. Quiet. If we did, millions of people would have been killed. I dont mean like, a you know, people were saying a hundred thousand Seoul has 28 million people, 30 miles off the border. You would have had 30, 40, 50 million people killed. Who knows what would have happened? I came in, that was what I inherited. I should have never inherited that should have been solved long before I got there. I did a great job this weekend. The fake news said, Oh, you met. The only thing they saw that I gave up. One broadcast said, He gave up so much. You know what I gave up? I met. I met, we had great chemistry. He gave us a lot: You havent had a missile test in seven months. You havent had a firing, you havent had a nuclear test in eight and a half months. You havent had missiles flying over Japan. He gave us the remains of our great heroes. I have had so many people begging me, parents and fathers, mothers, daughters, sons, wherever I went, Could you please get the remains of my boy back? Theyre giving them back. Nobody thought that was possible. Sir! Wait. Wait. Excuse me, wait. They are doing so much for us. And now were well on our way to get denuclearization and the agreement says there will be total denuclearization nobody wants to report that. So the only thing I did, was I met, I got along with him great. He is great. We have a great chemistry together. Thats a good thing, not a bad thing. Mr. President, how can Kim love his people if hes killing them? I cant speak to that. I can only speak to the fact that we signed an incredible agreement. Its great. And its going to be great for them, too, because now, North Korea can develop and North Korea can become a great country, economically, it can become whatever they want. But there wont be nuclear weapons and they wont be aimed at you and your family. We now have a very good relationship with North Korea. When I came into this job it looked like war. Not because of me, but because if you remember the sitdown with Barack Obama I think he will admit this, he said the biggest problem that the United States has, and by far the most dangerous problem, and he said to me, that weve ever had, because of nuclear, is North Korea. Now that was shortly before I entered office. I have solved that problem. Now were getting it memorialized and all and that problem is largely solved and part of the reason is we signed number one a very good document. You know what? More importantly than the document, I have a good relationship with Kim Jong-un. Thats a very important thing. I can now, wait, I can now call him. I can now say, Well, we have a problem. I told him, I gave him a very direct number. He can now call me if he has any difficulty. I can call him. We have communications its a very good thing. People are shocked that this is the kind of, you know they thought Trump was going to get in, and he was going to start throwing bombs all over the place. Its actually the opposite. But were building a military so strong $716 billion next year. 700 this year were building a military so strong, nobodys going to mess with us. But you know what, I never want to have to use it. Mr. President, do you agree with children being taken away from their family? No, I hate it. I hate the children being taken away. The Democrats have to change their law. Thats their law. Sir, thats your They were forced Mr President! Mr President! Quiet. Quiet. Thats the Democrats law. We can change it tonight. We can change it right now. Youre the president, you can change it I will leave here. No, no. You need their votes. You need their votes. The Democrats, all they have to do You control both chambers of Congress, the Republicans do. The Democrats, excuse me, by one vote. We dont need it. You need 60 votes. We have a one vote excuse me we need a one vote, We have a one-vote edge, we need 60. So we need 10 votes. We cant get it from the Democrats.Speaking to reporters, President Trump answered questions about investigations, North Korea and immigration.CreditCredit...Evan Vucci/Associated PressJune 15, 2018WASHINGTON He assailed the scum on top of the F.B.I. who were out to get him. He suggested that a former aide did not lie even though he pleaded guilty to lying to investigators. And he distanced himself from his onetime campaign chairman hours before the aide was sent to jail.Reasserting himself on the Washington stage after a week spent overseas or out of sight, President Trump went on offense on Friday in his multifront war with investigators, eagerly framing a new Justice Department report as validation of his claim of a deep state conspiracy against him.They were plotting against my election, Mr. Trump said, pointing to partisan texts sent by several F.B.I. agents during the 2016 presidential campaign and cited in the report. The F.B.I. director at the time, James B. Comey, ran a corrupt operation and should be prosecuted, he added. Comey was the ringleader of this whole, you know, den of thieves.Mr. Trumps rendition of the report by the Justice Department inspector general was selective. The report faulted Peter Strzok, a senior F.B.I. agent, and four other bureau officials for anti-Trump messages, but concluded that no decisions were made out of political bias. Indeed, the reports sharp criticism of Mr. Comey centered on actions that damaged Hillary Clinton during the campaign, not Mr. Trump, and it determined that the decision not to prosecute her for using a private unsecured email server while secretary of state was reasonable.Mr. Trump dismissed that conclusion. The end result was wrong, he said. I mean, there was total bias. I mean, when you look at Peter Strzok and what he said about me. When you look at Comey, all his moves. You know, it was interesting, it was a pretty good report. Then I say that the I.G. blew it at the very end with that statement.The presidents assessment came during a quintessentially Trumpian discourse on current affairs, first on Fox & Friends and then with reporters who surrounded him on the White House driveway. Seemingly energized by his landmark meeting this week with North Koreas leader, Kim Jong-un, Mr. Trump depicted his presidency as a string of unvarnished successes despite the unfair and even criminal forces arrayed against him.Even aside from Mr. Comey and the total thieves at the F.B.I., Mr. Trump mounted withering attacks on a variety of other favorite targets, including congressional Democrats, Barack Obama, Robert S. Mueller III, Canadas prime minister, professional football players and the news media. At the same time, he extolled his warm relations with leaders of North Korea, China and Russia.Weve done more I dont say this in a bragging way, actually some of the haters actually say this weve done more in 500 days, so now its 510 days, than any 500-day president, first term, by far, he said at one point. And thats what I want to do, I want to really you know, I got elected to make America great again, very simple.Indeed, in case the message did not get through, Mr. Trump used the words great or greatest 48 times. He dismissed contrary information and blamed any setbacks on Mr. Obama or the Democratic minorities in Congress. When its my fault, he said, Ill tell you.As he often does, Mr. Trump misstated or distorted a variety of facts, large and small, over the course of the television appearance and subsequent conversation with reporters.On vindication from the inspector general: If you read the I.G. report, Ive been totally exonerated. (Not true. The report examined the investigation into Mrs. Clintons email server and had nothing to say about Mr. Trumps actions one way or the other.)On bias in the special counsels office: They have no Republicans. (Not true. Mr. Mueller, the special counsel, is a lifelong Republican.)On distancing himself from Paul Manafort, his indicted former campaign chairman, who was sent to jail on Friday: He worked for me, what, for 49 days or something? (Not true. Actually, it was 144 days.)He likewise made expansive claims. He suggested that the vague 391-word statement he signed with Mr. Kim during their meeting in Singapore ended the nuclear standoff with North Korea. I signed an agreement where we get everything, everything, he said.ImageCredit...Evan Vucci/Associated PressAlthough there is no concrete arrangement for how North Korea would dismantle its nuclear weapons arsenal, when it would happen or who would verify that it happened, Mr. Trump dismissed such questions as minor details that will be worked out.I have solved that problem, he told reporters. Now, were getting it memorialized and all. But that problem is largely solved.He praised Mr. Kim, brushing aside questions about the repressive government and gulags in North Korea. He speaks and his people sit up at attention. I want my people to do the same, he joked.Mr. Trump confirmed that he wants to meet President Vladimir V. Putin of Russia this summer, brushing off Moscows annexation of Crimea in 2014, which he blamed on Mr. Obama rather than Mr. Putin. President Obama lost Crimea because President Putin didnt respect President Obama, he said.Likewise, he faulted Democrats in Congress for the federal authorities separating children from parents trying to cross the border from Mexico under a zero tolerance policy announced by Attorney General Jeff Sessions.I hate the children being taken away, he said. The Democrats have to change their law. Thats their law.While both houses of Congress are run by Republicans, Mr. Trump said they could not act because it would require Democratic votes in the Senate to overcome a filibuster. Democrats, however, said they would hardly filibuster legislation barring the separation of families at the border because they have already introduced such a bill with more than 30 Democratic sponsors.Mr. Trump signaled qualified support for Scott Pruitt, his administrator of the Environmental Protection Agency, who is facing at least a dozen investigations into his spending and use of his office for personal matters.Im not happy about certain things, Ill be honest, Mr. Trump said. Im not happy about certain things, but hes done a fantastic job running the E.P.A., which is very overriding.Mr. Trump also returned to other frequent topics. He mocked National Football League players for protesting racism when they are making $15 million a year. He again assailed Prime Minister Justin Trudeau of Canada for saying he would not be pushed around over tariffs.And he dismissed the importance of a misleading statement he dictated last year about a Trump Tower meeting with Russians during the 2016 campaign, a statement that his lawyer and spokeswoman at first denied he had dictated even though his legal team later admitted that he had. Its irrelevant, Mr. Trump said. Thats not a statement to a high tribunal of judges. Thats a statement to the phony New York Times.Mr. Trump even suggested that his former national security adviser, Michael T. Flynn, a retired three-star general, did not actually lie to investigators even though he has pleaded guilty to doing so and the president himself has previously said he fired Mr. Flynn for lying.I feel badly for General Flynn, he said. Hes lost his house, hes lost his life. And some people say he lied and some people say he didnt lie. I mean really it turned out maybe he didnt lie. How can you do that? How can you do that because whos lied more than Comey? Comey lied a tremendous amount.The president seemed most animated, however, by the new inspector general report and used it to undercut Mr. Comey and Mr. Mueller. What he did was criminal, Mr. Trump said of Mr. Comey. What he did was a terrible thing to the people. What he did was so bad in terms of our Constitution, in terms of the well-being of our country. What he did was horrible.Mr. Trump continued, Should he be locked up? Let somebody make a determination.Mr. Strzok worked on the investigation into Mrs. Clinton in 2016 and his texts to a colleague, Lisa Page, were cited by the inspector general for showing an unprofessional bias. When Ms. Page was alarmed in August 2016 at the prospect of Mr. Trumps winning the election, Mr. Strzok reassured her. Well stop it, he wrote.Mr. Trump said that proved the F.B.I. was trying to sabotage him. Peter Strzok should have been fired a long time ago and others should have been fired, he said.', 'extracted_quotes': ['I think that the report yesterday maybe, more importantly than anything, it totally exonerates me.', 'I hate the children being taken away. The Democrats have to change their law. Thats their law.', 'What he did was criminal, Mr. Trump said of Mr. Comey. What he did was a terrible thing to the people.', 'Peter Strzok should have been fired a long time ago and others should have been fired.', 'I have solved that problem. Now, were getting it memorialized and all. But that problem is largely solved.'], 'publication_date': datetime.date(2018, 6, 15), 'keywords': ['Trump', 'Justice Department', 'North Korea', 'immigration', 'FBI', 'Kim Jong-un', 'James Comey', 'Peter Strzok', 'Mueller investigation', 'Washington'], 'generated_title': 'Trump Claims Justice Dept. Report Totally Exonerates Him, Discusses North Korea and Immigration', 'primary_category': 'politics', 'content_type': 'reporting', 'mentioned_people': ['Donald Trump', 'Kim Jong-un', 'James Comey', 'Peter Strzok', 'Mike Pompeo', 'Barack Obama', 'Robert Mueller', 'Vladimir Putin', 'Jeff Sessions', 'Scott Pruitt', 'Michael Flynn', 'Lisa Page', 'Justin Trudeau', 'Hillary Clinton'], 'mentioned_organizations': ['Justice Department', 'FBI', 'State Department', 'Environmental Protection Agency', 'National Football League', 'Democratic Party', 'Republican Party'], 'mentioned_legislation': '', 'mentioned_locations': ['Washington', 'North Korea', 'Russia', 'Crimea', 'Mexico', 'Canada', 'Singapore', 'Seoul'], 'sentiment_tone': 'neutral'}) (input_keys={'article_text'}): Expected dict_keys(['reasoning', 'generated_title', 'publication_date', 'primary_category', 'content_type', 'keywords', 'mentioned_people', 'mentioned_organizations', 'mentioned_legislation', 'mentioned_locations', 'sentiment_tone', 'extracted_quotes']) but got dict_keys(['reasoning', 'generated_title', 'publication_date', 'primary_category', 'content_type', 'keywords']). Set `provide_traceback=True` to see the stack trace.\n"
     ]
    },
    {
     "name": "stdout",
     "output_type": "stream",
     "text": [
      "Average Metric: 33.73 / 79 (42.7%): 100%|██████████████████████████████████████████████████████████████████████████████████████████████| 80/80 [00:02<00:00, 39.60it/s]"
     ]
    },
    {
     "name": "stderr",
     "output_type": "stream",
     "text": [
      "2025/01/11 08:53:42 INFO dspy.evaluate.evaluate: Average Metric: 33.72727272727273 / 80 (42.2%)\n",
      "2025/01/11 08:53:42 INFO dspy.teleprompt.mipro_optimizer_v2: Full eval scores so far: [29.43, 42.16, 41.36, 42.16]\n",
      "2025/01/11 08:53:42 INFO dspy.teleprompt.mipro_optimizer_v2: Best full score so far: 42.16\n",
      "2025/01/11 08:53:42 INFO dspy.teleprompt.mipro_optimizer_v2: =======================\n",
      "2025/01/11 08:53:42 INFO dspy.teleprompt.mipro_optimizer_v2: \n",
      "\n",
      "2025/01/11 08:53:42 INFO dspy.teleprompt.mipro_optimizer_v2: Returning best identified program with score 42.16!\n"
     ]
    },
    {
     "name": "stdout",
     "output_type": "stream",
     "text": [
      "\n"
     ]
    }
   ],
   "source": [
    "import sys\n",
    "sys.path.append(\"../scorer\")\n",
    "from scorer import WordLlamaScorer\n",
    "from dspy.evaluate import Evaluate\n",
    "from dspy.teleprompt import MIPROv2\n",
    "\n",
    "\n",
    "scorer = WordLlamaScorer.from_signature(NewsAppSignature, skip_fields=[\"article_text\", \"reasoning\"])\n",
    "\n",
    "\n",
    "teleprompter = MIPROv2(\n",
    "    metric=scorer,N\n",
    "    auto=\"medium\",\n",
    "    teacher_settings=dict(lm=teacher_lm),\n",
    "    num_threads=2\n",
    ")\n",
    "\n",
    "catalog = dspy.ChainOfThought(NewsAppSignature)\n",
    "optimized_program = teleprompter.compile(\n",
    "    student=catalog.deepcopy(),\n",
    "    teacher=catalog.deepcopy(),\n",
    "    trainset=data,\n",
    "    max_bootstrapped_demos=2,\n",
    "    max_labeled_demos=2,\n",
    "    requires_permission_to_run=False,\n",
    ")\n"
   ]
  },
  {
   "cell_type": "code",
   "execution_count": 10,
   "id": "cd6497f0-9e39-4746-861d-85ee736193f5",
   "metadata": {},
   "outputs": [],
   "source": [
    "for demo in optimized_program.demos:\n",
    "    if 'publication_date' in demo and isinstance(demo['publication_date'], date):\n",
    "        demo['publication_date'] = demo['publication_date'].isoformat()\n",
    "\n",
    "# Save the state to a JSON file\n",
    "optimized_program.save(\"miprov2_command_r7b.json\", save_program=False)\n"
   ]
  },
  {
   "cell_type": "code",
   "execution_count": 10,
   "id": "4d4e8987-89d4-4e0d-a848-65cd43a9a337",
   "metadata": {},
   "outputs": [
    {
     "data": {
      "text/plain": [
       "Prediction(\n",
       "    reasoning=\"This article reports on Nokia's acquisition of Alcatel-Lucent, a significant deal for the company and a move towards becoming a market leader in networks. The article provides a positive outlook on the deal, highlighting the approval of shareholders and the optimism of Nokia's CEO.\",\n",
       "    generated_title='Nokia Shares Soar as Alcatel-Lucent Acquisition Gets Greenlight',\n",
       "    publication_date=datetime.date(2015, 12, 2),\n",
       "    primary_category='business',\n",
       "    content_type='reporting',\n",
       "    keywords=['Nokia', 'Alcatel-Lucent', 'acquisition', 'telecom', 'networks', 'shareholders', 'stock market', 'Rajeev Suri'],\n",
       "    mentioned_people=['Rajeev Suri'],\n",
       "    mentioned_organizations=['Nokia', 'Alcatel-Lucent', 'Nokia Corporation'],\n",
       "    mentioned_legislation=None,\n",
       "    mentioned_locations=None,\n",
       "    sentiment_tone='positive',\n",
       "    extracted_quotes=None\n",
       ")"
      ]
     },
     "execution_count": 10,
     "metadata": {},
     "output_type": "execute_result"
    }
   ],
   "source": [
    "optimized_program(article_text=text)\n"
   ]
  },
  {
   "cell_type": "markdown",
   "id": "d0d8a3c4-ebf5-461e-9896-ad197de83219",
   "metadata": {
    "jp-MarkdownHeadingCollapsed": true
   },
   "source": [
    "# Extra"
   ]
  },
  {
   "cell_type": "code",
   "execution_count": 11,
   "id": "34e9687a-e0ca-4a9f-b253-326414be9543",
   "metadata": {},
   "outputs": [],
   "source": [
    "from wordllama import WordLlama\n",
    "\n",
    "wl = WordLlama.load()"
   ]
  },
  {
   "cell_type": "code",
   "execution_count": 13,
   "id": "cf5c2c5c-56eb-4095-9822-407170d54f4a",
   "metadata": {},
   "outputs": [],
   "source": [
    "import glob\n",
    "import json\n",
    "\n",
    "data = []\n",
    "for file in glob.glob(\"training_data/accepted/*.json\"):\n",
    "    with open(file, \"r\") as fh:\n",
    "        data.append(json.load(fh))"
   ]
  },
  {
   "cell_type": "code",
   "execution_count": 16,
   "id": "7c5aa998-860d-4add-bad3-ef4edb97370c",
   "metadata": {},
   "outputs": [],
   "source": [
    "texts = [x[\"article_text\"] for x in data]\n",
    "\n",
    "embeds = wl.embed(texts)\n",
    "sim_matrix = wl.vector_similarity(embeds, embeds)"
   ]
  },
  {
   "cell_type": "code",
   "execution_count": 44,
   "id": "a4882dd6-e9f9-4022-9c98-5617ce439d4f",
   "metadata": {},
   "outputs": [],
   "source": [
    "import numpy as np\n",
    "\n",
    "idx = np.concatenate([x[:, None] for x in np.where(sim_matrix > 0.9)], axis=1)\n",
    "deduplicate = list(filter(lambda x: x[0] < x[1], idx)) # lower triangle\n"
   ]
  },
  {
   "cell_type": "markdown",
   "id": "b0056bb9-c52e-44a8-994b-7ebd114aff3a",
   "metadata": {},
   "source": [
    "```python\n",
    "import os\n",
    "from pathlib import Path\n",
    "\n",
    "def remove_older_file(file1_path: str, file2_path: str) -> str:\n",
    "    \"\"\"\n",
    "    Compare two files and remove the older one.\n",
    "    Returns the path of the removed file.\n",
    "    \"\"\"\n",
    "    # Get modification timestamps for both files\n",
    "    time1 = os.path.getmtime(file1_path)\n",
    "    time2 = os.path.getmtime(file2_path)\n",
    "    \n",
    "    # Compare and remove older file\n",
    "    if time1 < time2:\n",
    "        os.remove(file1_path)\n",
    "        return file1_path\n",
    "    else:\n",
    "        os.remove(file2_path)\n",
    "        return file2_path\n",
    "\n",
    "\n",
    "files = list(glob.glob(\"training_data/accepted/*.json\"))\n",
    "for pair in deduplicate:\n",
    "    older_file = remove_older_file(files[pair[0]], files[pair[1]])\n",
    "    print(f\"Removed older file: {older_file}\")\n",
    "```"
   ]
  },
  {
   "cell_type": "code",
   "execution_count": null,
   "id": "a1c9ca6e-b22d-4fc7-97fe-fe73c68379b6",
   "metadata": {},
   "outputs": [],
   "source": []
  }
 ],
 "metadata": {
  "kernelspec": {
   "display_name": "Python 3 (ipykernel)",
   "language": "python",
   "name": "python3"
  },
  "language_info": {
   "codemirror_mode": {
    "name": "ipython",
    "version": 3
   },
   "file_extension": ".py",
   "mimetype": "text/x-python",
   "name": "python",
   "nbconvert_exporter": "python",
   "pygments_lexer": "ipython3",
   "version": "3.12.8"
  }
 },
 "nbformat": 4,
 "nbformat_minor": 5
}
